{
 "cells": [
  {
   "cell_type": "code",
   "execution_count": null,
   "id": "1304893d",
   "metadata": {},
   "outputs": [],
   "source": [
    "import numpy as np\n",
    "import matplotlib.pyplot as plt\n",
    "from matplotlib import rcParams\n",
    "import os\n",
    "\n",
    "plt.rcParams['figure.figsize'] = [12, 6]\n",
    "plt.rcParams.update({'font.size': 18})"
   ]
  },
  {
   "cell_type": "code",
   "execution_count": null,
   "id": "e9fe043e",
   "metadata": {},
   "outputs": [],
   "source": [
    "L = 20\n",
    "n = 80\n",
    "x2 = np.linspace(-L/2,L/2,n+1)\n",
    "x = x2[:n]\n",
    "u = np.exp(-np.power(x,2))\n",
    "u1 = np.exp(-0.1*np.power(x,2))\n",
    "u2 = np.exp(-10*np.power(x,2))\n",
    "\n",
    "ut = np.fft.fft(u)\n",
    "ut1 = np.fft.fft(u1)\n",
    "ut2 = np.fft.fft(u2)\n",
    "\n",
    "uts = np.fft.fftshift(ut)\n",
    "uts1 = np.fft.fftshift(ut1)\n",
    "uts2 = np.fft.fftshift(ut2)\n",
    "\n",
    "k = n*(2*np.pi/L)*np.fft.fftfreq(n)\n",
    "km = n*np.fft.fftfreq(n)"
   ]
  },
  {
   "cell_type": "code",
   "execution_count": null,
   "id": "939754d1",
   "metadata": {},
   "outputs": [],
   "source": [
    "fig,axs = plt.subplots(1,2)\n",
    "axs[0].plot(x,u2,'b-o')\n",
    "axs[0].plot(x,u1,'r-o')\n",
    "axs[0].plot(x,u,'k-o')\n",
    "axs[0].set_title('u(x)')\n",
    "\n",
    "axs[1].plot(km,np.abs(ut2)/np.max(np.abs(ut2)),'b-o')\n",
    "axs[1].plot(km,np.abs(ut1)/np.max(np.abs(ut1)),'r-o')\n",
    "axs[1].plot(km,np.abs(ut)/np.max(np.abs(ut)),'k-o')\n",
    "axs[1].set_title('uhat(k)')\n",
    "\n",
    "plt.show()"
   ]
  },
  {
   "cell_type": "code",
   "execution_count": null,
   "id": "3b440490",
   "metadata": {
    "lines_to_next_cell": 2
   },
   "outputs": [],
   "source": [
    "ut21 = np.zeros(n,dtype='complex_')\n",
    "ut22 = np.zeros_like(ut21)\n",
    "ut23 = np.zeros_like(ut21)\n",
    "\n",
    "erx = np.zeros(19)\n",
    "er1 = np.zeros_like(erx)\n",
    "er2 = np.zeros_like(erx)\n",
    "er3 = np.zeros_like(erx)\n",
    "\n",
    "for j in range(19):\n",
    "    for jj in range(j):\n",
    "        ut21[(int(n/2)-1-jj) : (int(n/2)+1+jj)] = uts[(int(n/2)-1-jj) : (int(n/2)+1+jj)]\n",
    "        ut22[(int(n/2)-1-jj) : (int(n/2)+1+jj)] = uts1[(int(n/2)-1-jj) : (int(n/2)+1+jj)]\n",
    "        ut23[(int(n/2)-1-jj) : (int(n/2)+1+jj)] = uts2[(int(n/2)-1-jj) : (int(n/2)+1+jj)]\n",
    "    \n",
    "    ut31 = np.fft.fftshift(ut21)\n",
    "    ut32 = np.fft.fftshift(ut22)\n",
    "    ut33 = np.fft.fftshift(ut23)\n",
    "    \n",
    "    u31 = np.fft.ifft(ut31)\n",
    "    u32 = np.fft.ifft(ut32)\n",
    "    u33 = np.fft.ifft(ut33)\n",
    "    \n",
    "    plt.plot(x,np.real(u31),'k')\n",
    "    \n",
    "    erx[j] = 2*(j+1)+1\n",
    "    er1[j] = np.linalg.norm(u-u31)\n",
    "    er2[j] = np.linalg.norm(u1-u32)\n",
    "    er3[j] = np.linalg.norm(u2-u33)"
   ]
  },
  {
   "cell_type": "code",
   "execution_count": null,
   "id": "977ec53b",
   "metadata": {},
   "outputs": [],
   "source": [
    "plt.semilogy(erx,er3,'b',linewidth=2)\n",
    "plt.semilogy(erx,er2,'r',linewidth=2)\n",
    "plt.semilogy(erx,er1,'k',linewidth=2)\n",
    "plt.ylabel('Error')\n",
    "plt.xlabel('# of modes')\n",
    "plt.grid()\n",
    "\n",
    "plt.show()"
   ]
  },
  {
   "cell_type": "code",
   "execution_count": null,
   "id": "e4d92ec8",
   "metadata": {},
   "outputs": [],
   "source": []
  }
 ],
 "metadata": {
  "kernelspec": {
   "display_name": "Python 3",
   "language": "python",
   "name": "python3"
  }
 },
 "nbformat": 4,
 "nbformat_minor": 5
}
