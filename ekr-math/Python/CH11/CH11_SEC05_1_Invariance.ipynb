{
 "cells": [
  {
   "cell_type": "code",
   "execution_count": null,
   "id": "69043b7c",
   "metadata": {},
   "outputs": [],
   "source": [
    "import numpy as np\n",
    "import matplotlib.pyplot as plt\n",
    "from matplotlib import rcParams, cm\n",
    "from scipy import integrate\n",
    "from mpl_toolkits.mplot3d import Axes3D \n",
    "\n",
    "\n",
    "plt.rcParams['figure.figsize'] = [12, 12]\n",
    "plt.rcParams.update({'font.size': 18})"
   ]
  },
  {
   "cell_type": "code",
   "execution_count": null,
   "id": "19aa08a0",
   "metadata": {},
   "outputs": [],
   "source": [
    "L = 20\n",
    "n = 100\n",
    "x = np.linspace(-L,L,n)\n",
    "y = np.copy(x)\n",
    "\n",
    "X,Y = np.meshgrid(x,y)\n",
    "\n",
    "Xd = np.zeros((n**2,n))\n",
    "for jj in range(n):\n",
    "    u = np.tanh(np.sqrt(np.power(X,2)+np.power(Y,2))) * \\\n",
    "            np.cos(np.angle(X+(1j)*Y)- \\\n",
    "            np.sqrt(np.power(X,2)+np.power(Y,2)) + \\\n",
    "           (jj+1)/10)\n",
    "    f = np.exp(-0.01*(np.power(X,2) + np.power(Y,2)))\n",
    "    uf = u * f\n",
    "    Xd[:,jj] = uf.reshape(-1)\n",
    "\n",
    "plt.pcolor(x,y,uf,cmap='hot')\n",
    "plt.show()"
   ]
  },
  {
   "cell_type": "code",
   "execution_count": null,
   "id": "ad0a9dee",
   "metadata": {},
   "outputs": [],
   "source": [
    "U,S,VT = np.linalg.svd(Xd,full_matrices=0)\n",
    "V = VT.T\n",
    "\n",
    "plt.rcParams['figure.figsize'] = [12, 6]\n",
    "\n",
    "[plt.plot(V[:,k],linewidth=2,label='mode {}'.format(k+1)) for k in range(4)]\n",
    "\n",
    "plt.legend(loc='lower right')\n",
    "plt.show()"
   ]
  },
  {
   "cell_type": "code",
   "execution_count": null,
   "id": "64c53847",
   "metadata": {},
   "outputs": [],
   "source": [
    "fig, axs = plt.subplots(2,1)\n",
    "axs[0].plot(100*S/np.sum(S),'ko',ms=10)\n",
    "axs[0].set_ylabel('Singular Values')\n",
    "axs[1].semilogy(100*S/np.sum(S),'ko',ms=10)\n",
    "axs[1].set_ylabel('Singular Values (log)')\n",
    "\n",
    "for ax in axs:\n",
    "    ax.set_xlim(-1,40)\n",
    "\n",
    "plt.show()"
   ]
  },
  {
   "cell_type": "code",
   "execution_count": null,
   "id": "af936447",
   "metadata": {
    "lines_to_next_cell": 2
   },
   "outputs": [],
   "source": [
    "plt.rcParams['figure.figsize'] = [12, 12]\n",
    "fig,axs = plt.subplots(2,2)\n",
    "axs = axs.reshape(-1)\n",
    "\n",
    "for jj in range(4):\n",
    "    mode = np.reshape(U[:,jj],(n,n))\n",
    "    axs[jj].pcolor(X,Y,mode,cmap='gray')\n",
    "    axs[jj].axis(False)"
   ]
  },
  {
   "cell_type": "code",
   "execution_count": null,
   "id": "c3f9d8d9",
   "metadata": {},
   "outputs": [],
   "source": [
    "u = np.tanh(np.sqrt(np.power(X,2)+np.power(Y,2))) * \\\n",
    "            np.cos(np.angle(X+(1j)*Y)- \\\n",
    "            np.sqrt(np.power(X,2)+np.power(Y,2)))\n",
    "f = np.exp(-0.01*(np.power(X,2)+np.power(Y,2)))\n",
    "uf = u*f\n",
    "\n",
    "plt.rcParams['figure.figsize'] = [12,4]\n",
    "fig,axs = plt.subplots(1,3)\n",
    "axs[0].pcolor(x,y,uf,cmap='gray')\n",
    "axs[1].pcolor(x,y,np.abs(uf),cmap='gray')\n",
    "axs[2].pcolor(x,y,np.power(uf,5),cmap='gray')\n",
    "\n",
    "for ax in axs:\n",
    "    ax.axis(False)"
   ]
  },
  {
   "cell_type": "code",
   "execution_count": null,
   "id": "506f2eef",
   "metadata": {},
   "outputs": [],
   "source": [
    "## Translation\n",
    "n = 200\n",
    "L = 20\n",
    "x = np.linspace(-L,L,n) # space\n",
    "y = np.copy(x)\n",
    "m = 41\n",
    "T = 10\n",
    "t = np.linspace(0,T,m) # time\n",
    "c = 3 # wave speed\n",
    "\n",
    "X = np.zeros((n,m))\n",
    "for jj in range(m):\n",
    "    X[:,jj] = np.exp(-np.power(x+15-c*t[jj],2))\n",
    "    \n",
    "U,S,VT = np.linalg.svd(X)\n",
    "V = VT.T"
   ]
  },
  {
   "cell_type": "code",
   "execution_count": null,
   "id": "9411c42b",
   "metadata": {},
   "outputs": [],
   "source": [
    "plt.rcParams['figure.figsize'] = [12,12]\n",
    "fig = plt.figure()\n",
    "ax = fig.add_subplot(1,1,1,projection='3d')\n",
    "ax.view_init(elev=70, azim=-70)\n",
    "\n",
    "for jj in range(m):\n",
    "    ax.plot(x,t[jj]*np.ones_like(x),X[:,jj],'k',linewidth=0.75)"
   ]
  },
  {
   "cell_type": "code",
   "execution_count": null,
   "id": "c33d082f",
   "metadata": {},
   "outputs": [],
   "source": [
    "U2,S2,V2T = np.linalg.svd(X)\n",
    "V2 = V2T.T\n",
    "\n",
    "fig, axs = plt.subplots(2,1)\n",
    "axs[0].plot(100*S2/np.sum(S2),'ko',ms=10)\n",
    "axs[0].set_ylabel('Singular Values')\n",
    "axs[1].semilogy(100*S2/np.sum(S2),'ko',ms=10)\n",
    "axs[1].set_ylabel('Singular Values (log)')\n",
    "\n",
    "for ax in axs:\n",
    "    ax.set_xlim(-1,40)\n",
    "\n",
    "plt.show()"
   ]
  },
  {
   "cell_type": "code",
   "execution_count": null,
   "id": "3bfcce9e",
   "metadata": {},
   "outputs": [],
   "source": []
  }
 ],
 "metadata": {
  "kernelspec": {
   "display_name": "Python 3",
   "language": "python",
   "name": "python3"
  }
 },
 "nbformat": 4,
 "nbformat_minor": 5
}
