{
 "cells": [
  {
   "cell_type": "code",
   "execution_count": null,
   "id": "8131100f",
   "metadata": {},
   "outputs": [],
   "source": [
    "import numpy as np\n",
    "import matplotlib.pyplot as plt\n",
    "from matplotlib.colors import LightSource, Normalize\n",
    "from matplotlib import rcParams, cm\n",
    "from scipy import integrate\n",
    "from mpl_toolkits.mplot3d import Axes3D \n",
    "\n",
    "\n",
    "plt.rcParams['figure.figsize'] = [12, 6]\n",
    "plt.rcParams.update({'font.size': 18})"
   ]
  },
  {
   "cell_type": "code",
   "execution_count": null,
   "id": "0ad01a30",
   "metadata": {},
   "outputs": [],
   "source": [
    "L = 30\n",
    "n = 512\n",
    "x2 = np.linspace(-L/2,L/2,n+1)\n",
    "x = x2[:n] # Spatial discretization\n",
    "\n",
    "k = n*(2*np.pi/L)*np.fft.fftfreq(n)\n",
    "V = np.power(x,2) # potential\n",
    "t = np.arange(0,20,.2) # time domain collection points"
   ]
  },
  {
   "cell_type": "code",
   "execution_count": null,
   "id": "4364aa41",
   "metadata": {},
   "outputs": [],
   "source": [
    "def harm_rhs(ut_split,t,k=k,V=V,n=n):\n",
    "    ut = ut_split[:n] + (1j)*ut_split[n:]\n",
    "    u = np.fft.ifft(ut)\n",
    "    rhs = -0.5*(1j)*np.power(k,2)*ut - 0.5*(1j)*np.fft.fft(V*u)\n",
    "    rhs_split = np.concatenate((np.real(rhs),np.imag(rhs)))\n",
    "    return rhs_split"
   ]
  },
  {
   "cell_type": "code",
   "execution_count": null,
   "id": "adc990e9",
   "metadata": {},
   "outputs": [],
   "source": [
    "u = np.exp(-0.2*np.power(x-1,2)) # initial conditions\n",
    "ut = np.fft.fft(u) # FFT initial data\n",
    "ut_split = np.concatenate((np.real(ut),np.imag(ut)))\n",
    "\n",
    "utsol_split = integrate.odeint(harm_rhs,ut_split,t,mxstep=10**6)\n",
    "utsol = utsol_split[:,:n] + (1j)*utsol_split[:,n:]\n",
    "\n",
    "usol = np.zeros_like(utsol)\n",
    "for jj in range(len(t)):\n",
    "    usol[jj,:] = np.fft.ifft(utsol[jj,:])"
   ]
  },
  {
   "cell_type": "code",
   "execution_count": null,
   "id": "2400210b",
   "metadata": {},
   "outputs": [],
   "source": [
    "u2 = np.exp(-0.2*np.power(x-0,2)) # initial conditions\n",
    "ut2 = np.fft.fft(u2) # FFT initial data\n",
    "ut2_split = np.concatenate((np.real(ut2),np.imag(ut2)))\n",
    "\n",
    "ut2sol_split = integrate.odeint(harm_rhs,ut2_split,t,mxstep=10**6)\n",
    "ut2sol = ut2sol_split[:,:n] + (1j)*ut2sol_split[:,n:]\n",
    "\n",
    "u2sol = np.zeros_like(ut2sol)\n",
    "for jj in range(len(t)):\n",
    "    u2sol[jj,:] = np.fft.ifft(ut2sol[jj,:])"
   ]
  },
  {
   "cell_type": "code",
   "execution_count": null,
   "id": "0d2d5006",
   "metadata": {},
   "outputs": [],
   "source": [
    "ax = Axes3D(plt.figure())\n",
    "T,X = np.meshgrid(t,x)\n",
    "light = LightSource(90, 45)\n",
    "illuminated_surface = light.shade(np.abs(usol.T)+2, cmap=cm.Greys_r)\n",
    "ax.plot_surface(X, T, np.abs(usol.T)+2, rstride=1, cstride=1,linewidth=0, antialiased=True, \\\n",
    "                facecolors=illuminated_surface,vmin=0)\n",
    "\n",
    "cmap = plt.cm.Greys_r\n",
    "norm = Normalize(vmin=np.abs(usol).min(), vmax=np.abs(usol).max())\n",
    "colors = cmap(norm(np.abs(usol.T)))\n",
    "ax.plot_surface(X, T, np.zeros_like(X), rstride=1, cstride=1,linewidth=0, antialiased=False, \\\n",
    "                facecolors=colors)\n",
    "\n",
    "tv = np.zeros_like(x)+20\n",
    "Vx = np.power(x,2)\n",
    "ax.plot(x[11:-12],tv[11:-12],Vx[11:-12]/100+2,'k',linewidth=2)\n",
    "ax.set_title('u (1-centered)')\n",
    "plt.show()"
   ]
  },
  {
   "cell_type": "code",
   "execution_count": null,
   "id": "512fc14a",
   "metadata": {},
   "outputs": [],
   "source": [
    "ax = Axes3D(plt.figure())\n",
    "T,X = np.meshgrid(t,x)\n",
    "light = LightSource(90, 45)\n",
    "illuminated_surface = light.shade(np.abs(u2sol.T)+2, cmap=cm.Greys_r)\n",
    "ax.plot_surface(X, T, np.abs(u2sol.T)+2, rstride=1, cstride=1,linewidth=0, antialiased=True, \\\n",
    "                facecolors=illuminated_surface,vmin=0)\n",
    "\n",
    "cmap = plt.cm.Greys_r\n",
    "norm = Normalize(vmin=np.abs(u2sol).min(), vmax=np.abs(u2sol).max())\n",
    "colors = cmap(norm(np.abs(u2sol.T)))\n",
    "ax.plot_surface(X, T, np.zeros_like(X), rstride=1, cstride=1,linewidth=0, antialiased=False, \\\n",
    "                facecolors=colors)\n",
    "\n",
    "tv = np.zeros_like(x)+20\n",
    "Vx = np.power(x,2)\n",
    "ax.plot(x[11:-12],tv[11:-12],Vx[11:-12]/100+2,'k',linewidth=2)\n",
    "ax.set_title('u2 (0-centered)')\n",
    "plt.show()"
   ]
  },
  {
   "cell_type": "code",
   "execution_count": null,
   "id": "80b08044",
   "metadata": {},
   "outputs": [],
   "source": [
    "usol3 = np.zeros_like(usol)\n",
    "for jj in range(len(t)):\n",
    "    usol3[jj,:] = usol[jj,np.flip(np.arange(n))]\n",
    "    \n",
    "usym = np.concatenate((usol,usol3))\n",
    "\n",
    "U,S,VT = np.linalg.svd(usol.T)\n",
    "U2,S2,VT2 = np.linalg.svd(u2sol.T)\n",
    "U3,S3,VT3 = np.linalg.svd(usym.T)"
   ]
  },
  {
   "cell_type": "code",
   "execution_count": null,
   "id": "71ca47d8",
   "metadata": {},
   "outputs": [],
   "source": [
    "plt.plot(100*S/np.sum(S),'ko',linewidth=2)\n",
    "plt.title('Singular values: u (1-centered)')\n",
    "plt.show()"
   ]
  },
  {
   "cell_type": "code",
   "execution_count": null,
   "id": "4c3d5e8f",
   "metadata": {},
   "outputs": [],
   "source": [
    "plt.plot(100*S2/np.sum(S2),'ko',linewidth=2)\n",
    "plt.title('Singular values: u2 (0-centered)')\n",
    "plt.show()"
   ]
  },
  {
   "cell_type": "code",
   "execution_count": null,
   "id": "746d3c05",
   "metadata": {},
   "outputs": [],
   "source": [
    "fig,axs = plt.subplots(3,1)\n",
    "Up = np.zeros((n,5))\n",
    "for jj in range(5):\n",
    "    Up[:,jj] = np.real(U[:,jj]/np.linalg.norm(U[:,jj]))\n",
    "    \n",
    "[axs[2].plot(x,np.real(Up[:,k]),linewidth=2,label='mode {}'.format(k+1)) for k in range(5)]\n",
    "\n",
    "Up2 = np.zeros((n,5))\n",
    "for jj in range(5):\n",
    "    Up2[:,jj] = np.real(U2[:,jj]/np.linalg.norm(U2[:,jj]))\n",
    "    \n",
    "[axs[1].plot(x,np.real(Up2[:,k]),linewidth=2) for k in range(5)]\n",
    "\n",
    "\n",
    "h = np.array([np.ones_like(x),2*x,4*np.power(x,2),8*np.power(x,3)-12*x,\\\n",
    "             16*np.power(x,4)-48*np.power(x,2)+12])\n",
    "\n",
    "phi = np.zeros((n,5))\n",
    "phi2 = np.zeros((n,5))\n",
    "\n",
    "\n",
    "for jj in range(5):\n",
    "    phi[:,jj] = (1/(np.sqrt(np.math.factorial(jj)*(2**jj)*np.sqrt(np.pi))) * \\\n",
    "                np.exp(-np.power(x,2)/2)*h[jj,:])\n",
    "    phi2[:,jj] = phi[:,jj]/np.linalg.norm(phi[:,jj])\n",
    "    \n",
    "[axs[0].plot(x,np.real(phi2[:,k]),linewidth=2) for k in range(5)]\n",
    "\n",
    "for ax in axs:\n",
    "    ax.set_xlim(-5,5)\n",
    "    \n",
    "axs[1].set_ylabel('u2')\n",
    "axs[2].set_ylabel('u')\n",
    "axs[2].legend(bbox_to_anchor=(1.03,1.55), loc=\"upper left\")\n",
    "plt.show()"
   ]
  },
  {
   "cell_type": "code",
   "execution_count": null,
   "id": "99cef836",
   "metadata": {},
   "outputs": [],
   "source": []
  }
 ],
 "metadata": {
  "kernelspec": {
   "display_name": "Python 3",
   "language": "python",
   "name": "python3"
  }
 },
 "nbformat": 4,
 "nbformat_minor": 5
}
