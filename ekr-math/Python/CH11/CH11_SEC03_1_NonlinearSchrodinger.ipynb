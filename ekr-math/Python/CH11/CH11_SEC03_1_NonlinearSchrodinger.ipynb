{
 "cells": [
  {
   "cell_type": "code",
   "execution_count": null,
   "id": "edb90967",
   "metadata": {},
   "outputs": [],
   "source": [
    "import numpy as np\n",
    "import matplotlib.pyplot as plt\n",
    "from matplotlib import rcParams, cm\n",
    "from scipy import integrate\n",
    "from mpl_toolkits.mplot3d import Axes3D \n",
    "\n",
    "\n",
    "plt.rcParams['figure.figsize'] = [12, 12]\n",
    "plt.rcParams.update({'font.size': 18})"
   ]
  },
  {
   "cell_type": "code",
   "execution_count": null,
   "id": "ab83e32f",
   "metadata": {},
   "outputs": [],
   "source": [
    "L = 40\n",
    "n = 512\n",
    "x2 = np.linspace(-L/2,L/2,n+1)\n",
    "x = x2[:n] # Spatial discretization\n",
    "\n",
    "k = n*(2*np.pi/L)*np.fft.fftfreq(n)\n",
    "t = np.linspace(0,2*np.pi,21) "
   ]
  },
  {
   "cell_type": "code",
   "execution_count": null,
   "id": "a38cc7ad",
   "metadata": {},
   "outputs": [],
   "source": [
    "def nls_rhs(ut_split,t,k=k):\n",
    "    ut = ut_split[:n] + (1j)*ut_split[n:]\n",
    "    u = np.fft.ifft(ut)\n",
    "    rhs = -0.5*(1j)*np.power(k,2)*ut + (1j)*np.fft.fft(np.power(np.abs(u),2)*u)\n",
    "    rhs_split = np.concatenate((np.real(rhs),np.imag(rhs)))\n",
    "    return rhs_split"
   ]
  },
  {
   "cell_type": "code",
   "execution_count": null,
   "id": "b867e77a",
   "metadata": {
    "lines_to_next_cell": 2
   },
   "outputs": [],
   "source": [
    "N = 1\n",
    "u = N/np.cosh(x)   # initial conditions\n",
    "ut = np.fft.fft(u) # FFT initial data\n",
    "ut_split = np.concatenate((np.real(ut),np.imag(ut))) # Separate real/complex pieces\n",
    "\n",
    "utsol_split = integrate.odeint(nls_rhs,ut_split,t,mxstep=10**6)\n",
    "utsol = utsol_split[:,:n] + (1j)*utsol_split[:,n:]\n",
    "\n",
    "usol = np.zeros_like(utsol)\n",
    "for jj in range(len(t)):\n",
    "    usol[jj,:] = np.fft.ifft(utsol[jj,:]) # transforming back"
   ]
  },
  {
   "cell_type": "code",
   "execution_count": null,
   "id": "bf7727d3",
   "metadata": {
    "lines_to_next_cell": 2
   },
   "outputs": [],
   "source": [
    "N = 2\n",
    "u2 = N/np.cosh(x)   # initial conditions\n",
    "ut2 = np.fft.fft(u2) # FFT initial data\n",
    "ut2_split = np.concatenate((np.real(ut2),np.imag(ut2))) # Separate real/complex pieces\n",
    "\n",
    "ut2sol_split = integrate.odeint(nls_rhs,ut2_split,t,mxstep=10**6)\n",
    "ut2sol = ut2sol_split[:,:n] + (1j)*ut2sol_split[:,n:]\n",
    "\n",
    "u2sol = np.zeros_like(ut2sol)\n",
    "for jj in range(len(t)):\n",
    "    u2sol[jj,:] = np.fft.ifft(ut2sol[jj,:]) # transforming back"
   ]
  },
  {
   "cell_type": "code",
   "execution_count": null,
   "id": "b4acf4e8",
   "metadata": {},
   "outputs": [],
   "source": [
    "fig = plt.figure()\n",
    "axs = [fig.add_subplot(2, 2, k, projection='3d') for k in range(1,5)]\n",
    "\n",
    "for ax in axs:\n",
    "    ax.view_init(elev=25, azim=110)\n",
    "\n",
    "\n",
    "for tt in range(len(t)):\n",
    "    axs[0].plot(x,t[tt]*np.ones_like(x),np.abs(usol[tt,:]),color='k',linewidth=0.75)\n",
    "    axs[2].plot(np.fft.fftshift(k),t[tt]*np.ones_like(x), \\\n",
    "                np.abs(np.fft.fftshift(utsol[tt,:])),color='k',linewidth=0.75)\n",
    "    \n",
    "    axs[1].plot(x,t[tt]*np.ones_like(x),np.abs(u2sol[tt,:]),color='k',linewidth=0.75)\n",
    "    axs[3].plot(np.fft.fftshift(k),t[tt]*np.ones_like(x), \\\n",
    "                np.abs(np.fft.fftshift(ut2sol[tt,:])),color='k',linewidth=0.75)\n",
    "\n",
    "plt.show()"
   ]
  },
  {
   "cell_type": "code",
   "execution_count": null,
   "id": "99e0e8ed",
   "metadata": {},
   "outputs": [],
   "source": [
    "U,S,VT = np.linalg.svd(usol.T)\n",
    "U2,S2,VT2 = np.linalg.svd(u2sol.T)"
   ]
  },
  {
   "cell_type": "code",
   "execution_count": null,
   "id": "f4c499f7",
   "metadata": {},
   "outputs": [],
   "source": [
    "plt.rcParams['figure.figsize'] = [12, 6]\n",
    "\n",
    "fig,axs = plt.subplots(1,2)\n",
    "axs[0].semilogy(100*S/np.sum(S),'ko',ms=10)\n",
    "axs[0].semilogy(0,100*S[0]/np.sum(S),'bo',ms=10)\n",
    "axs[0].semilogy(1,100*S[1]/np.sum(S),'go',ms=10)\n",
    "axs[0].semilogy(2,100*S[2]/np.sum(S),'ro',ms=10)\n",
    "axs[0].set_xlim(-1,21)\n",
    "\n",
    "axs[1].semilogy(100*S2/np.sum(S2),'ko',ms=10)\n",
    "axs[1].semilogy(0,100*S2[0]/np.sum(S2),'bo',ms=10)\n",
    "axs[1].semilogy(1,100*S2[1]/np.sum(S2),'go',ms=10)\n",
    "axs[1].semilogy(2,100*S2[2]/np.sum(S2),'ro',ms=10)\n",
    "axs[1].set_xlim(-1,21)\n",
    "\n",
    "plt.show()"
   ]
  },
  {
   "cell_type": "code",
   "execution_count": null,
   "id": "f1623cae",
   "metadata": {},
   "outputs": [],
   "source": [
    "color_list = ['b','g','r']\n",
    "for jj in range(3):\n",
    "    plt.plot(x,np.real(U[:,jj]),color=color_list[jj],linewidth=2, \\\n",
    "             label='mode {}'.format(jj+1))\n",
    "plt.legend()\n",
    "plt.show()"
   ]
  },
  {
   "cell_type": "code",
   "execution_count": null,
   "id": "54feaffb",
   "metadata": {},
   "outputs": [],
   "source": [
    "for jj in range(3):\n",
    "    plt.plot(x,np.real(U2[:,jj]),color=color_list[jj],linewidth=2, \\\n",
    "        label='mode {}'.format(jj+1))\n",
    "plt.legend()\n",
    "plt.show()"
   ]
  },
  {
   "cell_type": "code",
   "execution_count": null,
   "id": "29be74da",
   "metadata": {},
   "outputs": [],
   "source": []
  }
 ],
 "metadata": {
  "kernelspec": {
   "display_name": "Python 3",
   "language": "python",
   "name": "python3"
  }
 },
 "nbformat": 4,
 "nbformat_minor": 5
}
