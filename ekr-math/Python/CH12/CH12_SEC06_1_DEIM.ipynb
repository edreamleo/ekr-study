{
 "cells": [
  {
   "cell_type": "code",
   "execution_count": null,
   "id": "b616dabc",
   "metadata": {},
   "outputs": [],
   "source": [
    "import numpy as np\n",
    "from scipy.sparse import linalg\n",
    "import matplotlib.pyplot as plt\n",
    "from matplotlib import rcParams\n",
    "from scipy import integrate\n",
    "from scipy.linalg import qr\n",
    "from mpl_toolkits.mplot3d import Axes3D \n",
    "\n",
    "\n",
    "plt.rcParams['figure.figsize'] = [10,10]\n",
    "plt.rcParams.update({'font.size': 18})"
   ]
  },
  {
   "cell_type": "code",
   "execution_count": null,
   "id": "6db72b50",
   "metadata": {},
   "outputs": [],
   "source": [
    "# spatial discretization\n",
    "L = 40 \n",
    "n = 256\n",
    "x2 = np.linspace(-L/2,L/2,n+1)\n",
    "x = x2[:n]\n",
    "\n",
    "# wavenumbers for FFT\n",
    "k = n*(2*np.pi/L)*np.fft.fftfreq(n) # k-vector\n",
    "\n",
    "# time domain collection points\n",
    "t = np.linspace(0,2*np.pi,61)"
   ]
  },
  {
   "cell_type": "code",
   "execution_count": null,
   "id": "21977448",
   "metadata": {},
   "outputs": [],
   "source": [
    "def ch_pod_sol_rhs(ut_split,t,k=k):\n",
    "    ut = ut_split[:n] + (1j)*ut_split[n:]\n",
    "    u = np.fft.ifft(ut)\n",
    "    rhs = -0.5*(1j)*np.power(k,2)*ut + (1j)*np.fft.fft(np.power(np.abs(u),2)*u)\n",
    "    rhs_split = np.concatenate((np.real(rhs),np.imag(rhs)))\n",
    "    return rhs_split"
   ]
  },
  {
   "cell_type": "code",
   "execution_count": null,
   "id": "8542da99",
   "metadata": {
    "lines_to_next_cell": 2
   },
   "outputs": [],
   "source": [
    "N = 2\n",
    "u0 = N/np.cosh(x)\n",
    "ut = np.fft.fft(u0)\n",
    "\n",
    "ut_split = np.concatenate((np.real(ut),np.imag(ut))) # Separate real/complex pieces\n",
    "\n",
    "utsol_split = integrate.odeint(ch_pod_sol_rhs,ut_split,t,mxstep=10**6)\n",
    "utsol = utsol_split[:,:n] + (1j)*utsol_split[:,n:]\n",
    "\n",
    "usol = np.zeros_like(utsol)\n",
    "for jj in range(len(t)):\n",
    "    usol[jj,:] = np.fft.ifft(utsol[jj,:]) # transforming back"
   ]
  },
  {
   "cell_type": "code",
   "execution_count": null,
   "id": "0c9a4b4a",
   "metadata": {},
   "outputs": [],
   "source": [
    "fig = plt.figure()\n",
    "ax = fig.add_subplot(1, 1, 1, projection='3d')\n",
    "ax.view_init(elev=25, azim=110)\n",
    "\n",
    "for tt in range(len(t)):\n",
    "    ax.plot(x,t[tt]*np.ones_like(x),np.abs(usol[tt,:]),color='k',linewidth=0.75)\n",
    "\n",
    "ax.set_ylim(0,2*np.pi)\n",
    "plt.show()"
   ]
  },
  {
   "cell_type": "code",
   "execution_count": null,
   "id": "51ea8de3",
   "metadata": {},
   "outputs": [],
   "source": [
    "X = usol.T # data matrix X\n",
    "U,S,WT = np.linalg.svd(X,full_matrices=0) # SVD reduction\n",
    "\n",
    "r = 3 # select rank truncation\n",
    "Psi = U[:,:r] # select POD modes\n",
    "a0 = Psi.T @ u0 # project initial conditions"
   ]
  },
  {
   "cell_type": "code",
   "execution_count": null,
   "id": "30061934",
   "metadata": {},
   "outputs": [],
   "source": [
    "NL = (1j)*np.power(np.abs(X),2)*X\n",
    "XI,S_NL,WT = np.linalg.svd(NL,full_matrices=0)\n",
    "\n",
    "# First DEIM point\n",
    "nmax = np.argmax(np.abs(XI[:,0]))\n",
    "XI_m = XI[:,0].reshape(n,1)\n",
    "z = np.zeros((n,1))\n",
    "P = np.copy(z)\n",
    "P[nmax] = 1\n",
    "\n",
    "# DEIM points 2 to r\n",
    "for jj in range(1,r):\n",
    "    c = np.linalg.solve(P.T @ XI_m, P.T @ XI[:,jj].reshape(n,1))\n",
    "    res = XI[:,jj].reshape(n,1) - XI_m @ c\n",
    "    nmax = np.argmax(np.abs(res))\n",
    "    XI_m = np.concatenate((XI_m,XI[:,jj].reshape(n,1)),axis=1)\n",
    "    P = np.concatenate((P,z),axis=1)\n",
    "    P[nmax,jj] = 1"
   ]
  },
  {
   "cell_type": "code",
   "execution_count": null,
   "id": "435cf7bf",
   "metadata": {},
   "outputs": [],
   "source": [
    "P_NL = Psi.T @ (XI_m @ np.linalg.inv(P.T @ XI_m)) # nonlinear projection\n",
    "P_Psi = P.T @ Psi # interpolation of Psi\n",
    "\n",
    "Lxx = np.zeros((n,r),dtype='complex_')\n",
    "for jj in range(r):\n",
    "    Lxx[:,jj] = np.fft.ifft(-np.power(k,2)*np.fft.fft(Psi[:,jj]))\n",
    "\n",
    "L = 0.5 * (1j) * Psi.T @ Lxx # projected linear term"
   ]
  },
  {
   "cell_type": "code",
   "execution_count": null,
   "id": "dcf0a6d7",
   "metadata": {},
   "outputs": [],
   "source": [
    "def rom_deim_rhs(a_split,tspan,P_NL=P_NL,P_Psi=P_Psi,L=L):\n",
    "    a = a_split[:r] + (1j)*a_split[r:]\n",
    "    N = P_Psi @ a\n",
    "    rhs = L @ a + (1j) * P_NL @ (np.power(np.abs(N),2)*N)\n",
    "    rhs_split = np.concatenate((np.real(rhs),np.imag(rhs)))\n",
    "    return rhs_split"
   ]
  },
  {
   "cell_type": "code",
   "execution_count": null,
   "id": "19e1d9dc",
   "metadata": {},
   "outputs": [],
   "source": [
    "a0_split = np.concatenate((np.real(a0),np.imag(a0))) # Separate real/complex pieces\n",
    "\n",
    "a_split = integrate.odeint(rom_deim_rhs,a0_split,t,mxstep=10**6)\n",
    "a = a_split[:,:r] + (1j)*a_split[:,r:]\n",
    "\n",
    "Xtilde = Psi @ a.T # DEIM approximation"
   ]
  },
  {
   "cell_type": "code",
   "execution_count": null,
   "id": "303e6c54",
   "metadata": {},
   "outputs": [],
   "source": [
    "fig = plt.figure()\n",
    "ax = fig.add_subplot(1, 1, 1, projection='3d')\n",
    "ax.view_init(elev=25, azim=110)\n",
    "\n",
    "for tt in range(len(t)):\n",
    "    ax.plot(x,t[tt]*np.ones_like(x),np.abs(Xtilde[:,tt]),color='k',linewidth=0.75)\n",
    "\n",
    "ax.set_ylim(0,2*np.pi)\n",
    "plt.show()"
   ]
  },
  {
   "cell_type": "code",
   "execution_count": null,
   "id": "8b39b8a9",
   "metadata": {},
   "outputs": [],
   "source": [
    "## QR DEIM\n",
    "Q,R,pivot = qr(NL.T,pivoting=True)\n",
    "P_qr = np.zeros_like(x)\n",
    "P_qr[pivot[:3]] = 1\n",
    "\n",
    "plt.rcParams['figure.figsize'] = [10,2]\n",
    "plt.bar(x,P_qr,width=0.05)\n",
    "plt.show()"
   ]
  },
  {
   "cell_type": "code",
   "execution_count": null,
   "id": "5f1d52f3",
   "metadata": {},
   "outputs": [],
   "source": []
  },
  {
   "cell_type": "code",
   "execution_count": null,
   "id": "30ed8e1d",
   "metadata": {},
   "outputs": [],
   "source": []
  }
 ],
 "metadata": {
  "kernelspec": {
   "display_name": "Python 3",
   "language": "python",
   "name": "python3"
  }
 },
 "nbformat": 4,
 "nbformat_minor": 5
}
