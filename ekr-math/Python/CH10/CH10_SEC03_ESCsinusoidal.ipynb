{
 "cells": [
  {
   "cell_type": "code",
   "execution_count": null,
   "id": "3d388705",
   "metadata": {},
   "outputs": [],
   "source": [
    "import numpy as np\n",
    "import matplotlib.pyplot as plt\n",
    "from matplotlib import rcParams\n",
    "from scipy import io, signal\n",
    "import os\n",
    "\n",
    "plt.rcParams['figure.figsize'] = [8, 8]\n",
    "plt.rcParams.update({'font.size': 18})"
   ]
  },
  {
   "cell_type": "code",
   "execution_count": null,
   "id": "0c133817",
   "metadata": {},
   "outputs": [],
   "source": [
    "J = lambda u,t: (25-np.power((5-u-np.sin(t)),2)) \n",
    "u = 0\n",
    "y0 = J(u,0)"
   ]
  },
  {
   "cell_type": "code",
   "execution_count": null,
   "id": "8a91577a",
   "metadata": {},
   "outputs": [],
   "source": [
    "## Extremum Seeking Control Parameters\n",
    "freq = 100 # sample frequency\n",
    "dt = 1/freq\n",
    "T = 100 # total period of simulation (in seconds)\n",
    "A = 0.2 # amplitude\n",
    "omega = 10*2*np.pi # 10 Hz\n",
    "phase = 0\n",
    "K = 5 # Integration gain"
   ]
  },
  {
   "cell_type": "code",
   "execution_count": null,
   "id": "24cf8896",
   "metadata": {},
   "outputs": [],
   "source": [
    "## High pass filter (Butterworth filter)\n",
    "butterorder = 1\n",
    "butterfreq = 2 # in Hz\n",
    "butterfreq = butterfreq/(freq/2) # normalize to Nyquist frequency\n",
    "b,a = signal.butter(butterorder,butterfreq,'highpass')\n",
    "ys = np.zeros(butterorder+1)+y0\n",
    "HPF = np.zeros(butterorder+1)\n",
    "\n",
    "uhat = u\n",
    "yvals = np.zeros(int(T/dt))\n",
    "uhats = np.zeros_like(yvals)\n",
    "uvals = np.zeros_like(yvals)\n",
    "for ii in range(int(T/dt)):\n",
    "    t = ii*dt\n",
    "    yvals[ii] = J(u,t)\n",
    "    for k in range(butterorder):\n",
    "        ys[k] = ys[k+1]\n",
    "        HPF[k] = HPF[k+1]\n",
    "    ys[butterorder] = yvals[ii]\n",
    "    HPFnew = 0\n",
    "    for k in range(butterorder+1):\n",
    "        HPFnew = HPFnew + b[k]*ys[butterorder-k]\n",
    "    for k in range(1,butterorder+1):\n",
    "        HPFnew = HPFnew - a[k]*HPF[butterorder-k]\n",
    "    \n",
    "    HPF[butterorder] = HPFnew\n",
    "    \n",
    "    xi = HPFnew*np.sin(omega*t + phase)\n",
    "    uhat = uhat + xi*K*dt\n",
    "    u = uhat + A*np.sin(omega*t + phase)\n",
    "    uhats[ii] = uhat\n",
    "    uvals[ii] = u"
   ]
  },
  {
   "cell_type": "code",
   "execution_count": null,
   "id": "16c5ccb2",
   "metadata": {},
   "outputs": [],
   "source": [
    "## Figures\n",
    "tspan = dt*np.arange(int(T/dt))\n",
    "fig,axs = plt.subplots(2,1)\n",
    "axs[0].plot(tspan,uvals,linewidth=1.2,label='u')\n",
    "axs[0].plot(tspan,uhats,linewidth=1.2,label='uhat')\n",
    "axs[0].legend()\n",
    "axs[0].grid()\n",
    "\n",
    "axs[1].plot(tspan,yvals,linewidth=1.2)\n",
    "axs[1].grid()\n",
    "axs[1].set_ylim(-1,26)\n",
    "\n",
    "plt.show()"
   ]
  },
  {
   "cell_type": "code",
   "execution_count": null,
   "id": "53510149",
   "metadata": {},
   "outputs": [],
   "source": []
  }
 ],
 "metadata": {
  "kernelspec": {
   "display_name": "Python 3",
   "language": "python",
   "name": "python3"
  }
 },
 "nbformat": 4,
 "nbformat_minor": 5
}
