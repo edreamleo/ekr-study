{
 "cells": [
  {
   "cell_type": "code",
   "execution_count": null,
   "id": "348cf6cd",
   "metadata": {},
   "outputs": [],
   "source": [
    "import numpy as np\n",
    "import matplotlib.pyplot as plt\n",
    "from matplotlib import rcParams\n",
    "from scipy import io\n",
    "import os\n",
    "from mpl_toolkits import mplot3d\n",
    "from sklearn.discriminant_analysis import LinearDiscriminantAnalysis\n",
    "from sklearn.discriminant_analysis import QuadraticDiscriminantAnalysis\n",
    "\n",
    "rcParams.update({'font.size': 18})\n",
    "plt.rcParams['figure.figsize'] = [12, 12]"
   ]
  },
  {
   "cell_type": "code",
   "execution_count": null,
   "id": "e34cdef0",
   "metadata": {},
   "outputs": [],
   "source": [
    "dogdata_w_mat = io.loadmat(os.path.join('..','DATA','dogData_w.mat'))\n",
    "catdata_w_mat = io.loadmat(os.path.join('..','DATA','catData_w.mat'))\n",
    "\n",
    "dog_wave = dogdata_w_mat['dog_wave']\n",
    "cat_wave = catdata_w_mat['cat_wave']\n",
    "\n",
    "CD = np.concatenate((dog_wave,cat_wave),axis=1)\n",
    "\n",
    "u,s,vT = np.linalg.svd(CD-np.mean(CD),full_matrices=0)\n",
    "v = vT.T"
   ]
  },
  {
   "cell_type": "code",
   "execution_count": null,
   "id": "9a2a1a74",
   "metadata": {},
   "outputs": [],
   "source": [
    "xtrain = np.concatenate((v[:60,np.array([1,3])],v[80:140,np.array([1,3])]))\n",
    "label = np.repeat(np.array([1,-1]),60)\n",
    "test = np.concatenate((v[60:80,np.array([1,3])],v[140:160,np.array([1,3])]))\n",
    "\n",
    "lda = LinearDiscriminantAnalysis()\n",
    "test_class = lda.fit(xtrain, label).predict(test)\n",
    "\n",
    "truth = np.repeat(np.array([1,-1]),20)\n",
    "E = 100*(1-np.sum(0.5*np.abs(test_class - truth))/40)\n",
    "\n",
    "fig,axs = plt.subplots(2)\n",
    "axs[0].bar(range(40),test_class)\n",
    "\n",
    "axs[1].plot(v[:80,1],v[:80,3],'ro',MarkerFaceColor=(0,1,0.2),MarkerEdgeColor='k',ms=12)\n",
    "axs[1].plot(v[80:,1],v[80:,3],'bo',MarkerFaceColor=(0.9,0,1),MarkerEdgeColor='k',ms=12)\n",
    "\n",
    "plt.show()"
   ]
  },
  {
   "cell_type": "code",
   "execution_count": null,
   "id": "f36ce6f6",
   "metadata": {},
   "outputs": [],
   "source": [
    "plt.rcParams['figure.figsize'] = [8,4]\n",
    "fig,axs = plt.subplots(1,2)\n",
    "for j in range(2):\n",
    "    U3 = np.flipud(np.reshape(u[:,2*j+1],(32,32)))\n",
    "    axs[j].pcolor(np.rot90(U3),cmap='hot')\n",
    "    axs[j].axis('off')"
   ]
  },
  {
   "cell_type": "code",
   "execution_count": null,
   "id": "3f4febaf",
   "metadata": {},
   "outputs": [],
   "source": [
    "dogdata_mat = io.loadmat(os.path.join('..','DATA','dogData.mat'))\n",
    "catdata_mat = io.loadmat(os.path.join('..','DATA','catData.mat'))\n",
    "\n",
    "dog = dogdata_mat['dog']\n",
    "cat = catdata_mat['cat']\n",
    "\n",
    "CD = np.concatenate((dog,cat),axis=1)\n",
    "\n",
    "u,s,vT = np.linalg.svd(CD-np.mean(CD),full_matrices=0)\n",
    "v = vT.T"
   ]
  },
  {
   "cell_type": "code",
   "execution_count": null,
   "id": "533ba5a9",
   "metadata": {},
   "outputs": [],
   "source": [
    "plt.rcParams['figure.figsize'] = [12, 12]\n",
    "xtrain = np.concatenate((v[:60,np.array([1,3])],v[80:140,np.array([1,3])]))\n",
    "label = np.repeat(np.array([1,-1]),60)\n",
    "test = np.concatenate((v[60:80,np.array([1,3])],v[140:160,np.array([1,3])]))\n",
    "\n",
    "lda = LinearDiscriminantAnalysis()\n",
    "test_class = lda.fit(xtrain, label).predict(test)\n",
    "\n",
    "fig,axs = plt.subplots(2)\n",
    "axs[0].bar(range(40),test_class)\n",
    "\n",
    "axs[1].plot(v[:80,1],v[:80,3],'ro',MarkerFaceColor=(0,1,0.2),MarkerEdgeColor='k',ms=12)\n",
    "axs[1].plot(v[80:,1],v[80:,3],'bo',MarkerFaceColor=(0.9,0,1),MarkerEdgeColor='k',ms=12)\n",
    "\n",
    "plt.show()"
   ]
  },
  {
   "cell_type": "code",
   "execution_count": null,
   "id": "f9872551",
   "metadata": {},
   "outputs": [],
   "source": [
    "## Cross-validate\n",
    "E = np.zeros(100)\n",
    "\n",
    "for jj in range(100):\n",
    "    r1 = np.random.permutation(80)\n",
    "    r2 = np.random.permutation(80)\n",
    "    ind1 = r1[:60]\n",
    "    ind2 = r2[:60]+60\n",
    "    ind1t = r1[60:80]\n",
    "    ind2t = r2[60:80]+60\n",
    "    \n",
    "    xtrain = np.concatenate((v[ind1[:, np.newaxis],np.array([1,3])], v[ind2[:, np.newaxis],np.array([1,3])]))\n",
    "    test = np.concatenate((v[ind1t[:, np.newaxis],np.array([1,3])], v[ind2t[:, np.newaxis],np.array([1,3])]))\n",
    "    \n",
    "    label = np.repeat(np.array([1,-1]),60)\n",
    "\n",
    "    lda = LinearDiscriminantAnalysis()\n",
    "    test_class = lda.fit(xtrain, label).predict(test)\n",
    "\n",
    "    truth = np.repeat(np.array([1,-1]),20)\n",
    "    E[jj] = 100*np.sum(np.abs(test_class-truth))/40\n",
    "    \n",
    "plt.bar(range(100),E,color=(0.5,0.5,0.5))\n",
    "plt.plot(range(100),np.mean(E)*np.ones(100),'r:',LineWidth=3)\n",
    "plt.show()"
   ]
  },
  {
   "cell_type": "code",
   "execution_count": null,
   "id": "efc7f88a",
   "metadata": {},
   "outputs": [],
   "source": [
    "dogdata_w_mat = io.loadmat(os.path.join('..','DATA','dogData_w.mat'))\n",
    "catdata_w_mat = io.loadmat(os.path.join('..','DATA','catData_w.mat'))\n",
    "\n",
    "dog_wave = dogdata_w_mat['dog_wave']\n",
    "cat_wave = catdata_w_mat['cat_wave']\n",
    "\n",
    "CD = np.concatenate((dog_wave,cat_wave),axis=1)\n",
    "\n",
    "u,s,vT = np.linalg.svd(CD-np.mean(CD),full_matrices=0)\n",
    "v = vT.T"
   ]
  },
  {
   "cell_type": "code",
   "execution_count": null,
   "id": "b876a54d",
   "metadata": {
    "lines_to_next_cell": 2
   },
   "outputs": [],
   "source": [
    "plt.rcParams['figure.figsize'] = [12, 6]\n",
    "fig,axs = plt.subplots(1,2)\n",
    "for j in range(2):\n",
    "    axs[j].plot(v[:80,1],v[:80,3],'ro',MarkerFaceColor=(0,1,0.2),MarkerEdgeColor='k',ms=12)\n",
    "    axs[j].plot(v[80:,1],v[80:,3],'bo',MarkerFaceColor=(0.9,0,1),MarkerEdgeColor='k',ms=12)\n",
    "\n",
    "# Linear Discriminant\n",
    "xtrain = np.concatenate((v[:60,np.array([1,3])],v[80:140,np.array([1,3])]))\n",
    "test = np.concatenate((v[60:80,np.array([1,3])],v[140:160,np.array([1,3])]))\n",
    "label = np.repeat(np.array([1,-1]),60)\n",
    "\n",
    "\n",
    "\n",
    "lda = LinearDiscriminantAnalysis().fit(xtrain, label)\n",
    "test_class = lda.predict(test)\n",
    "K = -lda.intercept_[0]\n",
    "L = -lda.coef_[0]\n",
    "\n",
    "\n",
    "x = np.arange(-0.15,0.25,0.005)\n",
    "axs[0].plot(x,-(L[0]*x+K)/L[1],'k',LineWidth=2)\n",
    "\n",
    "\n",
    "# Quadratic Discriminant\n",
    "qda = QuadraticDiscriminantAnalysis().fit(xtrain, label)\n",
    "y = np.arange(-0.3,0.25,0.005)\n",
    "X,Y = np.meshgrid(x,y)\n",
    "\n",
    "Z = np.zeros_like(X)\n",
    "\n",
    "for jj in range(len(x)):\n",
    "    for kk in range(len(y)):\n",
    "        Z[kk,jj] = qda.predict(np.array([[x[jj],y[kk]]]))\n",
    "\n",
    "axs[1].contour(X,Y,Z,0,colors='k',linewidths=2)        \n",
    "\n",
    "plt.show()"
   ]
  },
  {
   "cell_type": "code",
   "execution_count": null,
   "id": "4de99133",
   "metadata": {},
   "outputs": [],
   "source": []
  }
 ],
 "metadata": {
  "kernelspec": {
   "display_name": "Python 3",
   "language": "python",
   "name": "python3"
  }
 },
 "nbformat": 4,
 "nbformat_minor": 5
}
