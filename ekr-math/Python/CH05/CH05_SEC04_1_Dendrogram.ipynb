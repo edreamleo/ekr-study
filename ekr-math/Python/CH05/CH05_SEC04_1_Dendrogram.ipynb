{
 "cells": [
  {
   "cell_type": "code",
   "execution_count": null,
   "id": "0c6b3028",
   "metadata": {},
   "outputs": [],
   "source": [
    "import numpy as np\n",
    "import matplotlib.pyplot as plt\n",
    "from matplotlib import rcParams\n",
    "from scipy.cluster import hierarchy\n",
    "from scipy.spatial.distance import pdist\n",
    "\n",
    "rcParams.update({'font.size': 18})\n",
    "plt.rcParams['figure.figsize'] = [12, 12]"
   ]
  },
  {
   "cell_type": "code",
   "execution_count": null,
   "id": "5bdc6554",
   "metadata": {},
   "outputs": [],
   "source": [
    "# Training and testing set sizes\n",
    "n1 = 100 # Train\n",
    "n2 = 50  # Test\n",
    "\n",
    "# Random ellipse 1 centered at (0,0)\n",
    "x = np.random.randn(n1+n2)\n",
    "y = 0.5*np.random.randn(n1+n2)\n",
    "\n",
    "# Random ellipse 2 centered at (1,-2)\n",
    "x2 = np.random.randn(n1+n2) + 1\n",
    "y2 = 0.2*np.random.randn(n1+n2) - 2\n",
    "\n",
    "# Rotate ellipse 2 by theta\n",
    "theta = np.pi/4\n",
    "A = np.zeros((2,2))\n",
    "A[0,0] = np.cos(theta)\n",
    "A[0,1] = -np.sin(theta)\n",
    "A[1,0] = np.sin(theta)\n",
    "A[1,1] = np.cos(theta)\n",
    "\n",
    "x3 = A[0,0]*x2 + A[0,1]*y2\n",
    "y3 = A[1,0]*x2 + A[1,1]*y2"
   ]
  },
  {
   "cell_type": "code",
   "execution_count": null,
   "id": "fe9ec3bc",
   "metadata": {},
   "outputs": [],
   "source": [
    "plt.figure()\n",
    "plt.plot(x[:n1],y[:n1],'ro')\n",
    "plt.plot(x3[:n1],y3[:n1],'bo')\n",
    "plt.show()"
   ]
  },
  {
   "cell_type": "code",
   "execution_count": null,
   "id": "ccfdbe71",
   "metadata": {
    "lines_to_next_cell": 2
   },
   "outputs": [],
   "source": [
    "# Training set: first 200 of 240 points\n",
    "X1 = np.column_stack((x3[:n1],y3[:n1]))\n",
    "X2 = np.column_stack((x[:n1],y[:n1]))\n",
    "\n",
    "Y = np.concatenate((X1,X2))\n",
    "Z = np.column_stack((np.ones(n1),2*np.ones(n1)))\n",
    "\n",
    "# Test set: remaining 40 points\n",
    "x1test = np.column_stack((x3[n1:],y3[n1:]))\n",
    "x2test = np.column_stack((x[n1:],y[n1:]))"
   ]
  },
  {
   "cell_type": "code",
   "execution_count": null,
   "id": "06c758b8",
   "metadata": {},
   "outputs": [],
   "source": [
    "## Dendrograms\n",
    "\n",
    "Y3 = np.concatenate((X1[:50,:],X2[:50,:]))\n",
    "\n",
    "Y2 = pdist(Y3,metric='euclidean')\n",
    "Z = hierarchy.linkage(Y2,method='average')\n",
    "thresh = 0.85*np.max(Z[:,2])\n",
    "\n",
    "plt.figure()\n",
    "dn = hierarchy.dendrogram(Z,p=100,color_threshold=thresh)\n",
    "plt.axis('off')\n",
    "\n",
    "plt.show()"
   ]
  },
  {
   "cell_type": "code",
   "execution_count": null,
   "id": "4ab763f3",
   "metadata": {},
   "outputs": [],
   "source": [
    "plt.bar(range(100),dn['leaves'])\n",
    "plt.plot(np.array([0, 100]),np.array([50, 50]),'r:',LineWidth=2)\n",
    "plt.plot(np.array([50.5, 50.5]),np.array([0, 100]),'r:',LineWidth=2)\n",
    "\n",
    "plt.show()"
   ]
  },
  {
   "cell_type": "code",
   "execution_count": null,
   "id": "7518ded2",
   "metadata": {},
   "outputs": [],
   "source": [
    "thresh = 0.25*np.max(Z[:,2])\n",
    "\n",
    "plt.figure()\n",
    "dn = hierarchy.dendrogram(Z,p=100,color_threshold=thresh)\n",
    "plt.axis('off')\n",
    "plt.show()"
   ]
  },
  {
   "cell_type": "code",
   "execution_count": null,
   "id": "5d5b4427",
   "metadata": {},
   "outputs": [],
   "source": []
  },
  {
   "cell_type": "code",
   "execution_count": null,
   "id": "b35d5258",
   "metadata": {},
   "outputs": [],
   "source": []
  }
 ],
 "metadata": {
  "kernelspec": {
   "display_name": "Python 3",
   "language": "python",
   "name": "python3"
  }
 },
 "nbformat": 4,
 "nbformat_minor": 5
}
