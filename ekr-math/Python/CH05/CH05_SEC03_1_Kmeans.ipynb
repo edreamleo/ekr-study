{
 "cells": [
  {
   "cell_type": "code",
   "execution_count": null,
   "id": "a2e2c633",
   "metadata": {},
   "outputs": [],
   "source": [
    "import numpy as np\n",
    "import matplotlib.pyplot as plt\n",
    "from matplotlib import rcParams\n",
    "from sklearn.cluster import KMeans\n",
    "from scipy.cluster import hierarchy\n",
    "from scipy.spatial.distance import pdist\n",
    "\n",
    "rcParams.update({'font.size': 18})\n",
    "plt.rcParams['figure.figsize'] = [12, 12]"
   ]
  },
  {
   "cell_type": "code",
   "execution_count": null,
   "id": "82d13947",
   "metadata": {},
   "outputs": [],
   "source": [
    "# Training and testing set sizes\n",
    "n1 = 100 # Train\n",
    "n2 = 50  # Test\n",
    "\n",
    "# Random ellipse 1 centered at (0,0)\n",
    "x = np.random.randn(n1+n2)\n",
    "y = 0.5*np.random.randn(n1+n2)\n",
    "\n",
    "# Random ellipse 2 centered at (1,-2)\n",
    "x2 = np.random.randn(n1+n2) + 1\n",
    "y2 = 0.2*np.random.randn(n1+n2) - 2\n",
    "\n",
    "# Rotate ellipse 2 by theta\n",
    "theta = np.pi/4\n",
    "A = np.zeros((2,2))\n",
    "A[0,0] = np.cos(theta)\n",
    "A[0,1] = -np.sin(theta)\n",
    "A[1,0] = np.sin(theta)\n",
    "A[1,1] = np.cos(theta)\n",
    "\n",
    "x3 = A[0,0]*x2 + A[0,1]*y2\n",
    "y3 = A[1,0]*x2 + A[1,1]*y2"
   ]
  },
  {
   "cell_type": "code",
   "execution_count": null,
   "id": "d2e19f61",
   "metadata": {},
   "outputs": [],
   "source": [
    "plt.figure()\n",
    "plt.plot(x[:n1],y[:n1],'ro')\n",
    "plt.plot(x3[:n1],y3[:n1],'bo')\n",
    "plt.show()"
   ]
  },
  {
   "cell_type": "code",
   "execution_count": null,
   "id": "fbfdcfad",
   "metadata": {
    "lines_to_next_cell": 2
   },
   "outputs": [],
   "source": [
    "# Training set: first 200 of 240 points\n",
    "X1 = np.column_stack((x3[:n1],y3[:n1]))\n",
    "X2 = np.column_stack((x[:n1],y[:n1]))\n",
    "\n",
    "Y = np.concatenate((X1,X2))\n",
    "Z = np.column_stack((np.ones(n1),2*np.ones(n1)))\n",
    "\n",
    "# Test set: remaining 40 points\n",
    "x1test = np.column_stack((x3[n1:],y3[n1:]))\n",
    "x2test = np.column_stack((x[n1:],y[n1:]))"
   ]
  },
  {
   "cell_type": "code",
   "execution_count": null,
   "id": "58cf3338",
   "metadata": {},
   "outputs": [],
   "source": [
    "g1 = np.array([-1, 0]) # Initial guess\n",
    "g2 = np.array([1, 0])\n",
    "fig,axs = plt.subplots(2,2)\n",
    "axs = axs.reshape(-1)\n",
    "for j in range(4):\n",
    "    class1 = np.zeros((1,2))\n",
    "    class2 = np.zeros((1,2))\n",
    "    for jj in range(Y.shape[0]):\n",
    "        d1 = np.linalg.norm(g1-Y[jj,:],ord=2)\n",
    "        d2 = np.linalg.norm(g2-Y[jj,:],ord=2)\n",
    "        if d1<d2:\n",
    "            class1 = np.append(class1,Y[jj,:].reshape((1,2)),axis=0)\n",
    "        else:\n",
    "            class2 = np.append(class2,Y[jj,:].reshape((1,2)),axis=0)\n",
    "    class1 = np.delete(class1, (0), axis=0) # remove zeros used to initialize\n",
    "    class2 = np.delete(class2, (0), axis=0)\n",
    "    \n",
    "    axs[j].plot(class1[:,0],class1[:,1],'ro',ms=5)\n",
    "    axs[j].plot(class2[:,0],class2[:,1],'bo',ms=5)\n",
    "    axs[j].plot(g1[0],g1[1],'k*',ms=30)\n",
    "    axs[j].plot(g2[0],g2[1],'k*',ms=30)\n",
    "    \n",
    "    g1 = np.array([np.mean(class1[:,0]),np.mean(class1[:,1])])\n",
    "    g2 = np.array([np.mean(class2[:,0]),np.mean(class2[:,1])])\n",
    "    \n",
    "plt.show()"
   ]
  },
  {
   "cell_type": "code",
   "execution_count": null,
   "id": "175dcc63",
   "metadata": {},
   "outputs": [],
   "source": [
    "# kmeans code\n",
    "kmeans = KMeans(n_clusters=2, random_state=0).fit(Y)\n",
    "c = kmeans.cluster_centers_\n",
    "ind = kmeans.labels_\n",
    "\n",
    "# result from previous section\n",
    "plt.plot(g1[0],g1[1],'ko',ms=20)\n",
    "plt.plot(g2[0],g2[1],'ko',ms=20)\n",
    "\n",
    "# kmeans result\n",
    "plt.plot(c[0,0],c[0,1],'k*',ms=20)\n",
    "plt.plot(c[1,0],c[1,1],'k*',ms=20)\n",
    "\n",
    "plt.show()"
   ]
  },
  {
   "cell_type": "code",
   "execution_count": null,
   "id": "54a11483",
   "metadata": {},
   "outputs": [],
   "source": [
    "midx = (c[0,0]+c[1,0])/2\n",
    "midy = (c[0,1]+c[1,1])/2\n",
    "slope = (c[1,1]-c[0,1])/(c[1,0]-c[0,0]) # rise/run\n",
    "b = midy+(1/slope)*midx\n",
    "xsep = np.arange(-1,2,0.1)\n",
    "ysep = -(1/slope)*xsep+b\n",
    "\n",
    "fig,axs = plt.subplots(2)\n",
    "axs[0].plot(x[:n1],y[:n1],'ro')\n",
    "axs[0].plot(x3[:n1],y3[:n1],'bo')\n",
    "axs[0].plot(xsep,ysep,c='k',LineWidth=2)\n",
    "axs[0].set_xlim(-2,4)\n",
    "axs[0].set_ylim(-3,2)\n",
    "\n",
    "# error on test data\n",
    "\n",
    "axs[1].plot(x[n1:],y[n1:],'ro')\n",
    "axs[1].plot(x3[n1:],y3[n1:],'bo')\n",
    "axs[1].plot(xsep,ysep,c='k',LineWidth=2)\n",
    "axs[1].set_xlim(-2,4)\n",
    "axs[1].set_ylim(-3,2)\n",
    "\n",
    "plt.show()"
   ]
  },
  {
   "cell_type": "code",
   "execution_count": null,
   "id": "d4d233b3",
   "metadata": {},
   "outputs": [],
   "source": [
    "## Dendrograms\n",
    "\n",
    "Y3 = np.concatenate((X1[:50,:],X2[:50,:]))\n",
    "\n",
    "Y2 = pdist(Y3,metric='euclidean')\n",
    "Z = hierarchy.linkage(Y2,method='average')\n",
    "thresh = 0.85*np.max(Z[:,2])\n",
    "\n",
    "plt.figure()\n",
    "dn = hierarchy.dendrogram(Z,p=100,color_threshold=thresh)\n",
    "\n",
    "plt.show()"
   ]
  },
  {
   "cell_type": "code",
   "execution_count": null,
   "id": "2e2ccee0",
   "metadata": {},
   "outputs": [],
   "source": [
    "plt.bar(range(100),dn['leaves'])\n",
    "plt.plot(np.array([0, 100]),np.array([50, 50]),'r:',LineWidth=2)\n",
    "plt.plot(np.array([50.5, 50.5]),np.array([0, 100]),'r:',LineWidth=2)\n",
    "\n",
    "plt.show()"
   ]
  },
  {
   "cell_type": "code",
   "execution_count": null,
   "id": "e1cd4c62",
   "metadata": {},
   "outputs": [],
   "source": []
  }
 ],
 "metadata": {
  "kernelspec": {
   "display_name": "Python 3",
   "language": "python",
   "name": "python3"
  }
 },
 "nbformat": 4,
 "nbformat_minor": 5
}
