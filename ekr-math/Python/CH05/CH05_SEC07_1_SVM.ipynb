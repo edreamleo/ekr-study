{
 "cells": [
  {
   "cell_type": "code",
   "execution_count": null,
   "id": "ee580b84",
   "metadata": {},
   "outputs": [],
   "source": [
    "import numpy as np\n",
    "import matplotlib.pyplot as plt\n",
    "from matplotlib import rcParams\n",
    "from scipy import io\n",
    "import os\n",
    "from sklearn import svm\n",
    "from sklearn.model_selection import cross_val_score\n",
    "from mpl_toolkits import mplot3d\n",
    "\n",
    "\n",
    "rcParams.update({'font.size': 18})\n",
    "plt.rcParams['figure.figsize'] = [12, 12]"
   ]
  },
  {
   "cell_type": "code",
   "execution_count": null,
   "id": "218d50e3",
   "metadata": {},
   "outputs": [],
   "source": [
    "# Random ellipse 1\n",
    "\n",
    "n1 = 300 # Training set size\n",
    "\n",
    "x1 = 1.5*np.random.randn(n1) - 1.5\n",
    "y1 = 1.2*np.random.randn(n1) + np.power(x1+1.5,2) - 7\n",
    "x2 = 1.5*np.random.randn(n1) + 1.5\n",
    "y2 = 1.2*np.random.randn(n1) - np.power(x2-1.5,2) + 7\n",
    "\n",
    "plt.plot(x1,y1,'ro',MarkerFaceColor=(0,1,0.2),MarkerEdgeColor='k',ms=12)\n",
    "plt.plot(x2,y2,'bo',MarkerFaceColor=(0.9,0,1),MarkerEdgeColor='k',ms=12)\n",
    "\n",
    "plt.show()"
   ]
  },
  {
   "cell_type": "code",
   "execution_count": null,
   "id": "b60c1e32",
   "metadata": {},
   "outputs": [],
   "source": [
    "z1 = np.power(x1,2) * y1\n",
    "z2 = np.power(x2,2) * y2\n",
    "\n",
    "fig = plt.figure()\n",
    "ax = plt.axes(projection='3d')\n",
    "\n",
    "ax.plot(x1,y1,z1,'ro',MarkerFaceColor=(0,1,0.2),MarkerEdgeColor='k',ms=12)\n",
    "ax.plot(x2,y2,z2,'bo',MarkerFaceColor=(0.9,0,1),MarkerEdgeColor='k',ms=12)\n",
    "\n",
    "ax.view_init(20, -135)\n",
    "\n",
    "plt.show()"
   ]
  },
  {
   "cell_type": "code",
   "execution_count": null,
   "id": "4360d86b",
   "metadata": {},
   "outputs": [],
   "source": [
    "r = 7 + np.random.randn(n1)\n",
    "th = 2 * np.pi * np.random.randn(n1)\n",
    "xr = r * np.cos(th)\n",
    "yr = r * np.sin(th)\n",
    "x5 = np.random.randn(n1)\n",
    "y5 = np.random.randn(n1)\n",
    "\n",
    "zr = np.power(xr,2) + np.power(yr,2)\n",
    "z5 = np.power(x5,2) + np.power(y5,2)\n",
    "\n",
    "fig = plt.figure()\n",
    "ax = plt.axes(projection='3d')\n",
    "ax.view_init(20, -135)\n",
    "\n",
    "ax.plot(xr,yr,zr+40,'ro',MarkerFaceColor=(0,1,0.2),MarkerEdgeColor='k',ms=12)\n",
    "ax.plot(x5,y5,z5+40,'bo',MarkerFaceColor=(0.9,0,1),MarkerEdgeColor='k',ms=12)\n",
    "\n",
    "\n",
    "x = np.arange(-10,10.5,0.5)\n",
    "y = x\n",
    "X,Y = np.meshgrid(x,y)\n",
    "F3 = 54 + 0*X + 0*Y\n",
    "\n",
    "ax.plot_surface(X, Y, F3, cmap='gray',linewidth=0, antialiased=True,alpha=0.2)\n",
    "\n",
    "ax.plot(xr,yr,np.zeros(*xr.shape),'ro',MarkerFaceColor=(179/255,1,179/255),MarkerEdgeColor='k',ms=12)\n",
    "ax.plot(x5,y5,np.zeros(*x5.shape),'bo',MarkerFaceColor=(240/255,194/255,224/255),MarkerEdgeColor='k',ms=12)\n",
    "\n",
    "theta = np.linspace(0,2*np.pi,100)\n",
    "xrr = np.sqrt(14)*np.cos(theta)\n",
    "yrr = np.sqrt(14)*np.sin(theta)\n",
    "\n",
    "ax.plot(xrr,yrr,np.zeros(*xrr.shape),'k-',linewidth=2)\n",
    "\n",
    "plt.show()"
   ]
  },
  {
   "cell_type": "code",
   "execution_count": null,
   "id": "6809aea9",
   "metadata": {},
   "outputs": [],
   "source": [
    "# Classify dogs vs. cats\n",
    "dogdata_w_mat = io.loadmat(os.path.join('..','DATA','dogData_w.mat'))\n",
    "catdata_w_mat = io.loadmat(os.path.join('..','DATA','catData_w.mat'))\n",
    "\n",
    "dog_wave = dogdata_w_mat['dog_wave']\n",
    "cat_wave = catdata_w_mat['cat_wave']\n",
    "\n",
    "CD = np.concatenate((dog_wave,cat_wave),axis=1)\n",
    "\n",
    "u,s,vT = np.linalg.svd(CD-np.mean(CD),full_matrices=0)\n",
    "v = vT.T"
   ]
  },
  {
   "cell_type": "code",
   "execution_count": null,
   "id": "e0326e77",
   "metadata": {},
   "outputs": [],
   "source": [
    "features = np.arange(1,21)\n",
    "xtrain = np.concatenate((v[:60,features],v[80:140,features]))\n",
    "test = np.concatenate((v[60:80,features],v[140:160,features]))\n",
    "\n",
    "label = np.repeat(np.array([1,-1]),60)\n",
    "truth = np.repeat(np.array([1,-1]),20)\n",
    "\n",
    "\n",
    "Mdl = svm.SVC(kernel='rbf',gamma='auto').fit(xtrain,label)\n",
    "test_labels = Mdl.predict(test)\n",
    "\n",
    "CMdl = cross_val_score(Mdl, xtrain, label, cv=10) #cross-validate the model\n",
    "classLoss = 1-np.mean(CMdl) # average error over all cross-validation iterations\n",
    "\n"
   ]
  },
  {
   "cell_type": "code",
   "execution_count": null,
   "id": "790528a3",
   "metadata": {},
   "outputs": [],
   "source": []
  }
 ],
 "metadata": {
  "kernelspec": {
   "display_name": "Python 3",
   "language": "python",
   "name": "python3"
  }
 },
 "nbformat": 4,
 "nbformat_minor": 5
}
