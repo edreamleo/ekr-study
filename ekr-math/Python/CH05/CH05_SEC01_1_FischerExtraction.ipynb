{
 "cells": [
  {
   "cell_type": "code",
   "execution_count": null,
   "id": "30b89dc7",
   "metadata": {},
   "outputs": [],
   "source": [
    "import numpy as np\n",
    "import matplotlib.pyplot as plt\n",
    "from matplotlib import rcParams\n",
    "from scipy import io\n",
    "import os\n",
    "from mpl_toolkits.mplot3d import Axes3D\n",
    "\n",
    "rcParams.update({'font.size': 18})\n",
    "plt.rcParams['figure.figsize'] = [12, 12]"
   ]
  },
  {
   "cell_type": "code",
   "execution_count": null,
   "id": "e63dddc8",
   "metadata": {},
   "outputs": [],
   "source": [
    "fisheriris_mat = io.loadmat(os.path.join('..','DATA','fisheriris.mat'))\n",
    "meas = fisheriris_mat['meas']\n",
    "\n",
    "x1 = meas[:50,:] # setosa\n",
    "x2 = meas[50:100,:] # versicolor\n",
    "x3 = meas[100:,:] # virginica"
   ]
  },
  {
   "cell_type": "code",
   "execution_count": null,
   "id": "8c853dd4",
   "metadata": {},
   "outputs": [],
   "source": [
    "fig = plt.figure()\n",
    "ax = fig.add_subplot(111, projection='3d')\n",
    "ax.scatter(x1[:,0], x1[:,1], x1[:,3], c='g', marker='o')\n",
    "ax.scatter(x2[:,0], x2[:,1], x2[:,3], c='m', marker='o')\n",
    "ax.scatter(x3[:,0], x3[:,1], x3[:,3], c='r', marker='o')\n",
    "\n",
    "plt.show()"
   ]
  },
  {
   "cell_type": "code",
   "execution_count": null,
   "id": "bc31d111",
   "metadata": {},
   "outputs": [],
   "source": [
    "dogdata_mat = io.loadmat(os.path.join('..','DATA','dogData.mat'))\n",
    "catdata_mat = io.loadmat(os.path.join('..','DATA','catData.mat'))\n",
    "\n",
    "dogdata_w_mat = io.loadmat(os.path.join('..','DATA','dogData_w.mat'))\n",
    "catdata_w_mat = io.loadmat(os.path.join('..','DATA','catData_w.mat'))\n",
    "\n",
    "dog = dogdata_mat['dog']\n",
    "cat = catdata_mat['cat']\n",
    "\n",
    "dog_wave = dogdata_w_mat['dog_wave']\n",
    "cat_wave = catdata_w_mat['cat_wave']\n",
    "\n",
    "CD = np.concatenate((dog,cat),axis=1)\n",
    "CD2 = np.concatenate((dog_wave,cat_wave),axis=1)\n",
    "\n",
    "u,s,vT = np.linalg.svd(CD-np.mean(CD),full_matrices=0)\n",
    "u2,s2,vT2 = np.linalg.svd(CD2-np.mean(CD2),full_matrices=0)"
   ]
  },
  {
   "cell_type": "code",
   "execution_count": null,
   "id": "249df3cf",
   "metadata": {},
   "outputs": [],
   "source": [
    "fig,axs = plt.subplots(2,2)\n",
    "axs = axs.reshape(-1)\n",
    "for j in range(4):\n",
    "    U = np.flipud(np.reshape(u[:,j],(64,64)))\n",
    "    U2 = U[::2,::2]\n",
    "    axs[j].pcolor(np.rot90(U2),cmap='hot')\n",
    "    axs[j].axis('off')"
   ]
  },
  {
   "cell_type": "code",
   "execution_count": null,
   "id": "ec3fff2b",
   "metadata": {},
   "outputs": [],
   "source": [
    "fig,axs = plt.subplots(4,1)\n",
    "axs = axs.reshape(-1)\n",
    "for j in range(4):\n",
    "    axs[j].bar(range(len(s)),vT[j,:])"
   ]
  },
  {
   "cell_type": "code",
   "execution_count": null,
   "id": "a320bcd2",
   "metadata": {},
   "outputs": [],
   "source": [
    "fig,axs = plt.subplots(2,2)\n",
    "axs = axs.reshape(-1)\n",
    "for j in range(4):\n",
    "    Xd = np.flipud(np.reshape(dog_wave[:,j],(32,32)))\n",
    "    axs[j].pcolor(np.rot90(Xd),cmap='hot')\n",
    "    axs[j].axis('off')"
   ]
  },
  {
   "cell_type": "code",
   "execution_count": null,
   "id": "c4e8c2ae",
   "metadata": {},
   "outputs": [],
   "source": [
    "fig,axs = plt.subplots(2,2)\n",
    "axs = axs.reshape(-1)\n",
    "for j in range(4):\n",
    "    U3 = np.flipud(np.reshape(u2[:,j],(32,32)))\n",
    "    axs[j].pcolor(np.rot90(U3),cmap='hot')\n",
    "    axs[j].axis('off')"
   ]
  },
  {
   "cell_type": "code",
   "execution_count": null,
   "id": "b7e7c24c",
   "metadata": {},
   "outputs": [],
   "source": [
    "fig,axs = plt.subplots(4,1)\n",
    "axs = axs.reshape(-1)\n",
    "for j in range(4):\n",
    "    axs[j].bar(range(len(s2)),vT2[j,:])"
   ]
  },
  {
   "cell_type": "code",
   "execution_count": null,
   "id": "8d7dab4f",
   "metadata": {},
   "outputs": [],
   "source": [
    "xbin = np.linspace(-0.25,0.25,20)\n",
    "xbin_edges = np.append(xbin,xbin[-1]+(xbin[1]-xbin[0])) - (xbin[1]-xbin[0])/2\n",
    "fig,axs = plt.subplots(4,2)\n",
    "for j in range(4):\n",
    "    pdf1 = np.histogram(vT[j,:80],bins=xbin_edges)[0]\n",
    "    pdf2 = np.histogram(vT[j,80:],bins=xbin_edges)[0]\n",
    "    axs[j,0].plot(xbin,pdf1)\n",
    "    axs[j,0].plot(xbin,pdf2)\n",
    "    \n",
    "    pdf1 = np.histogram(vT2[j,:80],bins=xbin_edges)[0]\n",
    "    pdf2 = np.histogram(vT2[j,80:],bins=xbin_edges)[0]\n",
    "    axs[j,1].plot(xbin,pdf1)\n",
    "    axs[j,1].plot(xbin,pdf2)"
   ]
  },
  {
   "cell_type": "code",
   "execution_count": null,
   "id": "672229ed",
   "metadata": {},
   "outputs": [],
   "source": [
    "fig = plt.figure()\n",
    "ax1 = fig.add_subplot(211, projection='3d')\n",
    "ax1.scatter(vT[0,:80],vT[1,:80],vT[2,:80],c='r',marker='o',s=20)\n",
    "ax1.scatter(vT[0,80:],vT[1,80:],vT[2,80:],c='b',marker='o',s=20)\n",
    "\n",
    "ax2 = fig.add_subplot(212, projection='3d')\n",
    "ax2.scatter(vT2[0,:80],vT2[1,:80],vT2[2,:80],c='r',marker='o',s=20)\n",
    "ax2.scatter(vT2[0,80:],vT2[1,80:],vT2[2,80:],c='b',marker='o',s=20)\n",
    "\n",
    "plt.show()"
   ]
  },
  {
   "cell_type": "code",
   "execution_count": null,
   "id": "eee2305a",
   "metadata": {},
   "outputs": [],
   "source": [
    "master = np.zeros((32*5,32*4))\n",
    "count = 0\n",
    "\n",
    "for jj in range(4):\n",
    "    for j in range(5):\n",
    "        T2 = np.flipud(np.reshape(dog[:,count],(64,64)))\n",
    "        T = T2[::2,::2]\n",
    "        master[32*j:32*(j+1),32*jj:32*(jj+1)] = T\n",
    "        count += 1\n",
    "        \n",
    "plt.figure()\n",
    "plt.pcolor(np.rot90(master),cmap='gray')\n",
    "plt.axis('off')\n",
    "plt.show()"
   ]
  },
  {
   "cell_type": "code",
   "execution_count": null,
   "id": "e73ec6d2",
   "metadata": {},
   "outputs": [],
   "source": [
    "master = np.zeros((32*5,32*4))\n",
    "count = 0\n",
    "\n",
    "for jj in range(4):\n",
    "    for j in range(5):\n",
    "        T2 = np.flipud(np.reshape(cat[:,count],(64,64)))\n",
    "        T = T2[::2,::2]\n",
    "        master[32*j:32*(j+1),32*jj:32*(jj+1)] = T\n",
    "        count += 1\n",
    "        \n",
    "plt.figure()\n",
    "plt.pcolor(np.rot90(master),cmap='gray')\n",
    "plt.axis('off')\n",
    "plt.show()"
   ]
  },
  {
   "cell_type": "code",
   "execution_count": null,
   "id": "b1b8fa4d",
   "metadata": {},
   "outputs": [],
   "source": []
  }
 ],
 "metadata": {
  "kernelspec": {
   "display_name": "Python 3",
   "language": "python",
   "name": "python3"
  }
 },
 "nbformat": 4,
 "nbformat_minor": 5
}
