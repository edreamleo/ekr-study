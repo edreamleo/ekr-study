{
 "cells": [
  {
   "cell_type": "code",
   "execution_count": null,
   "id": "6b725ca6",
   "metadata": {},
   "outputs": [],
   "source": [
    "import numpy as np\n",
    "import matplotlib.pyplot as plt\n",
    "from matplotlib import rcParams\n",
    "from scipy import io\n",
    "from sklearn.mixture import GaussianMixture\n",
    "import os\n",
    "from mpl_toolkits import mplot3d\n",
    "\n",
    "rcParams.update({'font.size': 18})\n",
    "plt.rcParams['figure.figsize'] = [12, 12]"
   ]
  },
  {
   "cell_type": "code",
   "execution_count": null,
   "id": "ad27c5b5",
   "metadata": {},
   "outputs": [],
   "source": [
    "dogdata_w_mat = io.loadmat(os.path.join('..','DATA','dogData_w.mat'))\n",
    "catdata_w_mat = io.loadmat(os.path.join('..','DATA','catData_w.mat'))\n",
    "\n",
    "dog_wave = dogdata_w_mat['dog_wave']\n",
    "cat_wave = catdata_w_mat['cat_wave']\n",
    "\n",
    "CD = np.concatenate((dog_wave,cat_wave),axis=1)\n",
    "\n",
    "u,s,vT = np.linalg.svd(CD-np.mean(CD),full_matrices=0)\n",
    "v = vT.T"
   ]
  },
  {
   "cell_type": "code",
   "execution_count": null,
   "id": "5ef44156",
   "metadata": {},
   "outputs": [],
   "source": [
    "dogcat = v[:,(1,3)]\n",
    "GMModel = GaussianMixture(n_components=2).fit(dogcat)\n",
    "AIC = GMModel.aic(dogcat)\n",
    "\n",
    "plt.plot(v[:80,1],v[:80,3],'ro',MarkerFaceColor=(0,1,0.2),MarkerEdgeColor='k',ms=12)\n",
    "plt.plot(v[80:,1],v[80:,3],'bo',MarkerFaceColor=(0.9,0,1),MarkerEdgeColor='k',ms=12)\n",
    "\n",
    "x = np.linspace(-0.15, 0.25)\n",
    "y = np.linspace(-0.25, 0.2)\n",
    "X, Y = np.meshgrid(x, y)\n",
    "XX = np.array([X.ravel(), Y.ravel()]).T\n",
    "Z = np.exp(GMModel.score_samples(XX))\n",
    "Z = Z.reshape(X.shape)\n",
    "\n",
    "CS = plt.contour(X, Y, Z,levels=np.arange(3,32,4),colors='k',linestyles='solid')\n",
    "\n",
    "plt.show()"
   ]
  },
  {
   "cell_type": "code",
   "execution_count": null,
   "id": "0e0317ef",
   "metadata": {},
   "outputs": [],
   "source": [
    "ax = plt.axes(projection='3d')\n",
    "ax.plot_wireframe(X, Y, Z, color='black')\n",
    "ax.view_init(30, -20)\n",
    "plt.show()"
   ]
  },
  {
   "cell_type": "code",
   "execution_count": null,
   "id": "b98e97ea",
   "metadata": {
    "lines_to_next_cell": 2
   },
   "outputs": [],
   "source": [
    "## AIC Scores\n",
    "AIC = np.zeros(4)\n",
    "GMModels = [GaussianMixture(k+1,covariance_type='diag',max_iter=500).fit(dogcat)\n",
    "          for k in range(4)]\n",
    "\n",
    "fig,axs = plt.subplots(2,2,subplot_kw={'projection': '3d'})\n",
    "axs = axs.reshape(-1)\n",
    "\n",
    "for j in range(len(axs)):\n",
    "    Z = np.exp(GMModels[j].score_samples(XX))\n",
    "    Z = Z.reshape(X.shape)\n",
    "    AIC[j] = GMModels[j].aic(dogcat)\n",
    "    axs[j].plot_wireframe(X, Y, Z, color='black')\n",
    "    axs[j].view_init(30, -20)\n",
    "    axs[j].set_title('AIC = {:.4}'.format(AIC[j]))"
   ]
  },
  {
   "cell_type": "code",
   "execution_count": null,
   "id": "fcb442d8",
   "metadata": {},
   "outputs": [],
   "source": []
  }
 ],
 "metadata": {
  "kernelspec": {
   "display_name": "Python 3",
   "language": "python",
   "name": "python3"
  }
 },
 "nbformat": 4,
 "nbformat_minor": 5
}
