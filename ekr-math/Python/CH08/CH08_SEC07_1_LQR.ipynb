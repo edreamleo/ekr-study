{
 "cells": [
  {
   "cell_type": "code",
   "execution_count": null,
   "id": "a18087fd",
   "metadata": {},
   "outputs": [],
   "source": [
    "import numpy as np\n",
    "import matplotlib.pyplot as plt\n",
    "from matplotlib import rcParams\n",
    "from matplotlib import animation, rc\n",
    "from IPython.display import HTML\n",
    "from control.matlab import *\n",
    "from control import place\n",
    "import slycot\n",
    "from scipy import integrate\n",
    "# Python control toolbox available at https://python-control.readthedocs.io/\n",
    "\n",
    "plt.rcParams['figure.figsize'] = [8, 8]\n",
    "plt.rcParams.update({'font.size': 18})\n",
    "plt.rcParams['animation.html'] = 'jshtml'"
   ]
  },
  {
   "cell_type": "code",
   "execution_count": null,
   "id": "120c8aaa",
   "metadata": {},
   "outputs": [],
   "source": [
    "m = 1\n",
    "M = 5\n",
    "L = 2\n",
    "g = -10\n",
    "d = 1\n",
    "\n",
    "b = 1 # pendulum up (b=1)\n",
    "\n",
    "A = np.array([[0,1,0,0],\\\n",
    "              [0,-d/M,b*m*g/M,0],\\\n",
    "              [0,0,0,1],\\\n",
    "              [0,-b*d/(M*L),-b*(m+M)*g/(M*L),0]])\n",
    "\n",
    "B = np.array([0,1/M,0,b/(M*L)]).reshape((4,1))\n",
    "\n",
    "print(np.linalg.eig(A)[0])       # Eigenvalues\n",
    "print(np.linalg.det(ctrb(A,B)))  # Determinant of controllability matrix"
   ]
  },
  {
   "cell_type": "code",
   "execution_count": null,
   "id": "b6e48ea5",
   "metadata": {},
   "outputs": [],
   "source": [
    "## Design LQR Controller\n",
    "Q = np.eye(4)\n",
    "R = 0.0001\n",
    "\n",
    "K = lqr(A,B,Q,R)[0]"
   ]
  },
  {
   "cell_type": "code",
   "execution_count": null,
   "id": "1ed1ce42",
   "metadata": {},
   "outputs": [],
   "source": [
    "## ODE RHS Function Definition\n",
    "def pendcart(x,t,m,M,L,g,d,uf):\n",
    "    u = uf(x) # evaluate anonymous function at x\n",
    "    Sx = np.sin(x[2])\n",
    "    Cx = np.cos(x[2])\n",
    "    D = m*L*L*(M+m*(1-Cx**2))\n",
    "    \n",
    "    dx = np.zeros(4)\n",
    "    dx[0] = x[1]\n",
    "    dx[1] = (1/D)*(-(m**2)*(L**2)*g*Cx*Sx + m*(L**2)*(m*L*(x[3]**2)*Sx - d*x[1])) + m*L*L*(1/D)*u\n",
    "    dx[2] = x[3]\n",
    "    dx[3] = (1/D)*((m+M)*m*g*L*Sx - m*L*Cx*(m*L*(x[3]**2)*Sx - d*x[1])) - m*L*Cx*(1/D)*u;\n",
    "    \n",
    "    return dx"
   ]
  },
  {
   "cell_type": "code",
   "execution_count": null,
   "id": "32428ce8",
   "metadata": {},
   "outputs": [],
   "source": [
    "## Simulate closed-loop system\n",
    "tspan = np.arange(0,10,0.001)\n",
    "x0 = np.array([-1,0,np.pi+0.1,0]) # Initial condition\n",
    "wr = np.array([1,0,np.pi,0])      # Reference position\n",
    "u = lambda x: -K@(x-wr)           # Control law\n",
    "\n",
    "x = integrate.odeint(pendcart,x0,tspan,args=(m,M,L,g,d,u))"
   ]
  },
  {
   "cell_type": "code",
   "execution_count": null,
   "id": "cdb59f80",
   "metadata": {},
   "outputs": [],
   "source": [
    "for k in range(np.floor(len(t)/100)):\n",
    "    plt.plot"
   ]
  },
  {
   "cell_type": "code",
   "execution_count": null,
   "id": "896132da",
   "metadata": {},
   "outputs": [],
   "source": [
    "fig,ax = plt.subplots()\n",
    "H = 0.5*np.sqrt(M/5)\n",
    "p_pend, = plt.plot([],[],'o-',linewidth=2,ms=40,markerfacecolor='r')\n",
    "p_cart, = plt.plot([],[],'ks',ms=100)\n",
    "\n",
    "x_plot = x[::100,:]\n",
    "t_plot = tspan[::100]\n",
    "\n",
    "def init():\n",
    "    ax.set_xlim(-5,5)\n",
    "    ax.set_ylim(-0.5, 2.7)\n",
    "    return x\n",
    "\n",
    "def animate(iter):\n",
    "    x_iter = x_plot[iter,0]\n",
    "    th_iter = x_plot[iter,2]\n",
    "    \n",
    "    p_cart.set_data(x_iter,0.1+H/2)\n",
    "    p_pend.set_data(x_iter+np.array([0,L*np.sin(th_iter)]),\\\n",
    "                    0.1+H/2+np.array([0,-L*np.cos(th_iter)]))\n",
    "    return p_pend\n",
    "\n",
    "anim = animation.FuncAnimation(fig,animate,init_func=init,frames=len(t_plot),interval=50,blit=False,repeat=False)\n",
    "HTML(anim.to_jshtml())"
   ]
  },
  {
   "cell_type": "code",
   "execution_count": null,
   "id": "c39def05",
   "metadata": {},
   "outputs": [],
   "source": [
    "plot_labels = ('x','v','theta','omega')\n",
    "[plt.plot(tspan,x[:,j],linewidth=2,label=plot_labels[j]) for j in range(4)]\n",
    "plt.xlabel('Time')\n",
    "plt.ylabel('State')\n",
    "\n",
    "plt.legend()\n",
    "plt.show()"
   ]
  },
  {
   "cell_type": "code",
   "execution_count": null,
   "id": "e7785e77",
   "metadata": {
    "lines_to_next_cell": 2
   },
   "outputs": [],
   "source": [
    "## Compare with many examples of Pole Placement\n",
    "JLQR = np.zeros(len(tspan))\n",
    "for k in range(len(tspan)):\n",
    "    JLQR[k] = (x[k,:]-wr) @ Q @ (x[k,:]-wr) + (u(x[k,:])**2)*R\n",
    "    \n",
    "t_plot = tspan[::50]\n",
    "all_x_plot = np.zeros((len(t_plot),4,100))\n",
    "all_J = np.zeros((len(tspan),100))\n",
    "all_Jz = np.zeros((len(tspan)-1,100))\n",
    "\n",
    "for count in range(100):\n",
    "    p = -0.5 - 3*np.random.rand(4)\n",
    "    K = place(A,B,p)\n",
    "    u = lambda x: -K@(x-wr)\n",
    "    \n",
    "    x = integrate.odeint(pendcart,x0,tspan,args=(m,M,L,g,d,u))\n",
    "    all_x_plot[:,:,count] = x[::50,:]\n",
    "    for k in range(len(tspan)):\n",
    "        all_J[k,count] = (x[k,:]-wr)@Q@(x[k,:]-wr) + (u(x[k,:])**2)*R\n",
    "    \n",
    "    all_Jz[:,count] = integrate.cumtrapz(all_J[:,count])"
   ]
  },
  {
   "cell_type": "code",
   "execution_count": null,
   "id": "094c573c",
   "metadata": {},
   "outputs": [],
   "source": [
    "## Plots\n",
    "for count in range(100):\n",
    "    plt.plot(t_plot,all_x_plot[:,:,count],linewidth=0.5)\n",
    "    plt.gca().set_prop_cycle(None) # reset color cycle\n",
    "    \n",
    "plt.xlabel('Time')\n",
    "plt.ylabel('State')\n",
    "plt.show()"
   ]
  },
  {
   "cell_type": "code",
   "execution_count": null,
   "id": "137ab016",
   "metadata": {},
   "outputs": [],
   "source": [
    "for count in range(100):\n",
    "    plt.plot(t_plot,all_Jz[::50,count],color=(0.5,0.5,0.5))\n",
    "    \n",
    "plt.xlabel('Time')\n",
    "plt.ylabel('Cost')\n",
    "plt.show()"
   ]
  }
 ],
 "metadata": {
  "kernelspec": {
   "display_name": "Python 3",
   "language": "python",
   "name": "python3"
  }
 },
 "nbformat": 4,
 "nbformat_minor": 5
}
