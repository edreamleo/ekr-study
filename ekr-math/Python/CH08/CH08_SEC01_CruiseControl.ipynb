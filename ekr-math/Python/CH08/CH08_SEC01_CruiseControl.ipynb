{
 "cells": [
  {
   "cell_type": "code",
   "execution_count": null,
   "id": "0e062368",
   "metadata": {},
   "outputs": [],
   "source": [
    "import numpy as np\n",
    "import matplotlib.pyplot as plt\n",
    "from matplotlib import rcParams\n",
    "\n",
    "rcParams.update({'font.size': 18})\n",
    "plt.rcParams['figure.figsize'] = [12, 12]"
   ]
  },
  {
   "cell_type": "code",
   "execution_count": null,
   "id": "396603c5",
   "metadata": {},
   "outputs": [],
   "source": [
    "t = np.arange(0,10,0.01)   # time\n",
    "\n",
    "wr = 60 * np.ones_like(t)  # reference speed\n",
    "d = 10*np.sin(np.pi*t)     # disturbance\n",
    "\n",
    "aModel = 1                 # y = aModel*u\n",
    "aTrue = 0.5                # y = aTrue*u\n",
    "\n",
    "uOL = wr/aModel            # Open-loop u based on model\n",
    "yOL = aTrue*uOL + d        # Open-loop response\n",
    "\n",
    "K = 50                     # control gain, u=K(wr-y)\n",
    "yCL = (aTrue*K/(1+aTrue*K))*wr + d/(1+aTrue*K)"
   ]
  },
  {
   "cell_type": "code",
   "execution_count": null,
   "id": "50a4aa76",
   "metadata": {},
   "outputs": [],
   "source": [
    "plt.plot(t,wr,'k',linewidth=2,label='Reference')\n",
    "plt.plot(t,d,'k--',linewidth=1.5,label='Disturbance')\n",
    "plt.plot(t,yOL,'r',linewidth=1.5,label='Open Loop')\n",
    "plt.plot(t,yCL,'b',linewidth=1.5,label='Closed Loop')\n",
    "\n",
    "plt.xlabel('Time')\n",
    "plt.ylabel('Speed')\n",
    "\n",
    "plt.legend(loc=\"upper left\", bbox_to_anchor=(1,1))\n",
    "plt.show()"
   ]
  },
  {
   "cell_type": "code",
   "execution_count": null,
   "id": "73754a61",
   "metadata": {},
   "outputs": [],
   "source": []
  }
 ],
 "metadata": {
  "kernelspec": {
   "display_name": "Python 3",
   "language": "python",
   "name": "python3"
  }
 },
 "nbformat": 4,
 "nbformat_minor": 5
}
