{
 "cells": [
  {
   "cell_type": "code",
   "execution_count": null,
   "id": "b269317f",
   "metadata": {
    "lines_to_next_cell": 2
   },
   "outputs": [],
   "source": [
    "import numpy as np\n",
    "import matplotlib.pyplot as plt\n",
    "from matplotlib import rcParams\n",
    "from control.matlab import *\n",
    "import slycot\n",
    "from scipy import signal\n",
    "# Python control toolbox available at https://python-control.readthedocs.io/\n",
    "\n",
    "plt.rcParams['figure.figsize'] = [8, 8]\n",
    "plt.rcParams.update({'font.size': 18})"
   ]
  },
  {
   "cell_type": "code",
   "execution_count": null,
   "id": "d2c75d23",
   "metadata": {},
   "outputs": [],
   "source": [
    "s = tf(np.array([1,0]),np.array([0,1]))\n",
    "G = (s+1)/(s-2)\n",
    "Gtrue = (s+0.9)/(s-1.9)\n",
    "\n",
    "K = 1/G\n",
    "\n",
    "L = K*Gtrue\n",
    "\n",
    "\n",
    "fig = plt.figure()\n",
    "gm, pm, wg, wp = margin(L)\n",
    "_,_,_ = bode(L)\n",
    "for ax in fig.axes:\n",
    "    xl = ax.get_xlim()\n",
    "    yl = ax.get_ylim()\n",
    "    ax.plot(wg*np.ones(2),ax.get_ylim(),'k--',linewidth=2)\n",
    "    ax.plot(wp*np.ones(2),ax.get_ylim(),'k--',linewidth=2)\n",
    "    ax.plot(ax.get_xlim(),np.zeros(2),'k--',linewidth=2)\n",
    "    ax.set_xlim(xl)\n",
    "    ax.set_ylim(yl)\n",
    "    \n",
    "CL = feedback(L,1)\n",
    "CL"
   ]
  },
  {
   "cell_type": "code",
   "execution_count": null,
   "id": "23c0d017",
   "metadata": {},
   "outputs": [],
   "source": []
  },
  {
   "cell_type": "code",
   "execution_count": null,
   "id": "8ff7f382",
   "metadata": {},
   "outputs": [],
   "source": []
  }
 ],
 "metadata": {
  "kernelspec": {
   "display_name": "Python 3",
   "language": "python",
   "name": "python3"
  }
 },
 "nbformat": 4,
 "nbformat_minor": 5
}
