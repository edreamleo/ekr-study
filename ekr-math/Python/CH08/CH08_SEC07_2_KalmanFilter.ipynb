{
 "cells": [
  {
   "cell_type": "code",
   "execution_count": null,
   "id": "c97f3462",
   "metadata": {},
   "outputs": [],
   "source": [
    "import numpy as np\n",
    "import matplotlib.pyplot as plt\n",
    "from matplotlib import rcParams\n",
    "from control.matlab import *\n",
    "import slycot\n",
    "from scipy import integrate\n",
    "from scipy.linalg import schur\n",
    "# Python control toolbox available at https://python-control.readthedocs.io/\n",
    "\n",
    "plt.rcParams['figure.figsize'] = [8, 8]\n",
    "plt.rcParams.update({'font.size': 18})"
   ]
  },
  {
   "cell_type": "code",
   "execution_count": null,
   "id": "44ab3bb3",
   "metadata": {},
   "outputs": [],
   "source": [
    "m = 1\n",
    "M = 5\n",
    "L = 2\n",
    "g = -10\n",
    "d = 1\n",
    "\n",
    "b = -1 # pendulum down (b = -1)\n",
    "\n",
    "A = np.array([[0,1,0,0],\\\n",
    "              [0,-d/M,b*m*g/M,0],\\\n",
    "              [0,0,0,1],\\\n",
    "              [0,-b*d/(M*L),-b*(m+M)*g/(M*L),0]])\n",
    "\n",
    "B = np.array([0,1/M,0,b/(M*L)]).reshape((4,1))\n",
    "\n",
    "C = np.array([1,0,0,0]) # measure cart position, x\n",
    "\n",
    "print('Observability matrix rank: {}'.format(np.linalg.matrix_rank(obsv(A,C))))\n",
    "\n",
    "D = np.zeros((C.shape[0],B.shape[1]))"
   ]
  },
  {
   "cell_type": "code",
   "execution_count": null,
   "id": "5bc93e9a",
   "metadata": {},
   "outputs": [],
   "source": [
    "# Kalman estimator design\n",
    "\n",
    "def lqe(a,g,c,q,r):\n",
    "    r = np.atleast_2d(r)\n",
    "    nn = np.zeros((q.shape[0],len(r)))\n",
    "    qg = g @ q @ g.T\n",
    "    ng = g @ nn\n",
    "    \n",
    "    qg = (qg + qg.T)/2\n",
    "    r = (r + r.T)/2\n",
    "    u,t = schur(r)\n",
    "    \n",
    "    t = np.real(np.diag(t))\n",
    "    \n",
    "    if np.min(t) <= 0:\n",
    "        print('Error: covariance matrix must be positive definite')\n",
    "    else:\n",
    "        Nr = (ng@u)*np.diag(np.power(np.sqrt(t),-1))\n",
    "        Qr = qg - Nr @ Nr.T\n",
    "        if np.min(np.real(np.linalg.eig(Qr)[0])) < -(10**3)*np.finfo(float).eps:\n",
    "            print('Warning: The matrix [G*Q*G'' G*N;N''*G'' R] should be nonnegative definite')\n",
    "    c = np.diag(c)\n",
    "    r = np.squeeze(r)\n",
    "    (p,e,k) = care(a.T,c.T,qg)#,R=r,S=ng)\n",
    "    l = k[0,:]\n",
    "    \n",
    "    return (l,p,e)"
   ]
  },
  {
   "cell_type": "code",
   "execution_count": null,
   "id": "f478cd56",
   "metadata": {
    "lines_to_next_cell": 2
   },
   "outputs": [],
   "source": [
    "## Specify disturbance and noise magnitude\n",
    "Vd = np.eye(4)  # distrubance covariance\n",
    "Vn = 1          # noise covariance\n",
    "\n",
    "# Build Kalman filter\n",
    "Kf, P, E = lqe(A,np.eye(4),C,Vd,Vn)"
   ]
  },
  {
   "cell_type": "code",
   "execution_count": null,
   "id": "a69a82fa",
   "metadata": {},
   "outputs": [],
   "source": [
    "## Augment system with additional inputs\n",
    "Baug = np.concatenate((B, np.eye(4),np.zeros_like(B)),axis=1) # [u I*wd 0*wn]\n",
    "Daug = np.array([0,0,0,0,0,1]) # D matrix passes noise through\n",
    "\n",
    "sysC = ss(A,Baug,C,Daug) # Single-measurement system\n",
    "\n",
    "# \"True\" system w/ full-state output, disturbance, no noise\n",
    "sysTruth = ss(A,Baug,np.eye(4),np.zeros((4,Baug.shape[1])))\n",
    "\n",
    "BKf = np.concatenate((B,np.atleast_2d(Kf).T),axis=1)\n",
    "sysKF = ss(A-np.outer(Kf,C),BKf,np.eye(4),np.zeros_like(BKf))"
   ]
  },
  {
   "cell_type": "code",
   "execution_count": null,
   "id": "5acb1556",
   "metadata": {},
   "outputs": [],
   "source": [
    "## Estimate linearized system in \"down\" position (Gantry crane)\n",
    "dt = 0.01\n",
    "t = np.arange(0,50,dt)\n",
    "\n",
    "uDIST = np.sqrt(Vd) @ np.random.randn(4,len(t)) # random disturbance\n",
    "uNOISE = np.sqrt(Vn) * np.random.randn(len(t))    # random noise\n",
    "u = np.zeros_like(t)\n",
    "u[100] = 20/dt   # positive impulse\n",
    "u[1500] = -20/dt # negative impulse\n",
    "\n",
    "# input w/ disturbance and noise:\n",
    "uAUG = np.concatenate((u.reshape((1,len(u))),uDIST,uNOISE.reshape((1,len(uNOISE))))).T\n",
    "\n",
    "y,t,_ = lsim(sysC,uAUG,t)                      # noisy measurement\n",
    "xtrue,t,_ = lsim(sysTruth,uAUG,t)              # true state\n",
    "xhat,t,_ = lsim(sysKF,np.row_stack((u,y)).T,t) # state estimate"
   ]
  },
  {
   "cell_type": "code",
   "execution_count": null,
   "id": "7d5a0e35",
   "metadata": {},
   "outputs": [],
   "source": [
    "plt.plot(t,y,color=(0.5,0.5,0.5),label='y (measured)')\n",
    "plt.plot(t,xtrue[:,0],color='k',label='y (no noise)')\n",
    "plt.plot(t,xhat[:,0],color=(0,0.447,0.741),label='y (KF estimate)')\n",
    "plt.legend()\n",
    "plt.show()"
   ]
  },
  {
   "cell_type": "code",
   "execution_count": null,
   "id": "b5f97833",
   "metadata": {},
   "outputs": [],
   "source": [
    "x_labels = ('x','v','theta','omega')\n",
    "[plt.plot(t,xtrue[:,k],linewidth=1.2,label=x_labels[k]) for k in range(4)]\n",
    "plt.gca().set_prop_cycle(None) # reset color cycle\n",
    "[plt.plot(t,xhat[:,k],'--',linewidth=2,label=x_labels[k]+'_hat') for k in range(4)]\n",
    "plt.legend()\n",
    "plt.show()"
   ]
  },
  {
   "cell_type": "code",
   "execution_count": null,
   "id": "51e2ba13",
   "metadata": {},
   "outputs": [],
   "source": []
  }
 ],
 "metadata": {
  "kernelspec": {
   "display_name": "Python 3",
   "language": "python",
   "name": "python3"
  }
 },
 "nbformat": 4,
 "nbformat_minor": 5
}
