{
 "cells": [
  {
   "cell_type": "code",
   "execution_count": null,
   "id": "250f1b38",
   "metadata": {
    "lines_to_next_cell": 2
   },
   "outputs": [],
   "source": [
    "import numpy as np\n",
    "import matplotlib.pyplot as plt\n",
    "from matplotlib import rcParams\n",
    "from control.matlab import *\n",
    "import slycot\n",
    "from scipy import signal\n",
    "# Python control toolbox available at https://python-control.readthedocs.io/\n",
    "\n",
    "plt.rcParams['figure.figsize'] = [8, 8]\n",
    "plt.rcParams.update({'font.size': 18})"
   ]
  },
  {
   "cell_type": "code",
   "execution_count": null,
   "id": "91cbdcde",
   "metadata": {},
   "outputs": [],
   "source": [
    "s = tf(np.array([1,0]),np.array([0,1]))\n",
    "L = 1/s\n",
    "S = (1/(1+L))\n",
    "T = L/(1+L)\n",
    "_,_,_ = bode(L,label='L')\n",
    "_,_,_ = bode(S,label='S')\n",
    "_,_,_ = bode(T,label='T')\n",
    "plt.legend()\n",
    "plt.show()"
   ]
  },
  {
   "cell_type": "code",
   "execution_count": null,
   "id": "54716968",
   "metadata": {},
   "outputs": [],
   "source": []
  }
 ],
 "metadata": {
  "kernelspec": {
   "display_name": "Python 3",
   "language": "python",
   "name": "python3"
  }
 },
 "nbformat": 4,
 "nbformat_minor": 5
}
