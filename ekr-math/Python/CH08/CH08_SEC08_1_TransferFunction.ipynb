{
 "cells": [
  {
   "cell_type": "code",
   "execution_count": null,
   "id": "6760b52a",
   "metadata": {
    "lines_to_next_cell": 2
   },
   "outputs": [],
   "source": [
    "import numpy as np\n",
    "import matplotlib.pyplot as plt\n",
    "from matplotlib import rcParams\n",
    "from control.matlab import *\n",
    "import slycot\n",
    "from scipy import signal\n",
    "# Python control toolbox available at https://python-control.readthedocs.io/\n",
    "\n",
    "plt.rcParams['figure.figsize'] = [8, 8]\n",
    "plt.rcParams.update({'font.size': 18})"
   ]
  },
  {
   "cell_type": "code",
   "execution_count": null,
   "id": "701c1041",
   "metadata": {},
   "outputs": [],
   "source": [
    "s = tf(np.array([1,0]),np.array([0,1]))\n",
    "G = 1/(s**2 + s + 2)\n",
    "w, mag, phase = bode(G)"
   ]
  },
  {
   "cell_type": "code",
   "execution_count": null,
   "id": "3eab866f",
   "metadata": {},
   "outputs": [],
   "source": [
    "A = np.array([[0,1],[-2,-1]])\n",
    "B = np.array([0,1]).reshape((2,1))\n",
    "C = np.array([1,0])\n",
    "D = 0\n",
    "G = ss2tf(A,B,C,D)\n",
    "\n",
    "ia,it = impulse(G)\n",
    "\n",
    "plt.plot(it[[0,-1]],np.array([0,0]),'k:')\n",
    "plt.plot(it,ia)\n",
    "plt.title('Impulse Response')\n",
    "plt.ylabel('Amplitude')\n",
    "plt.xlabel('Time')\n",
    "plt.show()"
   ]
  },
  {
   "cell_type": "code",
   "execution_count": null,
   "id": "1d7beb67",
   "metadata": {},
   "outputs": [],
   "source": []
  }
 ],
 "metadata": {
  "kernelspec": {
   "display_name": "Python 3",
   "language": "python",
   "name": "python3"
  }
 },
 "nbformat": 4,
 "nbformat_minor": 5
}
