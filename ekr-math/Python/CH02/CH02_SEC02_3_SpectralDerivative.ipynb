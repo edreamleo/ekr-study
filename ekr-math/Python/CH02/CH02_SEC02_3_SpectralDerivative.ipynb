{
 "cells": [
  {
   "cell_type": "code",
   "execution_count": null,
   "id": "36c4a1aa",
   "metadata": {},
   "outputs": [],
   "source": [
    "import numpy as np\n",
    "import matplotlib.pyplot as plt\n",
    "plt.rcParams['figure.figsize'] = [12, 12]\n",
    "plt.rcParams.update({'font.size': 18})\n",
    "\n",
    "\n",
    "n = 128\n",
    "L = 30\n",
    "dx = L/n\n",
    "x = np.arange(-L/2,L/2,dx,dtype='complex_')\n",
    "f = np.cos(x) * np.exp(-np.power(x,2)/25) # Function\n",
    "df = -(np.sin(x) * np.exp(-np.power(x,2)/25) + (2/25)*x*f) # Derivative"
   ]
  },
  {
   "cell_type": "code",
   "execution_count": null,
   "id": "9aeb643f",
   "metadata": {},
   "outputs": [],
   "source": [
    "## Approximate derivative using finite difference\n",
    "dfFD = np.zeros(len(df),dtype='complex_')\n",
    "for kappa in range(len(df)-1):\n",
    "    dfFD[kappa] = (f[kappa+1]-f[kappa])/dx\n",
    "    \n",
    "dfFD[-1] = dfFD[-2]"
   ]
  },
  {
   "cell_type": "code",
   "execution_count": null,
   "id": "50309afd",
   "metadata": {
    "lines_to_next_cell": 2
   },
   "outputs": [],
   "source": [
    "## Derivative using FFT (spectral derivative)\n",
    "fhat = np.fft.fft(f)\n",
    "kappa = (2*np.pi/L)*np.arange(-n/2,n/2)\n",
    "kappa = np.fft.fftshift(kappa) # Re-order fft frequencies\n",
    "dfhat = kappa * fhat * (1j)\n",
    "dfFFT = np.real(np.fft.ifft(dfhat))"
   ]
  },
  {
   "cell_type": "code",
   "execution_count": null,
   "id": "47c8efd1",
   "metadata": {},
   "outputs": [],
   "source": [
    "## Plots\n",
    "plt.plot(x,df.real,color='k',LineWidth=2,label='True Derivative')\n",
    "plt.plot(x,dfFD.real,'--',color='b',LineWidth=1.5,label='Finite Diff.')\n",
    "plt.plot(x,dfFFT.real,'--',color='r',LineWidth=1.5,label='FFT Derivative')\n",
    "plt.legend()\n",
    "plt.show()"
   ]
  },
  {
   "cell_type": "code",
   "execution_count": null,
   "id": "23ba03d2",
   "metadata": {},
   "outputs": [],
   "source": []
  }
 ],
 "metadata": {
  "kernelspec": {
   "display_name": "Python 3",
   "language": "python",
   "name": "python3"
  }
 },
 "nbformat": 4,
 "nbformat_minor": 5
}
