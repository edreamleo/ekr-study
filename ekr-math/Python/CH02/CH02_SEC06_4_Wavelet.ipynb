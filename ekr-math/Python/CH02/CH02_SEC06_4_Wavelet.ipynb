{
 "cells": [
  {
   "cell_type": "code",
   "execution_count": null,
   "id": "39d188e5",
   "metadata": {},
   "outputs": [],
   "source": [
    "# Using the PyWavelets module, available at \n",
    "# https://pywavelets.readthedocs.io/en/latest/install.html\n",
    "\n",
    "from matplotlib.image import imread\n",
    "import numpy as np\n",
    "import matplotlib.pyplot as plt\n",
    "import os\n",
    "import pywt\n",
    "plt.rcParams['figure.figsize'] = [16, 16]\n",
    "plt.rcParams.update({'font.size': 18})\n",
    "\n",
    "A = imread(os.path.join('..','DATA','dog.jpg'))\n",
    "B = np.mean(A, -1); # Convert RGB to grayscale"
   ]
  },
  {
   "cell_type": "code",
   "execution_count": null,
   "id": "3520f216",
   "metadata": {},
   "outputs": [],
   "source": [
    "## Wavelet decomposition (2 level)\n",
    "n = 2\n",
    "w = 'db1'\n",
    "coeffs = pywt.wavedec2(B,wavelet=w,level=n)\n",
    "\n",
    "# normalize each coefficient array\n",
    "coeffs[0] /= np.abs(coeffs[0]).max()\n",
    "for detail_level in range(n):\n",
    "    coeffs[detail_level + 1] = [d/np.abs(d).max() for d in coeffs[detail_level + 1]]\n",
    "\n",
    "arr, coeff_slices = pywt.coeffs_to_array(coeffs)\n",
    "\n",
    "\n",
    "\n",
    "plt.imshow(arr,cmap='gray',vmin=-0.25,vmax=0.75)\n",
    "plt.show()"
   ]
  }
 ],
 "metadata": {
  "kernelspec": {
   "display_name": "Python 3",
   "language": "python",
   "name": "python3"
  }
 },
 "nbformat": 4,
 "nbformat_minor": 5
}
