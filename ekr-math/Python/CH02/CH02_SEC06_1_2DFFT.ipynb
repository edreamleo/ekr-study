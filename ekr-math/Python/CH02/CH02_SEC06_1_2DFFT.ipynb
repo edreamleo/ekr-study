{
 "cells": [
  {
   "cell_type": "code",
   "execution_count": null,
   "id": "fb2ef924",
   "metadata": {},
   "outputs": [],
   "source": [
    "from matplotlib.image import imread\n",
    "import numpy as np\n",
    "import matplotlib.pyplot as plt\n",
    "import os\n",
    "plt.rcParams['figure.figsize'] = [12, 8]\n",
    "plt.rcParams.update({'font.size': 18})\n",
    "\n",
    "A = imread(os.path.join('..','DATA','dog.jpg'))\n",
    "B = np.mean(A, -1); # Convert RGB to grayscale\n",
    "\n",
    "fig,axs = plt.subplots(1,3)\n",
    "\n",
    "# Plot image\n",
    "img = axs[0].imshow(B)\n",
    "img.set_cmap('gray')\n",
    "axs[0].axis('off')\n",
    "\n",
    "# Compute row-wise FFT\n",
    "\n",
    "Cshift = np.zeros_like(B,dtype='complex_')\n",
    "C = np.zeros_like(B,dtype='complex_')\n",
    "\n",
    "for j in range(B.shape[0]):\n",
    "    Cshift[j,:] = np.fft.fftshift(np.fft.fft(B[j,:]))\n",
    "    C[j,:] = np.fft.fft(B[j,:])\n",
    "    \n",
    "img = axs[1].imshow(np.log(np.abs(Cshift)))\n",
    "img.set_cmap('gray')\n",
    "axs[1].axis('off')\n",
    "\n",
    "# Compute column-wise FFT\n",
    "\n",
    "D = np.zeros_like(C)\n",
    "for j in range(C.shape[1]):\n",
    "    D[:,j] = np.fft.fft(C[:,j])\n",
    "\n",
    "img = axs[2].imshow(np.fft.fftshift(np.log(np.abs(D))))\n",
    "img.set_cmap('gray')\n",
    "axs[2].axis('off')\n",
    "\n",
    "plt.show()\n",
    "\n",
    "# Much more efficient to use fft2\n",
    "D = np.fft.fft2(B)"
   ]
  },
  {
   "cell_type": "code",
   "execution_count": null,
   "id": "b011eb41",
   "metadata": {},
   "outputs": [],
   "source": []
  }
 ],
 "metadata": {
  "kernelspec": {
   "display_name": "Python 3",
   "language": "python",
   "name": "python3"
  }
 },
 "nbformat": 4,
 "nbformat_minor": 5
}
