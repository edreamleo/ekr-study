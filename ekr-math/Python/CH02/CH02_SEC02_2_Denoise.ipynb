{
 "cells": [
  {
   "cell_type": "code",
   "execution_count": null,
   "id": "96e8eb8c",
   "metadata": {},
   "outputs": [],
   "source": [
    "import numpy as np\n",
    "import matplotlib.pyplot as plt\n",
    "plt.rcParams['figure.figsize'] = [16, 12]\n",
    "plt.rcParams.update({'font.size': 18})\n",
    "\n",
    "# Create a simple signal with two frequencies\n",
    "dt = 0.001\n",
    "t = np.arange(0,1,dt)\n",
    "f = np.sin(2*np.pi*50*t) + np.sin(2*np.pi*120*t) # Sum of 2 frequencies\n",
    "f_clean = f\n",
    "f = f + 2.5*np.random.randn(len(t))              # Add some noise"
   ]
  },
  {
   "cell_type": "code",
   "execution_count": null,
   "id": "c2fe9b73",
   "metadata": {
    "lines_to_next_cell": 2
   },
   "outputs": [],
   "source": [
    "## Compute the Fast Fourier Transform (FFT)\n",
    "\n",
    "n = len(t)\n",
    "fhat = np.fft.fft(f,n)                     # Compute the FFT\n",
    "PSD = fhat * np.conj(fhat) / n             # Power spectrum (power per freq)\n",
    "freq = (1/(dt*n)) * np.arange(n)           # Create x-axis of frequencies in Hz\n",
    "L = np.arange(1,np.floor(n/2),dtype='int') # Only plot the first half of freqs"
   ]
  },
  {
   "cell_type": "code",
   "execution_count": null,
   "id": "602f8a49",
   "metadata": {},
   "outputs": [],
   "source": [
    "## Use the PSD to filter out noise\n",
    "indices = PSD > 100       # Find all freqs with large power\n",
    "PSDclean = PSD * indices  # Zero out all others\n",
    "fhat = indices * fhat     # Zero out small Fourier coeffs. in Y\n",
    "ffilt = np.fft.ifft(fhat) # Inverse FFT for filtered time signal"
   ]
  },
  {
   "cell_type": "code",
   "execution_count": null,
   "id": "5c7b59ca",
   "metadata": {},
   "outputs": [],
   "source": [
    "## Plots\n",
    "fig,axs = plt.subplots(3,1)\n",
    "\n",
    "plt.sca(axs[0])\n",
    "plt.plot(t,f,color='r',LineWidth=1.5,label='Noisy')\n",
    "plt.plot(t,f_clean,color='k',LineWidth=2,label='Clean')\n",
    "plt.xlim(t[0],t[-1])\n",
    "plt.legend()\n",
    "\n",
    "plt.sca(axs[1])\n",
    "plt.plot(t,f_clean,color='k',LineWidth=1.5,label='Clean')\n",
    "plt.plot(t,ffilt,color='b',LineWidth=2,label='Filtered')\n",
    "plt.xlim(t[0],t[-1])\n",
    "plt.legend()\n",
    "\n",
    "plt.sca(axs[2])\n",
    "plt.plot(freq[L],PSD[L],color='r',LineWidth=2,label='Noisy')\n",
    "plt.plot(freq[L],PSDclean[L],color='b',LineWidth=1.5,label='Filtered')\n",
    "plt.xlim(freq[L[0]],freq[L[-1]])\n",
    "plt.legend()\n",
    "\n",
    "plt.show()"
   ]
  }
 ],
 "metadata": {
  "kernelspec": {
   "display_name": "Python 3",
   "language": "python",
   "name": "python3"
  }
 },
 "nbformat": 4,
 "nbformat_minor": 5
}
