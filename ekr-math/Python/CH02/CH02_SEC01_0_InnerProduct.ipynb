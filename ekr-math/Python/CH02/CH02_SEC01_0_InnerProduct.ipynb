{
 "cells": [
  {
   "cell_type": "code",
   "execution_count": null,
   "id": "7a840b6e",
   "metadata": {
    "lines_to_next_cell": 2
   },
   "outputs": [],
   "source": [
    "import numpy as np\n",
    "import matplotlib.pyplot as plt\n",
    "from scipy import interpolate\n",
    "\n",
    "plt.rcParams['figure.figsize'] = [8, 8]\n",
    "plt.rcParams.update({'font.size': 18})\n",
    "\n",
    "\n",
    "f = np.array([0, 0, .1, .2, .25, .2, .25, .3, .35, .43, .45, .5, .55, .5, .4, .425, .45, .425, .4, .35, .3, .25, .225, .2, .1, 0, 0])\n",
    "g = np.array([0, 0, .025, .1, .2, .175, .2, .25, .25, .3, .32, .35, .375, .325, .3, .275, .275, .25, .225, .225, .2, .175, .15, .15, .05, 0, 0])\n",
    "g = g - 0.025 * np.ones_like(g)\n",
    "\n",
    "x = 0.1 * np.arange(1,len(f)+1)\n",
    "xf = np.arange(0.1,x[-1],0.01)\n",
    "\n",
    "f_interp = interpolate.interp1d(x, f, kind='cubic')\n",
    "g_interp = interpolate.interp1d(x, g, kind='cubic')\n",
    "\n",
    "ff = f_interp(xf)  \n",
    "gf = g_interp(xf)\n",
    "\n",
    "plt.plot(xf[10:-10],ff[10:-10],color='k',LineWidth=2)\n",
    "plt.plot(x[1:-2],f[1:-2],'o',color='b')\n",
    "\n",
    "plt.plot(xf[10:-10],gf[10:-10],color='k',LineWidth=2)\n",
    "plt.plot(x[1:-2],g[1:-2],'o',color='r')\n",
    "\n",
    "plt.show()"
   ]
  }
 ],
 "metadata": {
  "kernelspec": {
   "display_name": "Python 3",
   "language": "python",
   "name": "python3"
  }
 },
 "nbformat": 4,
 "nbformat_minor": 5
}
