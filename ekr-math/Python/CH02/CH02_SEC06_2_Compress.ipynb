{
 "cells": [
  {
   "cell_type": "code",
   "execution_count": null,
   "id": "39165fe6",
   "metadata": {},
   "outputs": [],
   "source": [
    "from matplotlib.image import imread\n",
    "import numpy as np\n",
    "import matplotlib.pyplot as plt\n",
    "import os\n",
    "plt.rcParams['figure.figsize'] = [12, 8]\n",
    "plt.rcParams.update({'font.size': 18})\n",
    "\n",
    "A = imread(os.path.join('..','DATA','dog.jpg'))\n",
    "B = np.mean(A, -1); # Convert RGB to grayscale\n",
    "\n",
    "Bt = np.fft.fft2(B)\n",
    "Btsort = np.sort(np.abs(Bt.reshape(-1))) # sort by magnitude\n",
    "\n",
    "# Zero out all small coefficients and inverse transform\n",
    "for keep in (0.1, 0.05, 0.01, 0.002):\n",
    "    thresh = Btsort[int(np.floor((1-keep)*len(Btsort)))]\n",
    "    ind = np.abs(Bt)>thresh          # Find small indices\n",
    "    Atlow = Bt * ind                 # Threshold small indices\n",
    "    Alow = np.fft.ifft2(Atlow).real  # Compressed image\n",
    "    plt.figure()\n",
    "    plt.imshow(Alow,cmap='gray')\n",
    "    plt.axis('off')\n",
    "    plt.title('Compressed image: keep = ' + str(keep))"
   ]
  },
  {
   "cell_type": "code",
   "execution_count": null,
   "id": "b8c69a95",
   "metadata": {},
   "outputs": [],
   "source": []
  },
  {
   "cell_type": "code",
   "execution_count": null,
   "id": "746875c6",
   "metadata": {},
   "outputs": [],
   "source": []
  }
 ],
 "metadata": {
  "kernelspec": {
   "display_name": "Python 3",
   "language": "python",
   "name": "python3"
  }
 },
 "nbformat": 4,
 "nbformat_minor": 5
}
