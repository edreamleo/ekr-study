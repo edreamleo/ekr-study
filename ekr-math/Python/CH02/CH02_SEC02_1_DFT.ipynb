{
 "cells": [
  {
   "cell_type": "code",
   "execution_count": null,
   "id": "ecd20f36",
   "metadata": {},
   "outputs": [],
   "source": [
    "import numpy as np\n",
    "import matplotlib.pyplot as plt\n",
    "plt.rcParams['figure.figsize'] = [8, 8]\n",
    "plt.rcParams.update({'font.size': 18})\n",
    "\n",
    "n = 256\n",
    "w = np.exp(-1j * 2 * np.pi / n)"
   ]
  },
  {
   "cell_type": "code",
   "execution_count": null,
   "id": "90de7a26",
   "metadata": {},
   "outputs": [],
   "source": [
    "DFT = np.zeros((n,n))\n",
    "\n",
    "# Slow\n",
    "for i in range(n):\n",
    "    for k in range(n):\n",
    "        DFT[i,k] = w**(i*k)\n",
    "        \n",
    "DFT = np.real(DFT)\n",
    "        \n",
    "plt.imshow(DFT)\n",
    "plt.show()"
   ]
  },
  {
   "cell_type": "code",
   "execution_count": null,
   "id": "3302c27c",
   "metadata": {},
   "outputs": [],
   "source": [
    "# Fast\n",
    "J,K = np.meshgrid(np.arange(n),np.arange(n))\n",
    "DFT = np.power(w,J*K)\n",
    "DFT = np.real(DFT)\n",
    "       \n",
    "plt.imshow(DFT)\n",
    "plt.show()"
   ]
  },
  {
   "cell_type": "code",
   "execution_count": null,
   "id": "90b9544a",
   "metadata": {},
   "outputs": [],
   "source": []
  }
 ],
 "metadata": {
  "kernelspec": {
   "display_name": "Python 3",
   "language": "python",
   "name": "python3"
  }
 },
 "nbformat": 4,
 "nbformat_minor": 5
}
