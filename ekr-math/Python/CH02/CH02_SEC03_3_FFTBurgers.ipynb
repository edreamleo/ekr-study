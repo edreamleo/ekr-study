{
 "cells": [
  {
   "cell_type": "code",
   "execution_count": null,
   "id": "84dd099b",
   "metadata": {},
   "outputs": [],
   "source": [
    "import numpy as np\n",
    "import matplotlib.pyplot as plt\n",
    "from scipy.integrate import odeint\n",
    "from mpl_toolkits.mplot3d import axes3d\n",
    "plt.rcParams['figure.figsize'] = [12, 12]\n",
    "plt.rcParams.update({'font.size': 18})\n",
    "\n",
    "nu = 0.001 # Diffusion constant\n",
    "L = 20     # Length of domain\n",
    "N = 1000   # Number of discretization points\n",
    "dx = L/N\n",
    "x = np.arange(-L/2,L/2,dx) # Define x domain\n",
    "\n",
    "# Define discrete wavenumbers\n",
    "kappa = 2*np.pi*np.fft.fftfreq(N, d=dx)\n",
    "\n",
    "# Initial condition\n",
    "u0 = 1/np.cosh(x)\n",
    "\n",
    "# Simulate PDE in spatial domain\n",
    "dt = 0.025\n",
    "t = np.arange(0,100*dt,dt)\n",
    "\n",
    "def rhsBurgers(u,t,kappa,nu):\n",
    "    uhat = np.fft.fft(u)\n",
    "    d_uhat = (1j)*kappa*uhat\n",
    "    dd_uhat = -np.power(kappa,2)*uhat\n",
    "    d_u = np.fft.ifft(d_uhat)\n",
    "    dd_u = np.fft.ifft(dd_uhat)\n",
    "    du_dt = -u * d_u + nu*dd_u\n",
    "    return du_dt.real\n",
    "\n",
    "u = odeint(rhsBurgers,u0,t,args=(kappa,nu))\n",
    "\n",
    "# Waterfall plot\n",
    "fig = plt.figure()\n",
    "ax = fig.add_subplot(111, projection='3d')\n",
    "\n",
    "u_plot = u[0:-1:10,:]\n",
    "for j in range(u_plot.shape[0]):\n",
    "    ys = j*np.ones(u_plot.shape[1])\n",
    "    ax.plot(x,ys,u_plot[j,:])\n",
    "    \n",
    "# Image plot\n",
    "plt.figure()\n",
    "plt.imshow(np.flipud(u), aspect=8)\n",
    "plt.axis('off')\n",
    "plt.show()"
   ]
  },
  {
   "cell_type": "code",
   "execution_count": null,
   "id": "439a8761",
   "metadata": {},
   "outputs": [],
   "source": []
  }
 ],
 "metadata": {
  "kernelspec": {
   "display_name": "Python 3",
   "language": "python",
   "name": "python3"
  }
 },
 "nbformat": 4,
 "nbformat_minor": 5
}
