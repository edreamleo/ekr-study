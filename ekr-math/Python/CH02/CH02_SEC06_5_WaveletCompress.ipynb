{
 "cells": [
  {
   "cell_type": "code",
   "execution_count": null,
   "id": "b575e8ef",
   "metadata": {},
   "outputs": [],
   "source": [
    "# Using the PyWavelets module, available at \n",
    "# https://pywavelets.readthedocs.io/en/latest/install.html\n",
    "\n",
    "from matplotlib.image import imread\n",
    "import numpy as np\n",
    "import matplotlib.pyplot as plt\n",
    "import os\n",
    "import pywt\n",
    "plt.rcParams['figure.figsize'] = [8, 8]\n",
    "plt.rcParams.update({'font.size': 18})\n",
    "\n",
    "A = imread(os.path.join('..','DATA','dog.jpg'))\n",
    "B = np.mean(A, -1); # Convert RGB to grayscale"
   ]
  },
  {
   "cell_type": "code",
   "execution_count": null,
   "id": "449a8784",
   "metadata": {
    "lines_to_next_cell": 2
   },
   "outputs": [],
   "source": [
    "## Wavelet Compression\n",
    "n = 4\n",
    "w = 'db1'\n",
    "coeffs = pywt.wavedec2(B,wavelet=w,level=n)\n",
    "\n",
    "coeff_arr, coeff_slices = pywt.coeffs_to_array(coeffs)\n",
    "\n",
    "Csort = np.sort(np.abs(coeff_arr.reshape(-1)))\n",
    "\n",
    "for keep in (0.1, 0.05, 0.01, 0.005):\n",
    "    thresh = Csort[int(np.floor((1-keep)*len(Csort)))]\n",
    "    ind = np.abs(coeff_arr) > thresh\n",
    "    Cfilt = coeff_arr * ind # Threshold small indices\n",
    "    \n",
    "    coeffs_filt = pywt.array_to_coeffs(Cfilt,coeff_slices,output_format='wavedec2')\n",
    "    \n",
    "    # Plot reconstruction\n",
    "    Arecon = pywt.waverec2(coeffs_filt,wavelet=w)\n",
    "    plt.figure()\n",
    "    plt.imshow(Arecon.astype('uint8'),cmap='gray')\n",
    "    plt.axis('off')\n",
    "    plt.title('keep = ' + str(keep))"
   ]
  }
 ],
 "metadata": {
  "kernelspec": {
   "display_name": "Python 3",
   "language": "python",
   "name": "python3"
  }
 },
 "nbformat": 4,
 "nbformat_minor": 5
}
