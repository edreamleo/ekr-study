{
 "cells": [
  {
   "cell_type": "code",
   "execution_count": null,
   "id": "338a2450",
   "metadata": {},
   "outputs": [],
   "source": [
    "import numpy as np\n",
    "import matplotlib.pyplot as plt\n",
    "from matplotlib import animation, rc\n",
    "from IPython.display import HTML\n",
    "plt.rcParams['figure.figsize'] = [8, 8]\n",
    "plt.rcParams.update({'font.size': 18})\n",
    "plt.rcParams['animation.html'] = 'jshtml'\n",
    "\n",
    "\n",
    "dx = 0.01\n",
    "L = 10\n",
    "x = np.arange(0,L+dx,dx)\n",
    "n = len(x)\n",
    "nquart = int(np.floor(n/4))\n",
    "\n",
    "f = np.zeros_like(x)\n",
    "f[nquart:3*nquart] = 1\n",
    "\n",
    "A0 = np.sum(f * np.ones_like(x)) * dx * 2 / L\n",
    "fFS = A0/2 * np.ones_like(f)\n",
    "\n",
    "fig,ax = plt.subplots()\n",
    "plt.plot(x,f,color='k',LineWidth=2)\n",
    "fFS_plot, = plt.plot([],[],color='r',LineWidth=2)\n",
    "\n",
    "all_fFS = np.zeros((len(fFS),101))\n",
    "all_fFS[:,0] = fFS\n",
    "\n",
    "for k in range(1,101):\n",
    "    Ak = np.sum(f * np.cos(2*np.pi*k*x/L)) * dx * 2 / L\n",
    "    Bk = np.sum(f * np.sin(2*np.pi*k*x/L)) * dx * 2 / L\n",
    "    fFS = fFS + Ak*np.cos(2*k*np.pi*x/L) + Bk*np.sin(2*k*np.pi*x/L)\n",
    "    all_fFS[:,k] = fFS\n",
    "\n",
    "def init():\n",
    "    ax.set_xlim(x[0],x[-1])\n",
    "    ax.set_ylim(-0.2, 1.2)\n",
    "    return fFS\n",
    "\n",
    "def animate(iter):\n",
    "    fFS_plot.set_data(x,all_fFS[:,iter])\n",
    "    return fFS_plot\n",
    "\n",
    "anim = animation.FuncAnimation(fig,animate,init_func=init,frames=101,interval=50,blit=False,repeat=False)\n",
    "HTML(anim.to_jshtml())"
   ]
  },
  {
   "cell_type": "code",
   "execution_count": null,
   "id": "8f8ce0a0",
   "metadata": {},
   "outputs": [],
   "source": []
  },
  {
   "cell_type": "code",
   "execution_count": null,
   "id": "6ebc977d",
   "metadata": {},
   "outputs": [],
   "source": []
  }
 ],
 "metadata": {
  "kernelspec": {
   "display_name": "Python 3",
   "language": "python",
   "name": "python3"
  }
 },
 "nbformat": 4,
 "nbformat_minor": 5
}
