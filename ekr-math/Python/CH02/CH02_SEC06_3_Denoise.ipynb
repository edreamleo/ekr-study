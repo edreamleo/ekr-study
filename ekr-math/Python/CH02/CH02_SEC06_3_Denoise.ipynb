{
 "cells": [
  {
   "cell_type": "code",
   "execution_count": null,
   "id": "6e4bd9b6",
   "metadata": {},
   "outputs": [],
   "source": [
    "from matplotlib.image import imread\n",
    "import numpy as np\n",
    "import matplotlib.pyplot as plt\n",
    "import os\n",
    "plt.rcParams['figure.figsize'] = [16, 16]\n",
    "plt.rcParams.update({'font.size': 18})\n",
    "\n",
    "A = imread(os.path.join('..','DATA','dog.jpg'))\n",
    "B = np.mean(A, -1); # Convert RGB to grayscale"
   ]
  },
  {
   "cell_type": "code",
   "execution_count": null,
   "id": "72e4122b",
   "metadata": {},
   "outputs": [],
   "source": [
    "## Denoise\n",
    "Bnoise = B + 200*np.random.randn(*B.shape).astype('uint8') # Add some noise\n",
    "Bt = np.fft.fft2(Bnoise)\n",
    "Btshift = np.fft.fftshift(Bt)\n",
    "F = np.log(np.abs(Btshift)+1) # Put FFT on log scale\n",
    "\n",
    "fig,axs = plt.subplots(2,2)\n",
    "\n",
    "axs[0,0].imshow(Bnoise,cmap='gray')\n",
    "axs[0,0].axis('off')\n",
    "\n",
    "axs[0,1].imshow(F,cmap='gray')\n",
    "axs[0,1].axis('off')\n",
    "\n",
    "nx,ny = B.shape\n",
    "X,Y = np.meshgrid(np.arange(-ny/2+1,ny/2+1),np.arange(-nx/2+1,nx/2+1))\n",
    "# xgrid = np.fft.ifftshift(np.arange(-nx/2+1,nx/2+1))\n",
    "# ygrid = np.fft.ifftshift(np.arange(-ny/2+1,ny/2+1))\n",
    "# X,Y = np.meshgrid(ygrid,xgrid)\n",
    "R2 = np.power(X,2) + np.power(Y,2)\n",
    "ind = R2 < 150**2\n",
    "Btshiftfilt = Btshift * ind\n",
    "Ffilt = np.log(np.abs(Btshiftfilt)+1) # Put FFT on log scale\n",
    "\n",
    "axs[1,1].imshow(Ffilt,cmap='gray')\n",
    "axs[1,1].axis('off')\n",
    "\n",
    "Btfilt = np.fft.ifftshift(Btshiftfilt)\n",
    "Bfilt = np.fft.ifft2(Btfilt).real\n",
    "axs[1,0].imshow(Bfilt,cmap='gray')\n",
    "axs[1,0].axis('off')\n",
    "\n",
    "plt.show()"
   ]
  }
 ],
 "metadata": {
  "kernelspec": {
   "display_name": "Python 3",
   "language": "python",
   "name": "python3"
  }
 },
 "nbformat": 4,
 "nbformat_minor": 5
}
