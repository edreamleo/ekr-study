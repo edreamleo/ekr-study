{
 "cells": [
  {
   "cell_type": "code",
   "execution_count": null,
   "id": "e2b13c05",
   "metadata": {},
   "outputs": [],
   "source": [
    "import numpy as np\n",
    "import matplotlib.pyplot as plt\n",
    "from matplotlib import rcParams\n",
    "from scipy import integrate\n",
    "from mpl_toolkits.mplot3d import Axes3D\n",
    "\n",
    "from keras.models import Sequential\n",
    "from keras.layers import Dense, Conv2D, Flatten, MaxPool2D\n",
    "from keras import optimizers\n",
    "from keras.layers import Activation\n",
    "from keras.utils.generic_utils import get_custom_objects\n",
    "from keras import backend as K\n",
    "\n",
    "\n",
    "rcParams.update({'font.size': 18})\n",
    "plt.rcParams['figure.figsize'] = [12, 12]"
   ]
  },
  {
   "cell_type": "code",
   "execution_count": null,
   "id": "49fb500b",
   "metadata": {},
   "outputs": [],
   "source": [
    "## Simulate the Lorenz System\n",
    "\n",
    "dt = 0.01\n",
    "T = 8\n",
    "t = np.arange(0,T+dt,dt)\n",
    "beta = 8/3\n",
    "sigma = 10\n",
    "rho = 28\n",
    "\n",
    "\n",
    "nn_input = np.zeros((100*(len(t)-1),3))\n",
    "nn_output = np.zeros_like(nn_input)\n",
    "\n",
    "fig,ax = plt.subplots(1,1,subplot_kw={'projection': '3d'})\n",
    "\n",
    "\n",
    "def lorenz_deriv(x_y_z, t0, sigma=sigma, beta=beta, rho=rho):\n",
    "    x, y, z = x_y_z\n",
    "    return [sigma * (y - x), x * (rho - z) - y, x * y - beta * z]\n",
    "\n",
    "np.random.seed(123)\n",
    "x0 = -15 + 30 * np.random.random((100, 3))\n",
    "\n",
    "x_t = np.asarray([integrate.odeint(lorenz_deriv, x0_j, t)\n",
    "                  for x0_j in x0])\n",
    "\n",
    "for j in range(100):\n",
    "    nn_input[j*(len(t)-1):(j+1)*(len(t)-1),:] = x_t[j,:-1,:]\n",
    "    nn_output[j*(len(t)-1):(j+1)*(len(t)-1),:] = x_t[j,1:,:]\n",
    "    x, y, z = x_t[j,:,:].T\n",
    "    ax.plot(x, y, z,linewidth=1)\n",
    "    ax.scatter(x0[j,0],x0[j,1],x0[j,2],color='r')\n",
    "             \n",
    "ax.view_init(18, -113)\n",
    "plt.show()"
   ]
  },
  {
   "cell_type": "code",
   "execution_count": null,
   "id": "d8f22130",
   "metadata": {},
   "outputs": [],
   "source": [
    "## Neural Net\n",
    "\n",
    "# Define activation functions\n",
    "def logsig(x):\n",
    "    return K.variable(np.divide(1,(1+np.exp(-K.eval(x)))))\n",
    "\n",
    "def radbas(x):\n",
    "    return K.variable(np.exp(-np.power(K.eval(x),2)))\n",
    "\n",
    "def purelin(x):\n",
    "    return x\n",
    "\n",
    "\n",
    "#create model\n",
    "model = Sequential()\n",
    "\n",
    "#add model layers\n",
    "model.add(Dense(10, activation=logsig))\n",
    "model.add(Dense(10, activation=radbas))\n",
    "model.add(Dense(10, activation=purelin))\n",
    "\n",
    "\n",
    "\n",
    "\n",
    "sgd_optimizer = optimizers.SGD(momentum=0.9)\n",
    "model.compile(optimizer=sgd_optimizer, loss='categorical_crossentropy')\n",
    "model.fit(nn_input, nn_output, epochs=30)"
   ]
  },
  {
   "cell_type": "code",
   "execution_count": null,
   "id": "217297cb",
   "metadata": {},
   "outputs": [],
   "source": [
    "nn_input.shape"
   ]
  },
  {
   "cell_type": "code",
   "execution_count": null,
   "id": "880fe063",
   "metadata": {},
   "outputs": [],
   "source": []
  }
 ],
 "metadata": {
  "kernelspec": {
   "display_name": "Python 3",
   "language": "python",
   "name": "python3"
  }
 },
 "nbformat": 4,
 "nbformat_minor": 5
}
