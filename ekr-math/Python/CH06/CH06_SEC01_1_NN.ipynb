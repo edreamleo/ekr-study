{
 "cells": [
  {
   "cell_type": "code",
   "execution_count": null,
   "id": "1c62c016",
   "metadata": {},
   "outputs": [],
   "source": [
    "import numpy as np\n",
    "import matplotlib.pyplot as plt\n",
    "from matplotlib import rcParams\n",
    "from scipy import io\n",
    "import os\n",
    "from sklearn import linear_model\n",
    "\n",
    "\n",
    "rcParams.update({'font.size': 18})\n",
    "plt.rcParams['figure.figsize'] = [12, 12]"
   ]
  },
  {
   "cell_type": "code",
   "execution_count": null,
   "id": "dabe4038",
   "metadata": {},
   "outputs": [],
   "source": [
    "# dogs vs. cats\n",
    "dogdata_w_mat = io.loadmat(os.path.join('..','DATA','dogData_w.mat'))\n",
    "catdata_w_mat = io.loadmat(os.path.join('..','DATA','catData_w.mat'))\n",
    "\n",
    "dog_wave = dogdata_w_mat['dog_wave']\n",
    "cat_wave = catdata_w_mat['cat_wave']\n",
    "\n",
    "CD = np.concatenate((dog_wave,cat_wave),axis=1)\n",
    "\n",
    "train = np.concatenate((dog_wave[:,:60],cat_wave[:,:60]),axis=1)\n",
    "test = np.concatenate((dog_wave[:,60:80],cat_wave[:,60:80]),axis=1)\n",
    "label = np.repeat(np.array([1,-1]),60)\n",
    "\n",
    "A = label @ np.linalg.pinv(train)\n",
    "test_labels = np.sign(A@test)"
   ]
  },
  {
   "cell_type": "code",
   "execution_count": null,
   "id": "9ba4b62b",
   "metadata": {},
   "outputs": [],
   "source": [
    "lasso = linear_model.Lasso().fit(train.T,label)\n",
    "A_lasso = lasso.coef_\n",
    "test_labels_lasso = np.sign(A_lasso@test)"
   ]
  },
  {
   "cell_type": "code",
   "execution_count": null,
   "id": "1b50bef9",
   "metadata": {},
   "outputs": [],
   "source": [
    "fig,axs = plt.subplots(4,1)\n",
    "axs[0].bar(range(len(test_labels)),test_labels)\n",
    "axs[1].bar(range(len(A)),A)\n",
    "axs[2].bar(range(len(test_labels_lasso)),test_labels_lasso)\n",
    "axs[3].bar(range(len(A_lasso)),A_lasso)\n",
    "\n",
    "\n",
    "plt.show()"
   ]
  },
  {
   "cell_type": "code",
   "execution_count": null,
   "id": "a52219e4",
   "metadata": {},
   "outputs": [],
   "source": [
    "fig,axs = plt.subplots(2,2)\n",
    "axs = axs.reshape(-1)\n",
    "A2 = np.flipud(np.reshape(A,(32,32)))\n",
    "A2_lasso = np.flipud(np.reshape(A_lasso,(32,32)))\n",
    "axs[0].pcolor(np.rot90(A2),cmap='gray')\n",
    "axs[1].pcolor(np.rot90(A2_lasso),cmap='gray')\n",
    "\n",
    "\n",
    "plt.show()"
   ]
  },
  {
   "cell_type": "code",
   "execution_count": null,
   "id": "1dd265ff",
   "metadata": {},
   "outputs": [],
   "source": [
    "## To be implemented: Python version of Matlab's patternnet()"
   ]
  },
  {
   "cell_type": "code",
   "execution_count": null,
   "id": "a1140b98",
   "metadata": {},
   "outputs": [],
   "source": []
  },
  {
   "cell_type": "code",
   "execution_count": null,
   "id": "f638df62",
   "metadata": {},
   "outputs": [],
   "source": []
  }
 ],
 "metadata": {
  "kernelspec": {
   "display_name": "Python 3",
   "language": "python",
   "name": "python3"
  }
 },
 "nbformat": 4,
 "nbformat_minor": 5
}
