{
 "cells": [
  {
   "cell_type": "code",
   "execution_count": null,
   "id": "c9b9c66c",
   "metadata": {},
   "outputs": [],
   "source": [
    "import numpy as np\n",
    "import matplotlib.pyplot as plt\n",
    "from matplotlib import rcParams\n",
    "from scipy import io\n",
    "import os\n",
    "from keras.utils import to_categorical\n",
    "from keras.models import Sequential\n",
    "from keras.layers import Dense, Conv2D, Flatten, MaxPool2D\n",
    "from keras import optimizers\n",
    "\n",
    "\n",
    "rcParams.update({'font.size': 18})\n",
    "plt.rcParams['figure.figsize'] = [12, 12]"
   ]
  },
  {
   "cell_type": "code",
   "execution_count": null,
   "id": "f54209ed",
   "metadata": {},
   "outputs": [],
   "source": [
    "letters_train_mat = io.loadmat(os.path.join('..','DATA','lettersTrainSet.mat'))\n",
    "letters_test_mat = io.loadmat(os.path.join('..','DATA','lettersTestSet.mat'))\n",
    "XTrain = letters_train_mat['XTrain']\n",
    "TTrain = letters_train_mat['TTrain_cell']\n",
    "XTest = letters_test_mat['XTest']\n",
    "TTest = letters_test_mat['TTest_cell']\n",
    "\n",
    "perm = np.random.permutation(1500)[:20]\n",
    "\n",
    "\n",
    "# By default, Keras expects data in form (batch, height, width, channels) \n",
    "XTrain = np.transpose(XTrain,axes=[3,0,1,2])\n",
    "XTest = np.transpose(XTest,axes=[3,0,1,2])\n",
    "\n",
    "\n",
    "\n",
    "fig,axs = plt.subplots(4,5)\n",
    "axs = axs.reshape(-1)\n",
    "\n",
    "for j in range(len(axs)):\n",
    "    axs[j].imshow(np.squeeze(XTrain[perm[j],:,:,:]),cmap='gray')\n",
    "    axs[j].axis('off')"
   ]
  },
  {
   "cell_type": "code",
   "execution_count": null,
   "id": "f0e565c5",
   "metadata": {},
   "outputs": [],
   "source": [
    "classes = np.unique(TTrain)\n",
    "y_train_label = np.zeros_like(TTrain)\n",
    "y_test_label = np.zeros_like(TTest)\n",
    "for nc in range(len(classes)):\n",
    "    y_train_label[TTrain == classes[nc]] = nc\n",
    "    y_test_label[TTest == classes[nc]] = nc\n",
    "\n",
    "y_train_label = y_train_label.reshape(-1)\n",
    "y_test_label = y_test_label.reshape(-1)\n",
    "    \n",
    "#one-hot encode categorical classes\n",
    "y_train = to_categorical(y_train_label)\n",
    "y_test = to_categorical(y_test_label)"
   ]
  },
  {
   "cell_type": "code",
   "execution_count": null,
   "id": "89b32a41",
   "metadata": {},
   "outputs": [],
   "source": [
    "#create model\n",
    "model = Sequential()\n",
    "\n",
    "#add model layers\n",
    "model.add(Conv2D(filters=16, kernel_size=5, activation='relu', input_shape=(28,28,1)))\n",
    "model.add(MaxPool2D(pool_size=2, strides=2))\n",
    "model.add(Flatten())\n",
    "model.add(Dense(len(classes), activation='softmax'))\n",
    "\n",
    "sgd_optimizer = optimizers.SGD(momentum=0.9)\n",
    "model.compile(optimizer=sgd_optimizer, loss='categorical_crossentropy')\n",
    "model.fit(XTrain, y_train, epochs=30)"
   ]
  },
  {
   "cell_type": "code",
   "execution_count": null,
   "id": "62633b56",
   "metadata": {},
   "outputs": [],
   "source": [
    "YPredict = np.argmax(model.predict(XTest),axis=1)\n",
    "# argmax reverses the one-hot encoding scheme\n",
    "\n",
    "accuracy = np.sum(YPredict == y_test_label)/len(y_test_label)\n",
    "print('Accuracy = {}'.format(accuracy))"
   ]
  },
  {
   "cell_type": "code",
   "execution_count": null,
   "id": "d3cad8ec",
   "metadata": {},
   "outputs": [],
   "source": []
  },
  {
   "cell_type": "code",
   "execution_count": null,
   "id": "0b04f157",
   "metadata": {},
   "outputs": [],
   "source": []
  }
 ],
 "metadata": {
  "kernelspec": {
   "display_name": "Python 3",
   "language": "python",
   "name": "python3"
  }
 },
 "nbformat": 4,
 "nbformat_minor": 5
}
