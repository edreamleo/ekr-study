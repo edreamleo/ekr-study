{
 "cells": [
  {
   "cell_type": "code",
   "execution_count": null,
   "id": "1278045c",
   "metadata": {},
   "outputs": [],
   "source": [
    "import numpy as np\n",
    "import matplotlib.pyplot as plt\n",
    "from matplotlib import cm\n",
    "from matplotlib.colors import ListedColormap, LinearSegmentedColormap\n",
    "import os\n",
    "import scipy.io\n",
    "from scipy.fftpack import dct, idct\n",
    "from scipy.optimize import minimize\n",
    "\n",
    "\n",
    "plt.rcParams['figure.figsize'] = [12, 12]\n",
    "plt.rcParams.update({'font.size': 18})\n",
    "\n",
    "mat = scipy.io.loadmat(os.path.join('..','DATA','CC2.mat'))\n",
    "CC = mat['CC']\n",
    "CC_map = ListedColormap(CC)\n",
    "\n",
    "p = 14\n",
    "n = 32"
   ]
  },
  {
   "cell_type": "code",
   "execution_count": null,
   "id": "d6e3c208",
   "metadata": {},
   "outputs": [],
   "source": [
    "## Plot Psi\n",
    "# def padflip(X):\n",
    "#     nx,ny = X.shape\n",
    "#     X = np.flipud(X)\n",
    "#     Y = np.zeros((nx+1,ny+1))\n",
    "#     Y[:-1,:-1] = X\n",
    "#     return Y\n",
    "\n",
    "Psi = dct(np.identity(n))\n",
    "plt.pcolor(np.flipud(Psi),cmap=CC_map)\n",
    "plt.axis('off')\n",
    "plt.show()"
   ]
  },
  {
   "cell_type": "code",
   "execution_count": null,
   "id": "b02303d2",
   "metadata": {},
   "outputs": [],
   "source": [
    "## Plot C\n",
    "plt.rcParams['figure.figsize'] = [12, 6]\n",
    "fig,ax = plt.subplots(1,1)\n",
    "C = np.identity(n)\n",
    "perm = np.random.permutation(n)[:p]\n",
    "C = C[perm,:] # compressed measurement\n",
    "plt.pcolor(np.flipud(C),cmap=CC_map)\n",
    "plt.grid(True)\n",
    "plt.xticks(np.arange(n))\n",
    "plt.yticks(np.arange(len(perm)))\n",
    "ax.set_xticklabels([])\n",
    "ax.set_yticklabels([])\n",
    "plt.show()"
   ]
  },
  {
   "cell_type": "code",
   "execution_count": null,
   "id": "270f1c86",
   "metadata": {},
   "outputs": [],
   "source": [
    "## Plot Theta\n",
    "\n",
    "Theta = C @ Psi\n",
    "plt.pcolor(np.flipud(Theta),cmap=CC_map)\n",
    "plt.axis('off')\n",
    "plt.show()"
   ]
  },
  {
   "cell_type": "code",
   "execution_count": null,
   "id": "19412f2c",
   "metadata": {},
   "outputs": [],
   "source": [
    "## Plot s, y\n",
    "s = np.zeros((n,1))\n",
    "s[2] = 1.4\n",
    "s[13] = 0.7\n",
    "s[27] = 2.2\n",
    "y = C @ Psi @ s\n",
    "\n",
    "fig,axs = plt.subplots(1,4)\n",
    "axs[0].pcolor(np.flipud(s),cmap=CC_map)\n",
    "axs[0].set_xlabel('s')\n",
    "\n",
    "sL2 = np.linalg.pinv(Theta) @ y\n",
    "axs[1].pcolor(np.flipud(sL2),cmap=CC_map)\n",
    "axs[1].set_xlabel('sL2')\n",
    "\n",
    "sbackslash = np.linalg.lstsq(Theta,y)[0]\n",
    "axs[2].pcolor(np.flipud(sbackslash),cmap=CC_map)\n",
    "axs[2].set_xlabel('sbackslash')\n",
    "\n",
    "axs[3].pcolor(np.flipud(y),cmap=CC_map)\n",
    "axs[3].set_xlabel('y')\n",
    "\n",
    "for ax in axs:\n",
    "    ax.set_xticklabels([])\n",
    "    ax.set_yticklabels([])\n",
    "\n",
    "plt.show()"
   ]
  },
  {
   "cell_type": "code",
   "execution_count": null,
   "id": "bbf58f79",
   "metadata": {},
   "outputs": [],
   "source": [
    "## L1-Minimization using SciPy\n",
    "def L1_norm(x):\n",
    "    return np.linalg.norm(x,ord=1)\n",
    "\n",
    "y = y.reshape(-1)\n",
    "constr = ({'type': 'eq', 'fun': lambda x:  Theta @ x - y})\n",
    "x0 = np.linalg.pinv(Theta) @ y\n",
    "res = minimize(L1_norm, x0, method='SLSQP',constraints=constr)\n",
    "s2 = res.x"
   ]
  },
  {
   "cell_type": "code",
   "execution_count": null,
   "id": "8dfe0dbb",
   "metadata": {},
   "outputs": [],
   "source": [
    "## Plot C and Theta (2) - Gaussian Random\n",
    "plt.rcParams['figure.figsize'] = [8, 4]\n",
    "\n",
    "C = np.random.randn(p,n)\n",
    "\n",
    "plt.figure()\n",
    "plt.pcolor(np.flipud(C),cmap=CC_map)\n",
    "plt.axis('off')\n",
    "plt.show()\n",
    "\n",
    "Theta = C @ Psi\n",
    "plt.figure()\n",
    "plt.pcolor(np.flipud(Theta),cmap=CC_map)\n",
    "plt.axis('off')\n",
    "plt.show()"
   ]
  },
  {
   "cell_type": "code",
   "execution_count": null,
   "id": "dc0ba8ea",
   "metadata": {},
   "outputs": [],
   "source": [
    "# Plot C and Theta (3) - Bernoulli Random\n",
    "C = np.random.randn(p,n)\n",
    "C = C > 0\n",
    "\n",
    "plt.figure()\n",
    "plt.pcolor(np.flipud(C),cmap=CC_map)\n",
    "plt.axis('off')\n",
    "plt.show()\n",
    "\n",
    "plt.figure()\n",
    "Theta = C @ Psi\n",
    "plt.pcolor(np.flipud(Theta),cmap=CC_map)\n",
    "plt.axis('off')\n",
    "plt.show()"
   ]
  },
  {
   "cell_type": "code",
   "execution_count": null,
   "id": "7ad74cd3",
   "metadata": {},
   "outputs": [],
   "source": [
    "# Plot C and Theta (4) - Sparse Bernoulli\n",
    "C = np.random.randn(p,n)\n",
    "C = C > 1\n",
    "\n",
    "plt.figure()\n",
    "plt.pcolor(np.flipud(C),cmap=CC_map)\n",
    "plt.axis('off')\n",
    "plt.show()\n",
    "\n",
    "plt.figure()\n",
    "Theta = C @ Psi\n",
    "plt.pcolor(np.flipud(Theta),cmap=CC_map)\n",
    "plt.axis('off')\n",
    "plt.show()"
   ]
  },
  {
   "cell_type": "code",
   "execution_count": null,
   "id": "53c72ad7",
   "metadata": {},
   "outputs": [],
   "source": [
    "# Bad C and Theta (5) - DCT Meas\n",
    "C = idct(np.identity(n))\n",
    "perm = np.arange(n-p,n)\n",
    "C = C[perm,:] # compressed measurement\n",
    "\n",
    "plt.figure()\n",
    "plt.pcolor(np.flipud(C),cmap=CC_map)\n",
    "plt.axis('off')\n",
    "plt.show()\n",
    "\n",
    "plt.figure()\n",
    "Theta = C @ Psi\n",
    "plt.pcolor(np.flipud(Theta),cmap=CC_map)\n",
    "plt.axis('off')\n",
    "plt.show()\n",
    "\n",
    "plt.figure()\n",
    "y = Theta @ s\n",
    "plt.pcolor(np.flipud(y),cmap=CC_map)\n",
    "plt.axis('off')\n",
    "plt.show()"
   ]
  },
  {
   "cell_type": "code",
   "execution_count": null,
   "id": "b506dc78",
   "metadata": {},
   "outputs": [],
   "source": []
  },
  {
   "cell_type": "code",
   "execution_count": null,
   "id": "75b3546b",
   "metadata": {},
   "outputs": [],
   "source": []
  },
  {
   "cell_type": "code",
   "execution_count": null,
   "id": "45aa68cd",
   "metadata": {},
   "outputs": [],
   "source": []
  }
 ],
 "metadata": {
  "kernelspec": {
   "display_name": "Python 3",
   "language": "python",
   "name": "python3"
  }
 },
 "nbformat": 4,
 "nbformat_minor": 5
}
