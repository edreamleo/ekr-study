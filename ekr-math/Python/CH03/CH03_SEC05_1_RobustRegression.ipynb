{
 "cells": [
  {
   "cell_type": "code",
   "execution_count": null,
   "id": "5b56becc",
   "metadata": {},
   "outputs": [],
   "source": [
    "import numpy as np\n",
    "import matplotlib.pyplot as plt\n",
    "import os\n",
    "from scipy.optimize import minimize\n",
    "\n",
    "\n",
    "plt.rcParams['figure.figsize'] = [7, 7]\n",
    "plt.rcParams.update({'font.size': 18})"
   ]
  },
  {
   "cell_type": "code",
   "execution_count": null,
   "id": "0c851a1d",
   "metadata": {},
   "outputs": [],
   "source": [
    "x = np.sort(4*(np.random.rand(25,1)-0.5),axis=0) # Random data from [-2,2]\n",
    "b = 0.9*x + 0.1*np.random.randn(len(x),1)  # Line y = 0.9x with noise\n",
    "atrue = np.linalg.lstsq(x,b,rcond=None)[0] # Least-squares slope (no outliers)\n",
    "atrue = atrue.item(0)\n",
    "\n",
    "b[-1] = -5.5  # Introduce outlier\n",
    "acorrupt = np.linalg.lstsq(x,b,rcond=None)[0] # New slope\n",
    "acorrupt = acorrupt.item(0)"
   ]
  },
  {
   "cell_type": "code",
   "execution_count": null,
   "id": "2effcfca",
   "metadata": {},
   "outputs": [],
   "source": [
    "## L1 optimization to reject outlier\n",
    "def L1_norm(a):\n",
    "    return np.linalg.norm(a*x-b,ord=1)\n",
    "\n",
    "a0 = acorrupt   # initialize to L2 solution\n",
    "res = minimize(L1_norm, a0)\n",
    "aL1 = res.x[0]  # aL1 is robust"
   ]
  },
  {
   "cell_type": "code",
   "execution_count": null,
   "id": "747e5421",
   "metadata": {},
   "outputs": [],
   "source": [
    "plt.plot(x[:-1],b[:-1],'o',color='b',ms=8) # Data\n",
    "plt.plot(x[-1],b[-1],'o',color='r',ms=8)   # Outlier\n",
    "\n",
    "xgrid = np.arange(-2,2,0.01)\n",
    "plt.plot(xgrid,atrue*xgrid,'--',color='k')    # L2 fit (no outlier)\n",
    "plt.plot(xgrid,acorrupt*xgrid,'--',color='r') # L2 fit (outlier)\n",
    "plt.plot(xgrid,aL1*xgrid,'--',color='b')      # L1 fit\n",
    "\n",
    "plt.show()"
   ]
  },
  {
   "cell_type": "code",
   "execution_count": null,
   "id": "1eb1a693",
   "metadata": {},
   "outputs": [],
   "source": []
  }
 ],
 "metadata": {
  "kernelspec": {
   "display_name": "Python 3",
   "language": "python",
   "name": "python3"
  }
 },
 "nbformat": 4,
 "nbformat_minor": 5
}
