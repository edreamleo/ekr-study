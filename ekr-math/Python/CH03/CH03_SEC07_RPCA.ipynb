{
 "cells": [
  {
   "cell_type": "code",
   "execution_count": null,
   "id": "dbec68b8",
   "metadata": {},
   "outputs": [],
   "source": [
    "import numpy as np\n",
    "import matplotlib.pyplot as plt\n",
    "import os\n",
    "import scipy.io\n",
    "\n",
    "plt.rcParams['figure.figsize'] = [7, 7]\n",
    "plt.rcParams.update({'font.size': 18})\n",
    "\n",
    "mat = scipy.io.loadmat(os.path.join('..','DATA','allFaces.mat'))\n",
    "faces = mat['faces']\n",
    "nfaces = mat['nfaces'].reshape(-1)"
   ]
  },
  {
   "cell_type": "code",
   "execution_count": null,
   "id": "b0f7a861",
   "metadata": {},
   "outputs": [],
   "source": [
    "## Function Definitions\n",
    "\n",
    "def shrink(X,tau):\n",
    "    Y = np.abs(X)-tau\n",
    "    return np.sign(X) * np.maximum(Y,np.zeros_like(Y))\n",
    "def SVT(X,tau):\n",
    "    U,S,VT = np.linalg.svd(X,full_matrices=0)\n",
    "    out = U @ np.diag(shrink(S,tau)) @ VT\n",
    "    return out\n",
    "def RPCA(X):\n",
    "    n1,n2 = X.shape\n",
    "    mu = n1*n2/(4*np.sum(np.abs(X.reshape(-1))))\n",
    "    lambd = 1/np.sqrt(np.maximum(n1,n2))\n",
    "    thresh = 10**(-7) * np.linalg.norm(X)\n",
    "    \n",
    "    S = np.zeros_like(X)\n",
    "    Y = np.zeros_like(X)\n",
    "    L = np.zeros_like(X)\n",
    "    count = 0\n",
    "    while (np.linalg.norm(X-L-S) > thresh) and (count < 1000):\n",
    "        L = SVT(X-S+(1/mu)*Y,1/mu)\n",
    "        S = shrink(X-L+(1/mu)*Y,lambd/mu)\n",
    "        Y = Y + mu*(X-L-S)\n",
    "        count += 1\n",
    "    return L,S"
   ]
  },
  {
   "cell_type": "code",
   "execution_count": null,
   "id": "1eb17022",
   "metadata": {},
   "outputs": [],
   "source": [
    "X = faces[:,:nfaces[0]]\n",
    "L,S = RPCA(X)"
   ]
  },
  {
   "cell_type": "code",
   "execution_count": null,
   "id": "405f4b7c",
   "metadata": {},
   "outputs": [],
   "source": [
    "inds = (3,4,14,15,17,18,19,20,21,32,43)\n",
    "\n",
    "for k in inds:\n",
    "    fig,axs = plt.subplots(2,2)\n",
    "    axs = axs.reshape(-1)\n",
    "    axs[0].imshow(np.reshape(X[:,k-1],(168,192)).T,cmap='gray')\n",
    "    axs[0].set_title('X')\n",
    "    axs[1].imshow(np.reshape(L[:,k-1],(168,192)).T,cmap='gray')\n",
    "    axs[1].set_title('L')\n",
    "    axs[2].imshow(np.reshape(S[:,k-1],(168,192)).T,cmap='gray')\n",
    "    axs[2].set_title('S')\n",
    "    for ax in axs:\n",
    "        ax.axis('off')"
   ]
  },
  {
   "cell_type": "code",
   "execution_count": null,
   "id": "78513ad6",
   "metadata": {},
   "outputs": [],
   "source": []
  },
  {
   "cell_type": "code",
   "execution_count": null,
   "id": "de47eb49",
   "metadata": {},
   "outputs": [],
   "source": []
  }
 ],
 "metadata": {
  "kernelspec": {
   "display_name": "Python 3",
   "language": "python",
   "name": "python3"
  }
 },
 "nbformat": 4,
 "nbformat_minor": 5
}
