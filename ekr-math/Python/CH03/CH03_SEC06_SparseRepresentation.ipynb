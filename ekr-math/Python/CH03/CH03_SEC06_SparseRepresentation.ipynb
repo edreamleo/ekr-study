{
 "cells": [
  {
   "cell_type": "code",
   "execution_count": null,
   "id": "915ede26",
   "metadata": {},
   "outputs": [],
   "source": [
    "import numpy as np\n",
    "import matplotlib.pyplot as plt\n",
    "import os\n",
    "import scipy.io\n",
    "from sklearn import linear_model\n",
    "from sklearn import model_selection\n",
    "from scipy.optimize import minimize\n",
    "from skimage.transform import resize\n",
    "from matplotlib.image import imread\n",
    "\n",
    "\n",
    "plt.rcParams['figure.figsize'] = [7, 7]\n",
    "plt.rcParams.update({'font.size': 18})\n",
    "\n",
    "mustache = imread(os.path.join('..','DATA','mustache.jpg'))\n",
    "mustache = np.mean(mustache, -1); # Convert RGB to grayscale\n",
    "mustache = (mustache/255).astype(int)\n",
    "mustache = mustache.T\n",
    "\n",
    "mat = scipy.io.loadmat(os.path.join('..','DATA','allFaces.mat'))\n",
    "X = mat['faces']\n",
    "nfaces = mat['nfaces'].reshape(-1)\n",
    "n = mat['n']\n",
    "n = int(n)\n",
    "m = mat['m']\n",
    "m = int(m)"
   ]
  },
  {
   "cell_type": "code",
   "execution_count": null,
   "id": "48ae3153",
   "metadata": {},
   "outputs": [],
   "source": [
    "## Build Training and Test sets\n",
    "nTrain = 30\n",
    "nTest = 20\n",
    "nPeople = 20\n",
    "Train = np.zeros((X.shape[0],nTrain*nPeople))\n",
    "Test = np.zeros((X.shape[0],nTest*nPeople))\n",
    "\n",
    "for k in range(nPeople):\n",
    "    baseind = 0\n",
    "    if k > 0:\n",
    "        baseind = np.sum(nfaces[:k])\n",
    "    inds = range(baseind,baseind+nfaces[k])\n",
    "    Train[:,k*nTrain:(k+1)*nTrain] = X[:,inds[:nTrain]]\n",
    "    Test[:,k*nTest:(k+1)*nTest] = X[:,inds[nTrain:(nTrain+nTest)]]"
   ]
  },
  {
   "cell_type": "code",
   "execution_count": null,
   "id": "1c9914c7",
   "metadata": {},
   "outputs": [],
   "source": [
    "## Downsample Training Images (Build Theta)\n",
    "M = Train.shape[1]\n",
    "\n",
    "Theta = np.zeros((120,M))\n",
    "for k in range(M):\n",
    "    temp = np.reshape(np.copy(Train[:,k]),(m,n))\n",
    "    tempSmall = resize(temp, (10, 12), anti_aliasing=True)\n",
    "    Theta[:,k] = np.reshape(tempSmall,120,1)"
   ]
  },
  {
   "cell_type": "code",
   "execution_count": null,
   "id": "0e92f9d2",
   "metadata": {},
   "outputs": [],
   "source": [
    "## Renormalize Columns of Theta\n",
    "normTheta = np.zeros(M)\n",
    "for k in range(M):\n",
    "    normTheta[k] = np.linalg.norm(Theta[:,k])\n",
    "    Theta[:,k] = Theta[:,k]/normTheta[k]"
   ]
  },
  {
   "cell_type": "code",
   "execution_count": null,
   "id": "4de6ea54",
   "metadata": {},
   "outputs": [],
   "source": [
    "## Occlude Test Image (Test[:,125] = test image 6, person 7)\n",
    "x1 = np.copy(Test[:,125]) # Clean image\n",
    "x2 = np.copy(Test[:,125]) * mustache.reshape(n*m)\n",
    "randvec = np.random.permutation(n*m)\n",
    "first30 = randvec[:int(np.floor(0.3*len(randvec)))]\n",
    "vals30 = (255*np.random.rand(*first30.shape)).astype(int)\n",
    "x3 = np.copy(x1)\n",
    "x3[first30] = vals30 # 30% occluded\n",
    "x4 = np.copy(x1) + 50*np.random.randn(*x1.shape) # Random noise"
   ]
  },
  {
   "cell_type": "code",
   "execution_count": null,
   "id": "8daa51e6",
   "metadata": {},
   "outputs": [],
   "source": [
    "## Downsample Test Images\n",
    "X = np.zeros((x1.shape[0],4))\n",
    "X[:,0] = x1\n",
    "X[:,1] = x2\n",
    "X[:,2] = x3\n",
    "X[:,3] = x4\n",
    "\n",
    "Y = np.zeros((120,4))\n",
    "for k in range(4):\n",
    "    temp = np.reshape(np.copy(X[:,k]),(m,n))\n",
    "    tempSmall = resize(temp, (10, 12), anti_aliasing=True)\n",
    "    Y[:,k] = np.reshape(tempSmall,120,1)"
   ]
  },
  {
   "cell_type": "code",
   "execution_count": null,
   "id": "11b6df6f",
   "metadata": {},
   "outputs": [],
   "source": [
    "## L1 Search, Testclean\n",
    "y1 = np.copy(Y[:,0])\n",
    "eps = 0.01\n",
    "\n",
    "# L1 Minimum norm solution s_L1\n",
    "def L1_norm(x):\n",
    "    return np.linalg.norm(x,ord=1)\n",
    "\n",
    "constr = ({'type': 'ineq', 'fun': lambda x:  eps - np.linalg.norm(Theta @ x - y1,2)})\n",
    "x0 = np.linalg.pinv(Theta) @ y1 # initialize with L2 solution\n",
    "res = minimize(L1_norm, x0, method='SLSQP',constraints=constr)\n",
    "s1 = res.x"
   ]
  },
  {
   "cell_type": "code",
   "execution_count": null,
   "id": "63b27635",
   "metadata": {
    "lines_to_next_cell": 2
   },
   "outputs": [],
   "source": [
    "plt.figure()\n",
    "plt.plot(s1)\n",
    "plt.figure()\n",
    "plt.imshow(np.reshape(Train @ (s1/normTheta),(m,n)).T,cmap='gray')\n",
    "plt.figure()\n",
    "plt.imshow(np.reshape(x1 - Train @ (s1/normTheta),(m,n)).T,cmap='gray')\n",
    "\n",
    "binErr = np.zeros(nPeople)\n",
    "for k in range(nPeople):\n",
    "    L = range(k*nTrain,(k+1)*nTrain)\n",
    "    binErr[k] = np.linalg.norm(x1-Train[:,L] @ (s1[L]/normTheta[L]))/np.linalg.norm(x1)\n",
    "    \n",
    "plt.figure()\n",
    "plt.bar(range(nPeople),binErr)\n",
    "plt.show()"
   ]
  },
  {
   "cell_type": "code",
   "execution_count": null,
   "id": "ae5c8b04",
   "metadata": {},
   "outputs": [],
   "source": [
    "## L1 Search, Mustache\n",
    "y2 = np.copy(Y[:,1])\n",
    "eps = 500\n",
    "\n",
    "# L1 Minimum norm solution s_L1\n",
    "def L1_norm(x):\n",
    "    return np.linalg.norm(x,ord=1)\n",
    "\n",
    "constr = ({'type': 'ineq', 'fun': lambda x:  eps - np.linalg.norm(Theta @ x - y2,2)})\n",
    "x0 = np.linalg.pinv(Theta) @ y2 # initialize with L2 solution\n",
    "res = minimize(L1_norm, x0, method='SLSQP',constraints=constr)\n",
    "s2 = res.x"
   ]
  },
  {
   "cell_type": "code",
   "execution_count": null,
   "id": "94e6f9f2",
   "metadata": {},
   "outputs": [],
   "source": [
    "plt.figure()\n",
    "plt.plot(s2)\n",
    "plt.figure()\n",
    "plt.imshow(np.reshape(Train @ (s2/normTheta),(m,n)).T,cmap='gray')\n",
    "plt.figure()\n",
    "plt.imshow(np.reshape(x2 - Train @ (s2/normTheta),(m,n)).T,cmap='gray')\n",
    "\n",
    "binErr = np.zeros(nPeople)\n",
    "for k in range(nPeople):\n",
    "    L = range(k*nTrain,(k+1)*nTrain)\n",
    "    binErr[k] = np.linalg.norm(x2-Train[:,L] @ (s2[L]/normTheta[L]))/np.linalg.norm(x2)\n",
    "    \n",
    "plt.figure()\n",
    "plt.bar(range(nPeople),binErr)\n",
    "plt.show()"
   ]
  },
  {
   "cell_type": "code",
   "execution_count": null,
   "id": "f509b9a9",
   "metadata": {},
   "outputs": [],
   "source": [
    "## L1 Search, Occlusion\n",
    "y3 = np.copy(Y[:,2])\n",
    "eps = 1000\n",
    "\n",
    "# L1 Minimum norm solution s_L1\n",
    "def L1_norm(x):\n",
    "    return np.linalg.norm(x,ord=1)\n",
    "\n",
    "constr = ({'type': 'ineq', 'fun': lambda x:  eps - np.linalg.norm(Theta @ x - y3,2)})\n",
    "x0 = np.linalg.pinv(Theta) @ y3 # initialize with L2 solution\n",
    "res = minimize(L1_norm, x0, method='SLSQP',constraints=constr)\n",
    "s3 = res.x"
   ]
  },
  {
   "cell_type": "code",
   "execution_count": null,
   "id": "d6477340",
   "metadata": {},
   "outputs": [],
   "source": [
    "plt.figure()\n",
    "plt.plot(s3)\n",
    "plt.figure()\n",
    "plt.imshow(np.reshape(Train @ (s3/normTheta),(m,n)).T,cmap='gray')\n",
    "plt.figure()\n",
    "plt.imshow(np.reshape(x3 - Train @ (s3/normTheta),(m,n)).T,cmap='gray')\n",
    "\n",
    "binErr = np.zeros(nPeople)\n",
    "for k in range(nPeople):\n",
    "    L = range(k*nTrain,(k+1)*nTrain)\n",
    "    binErr[k] = np.linalg.norm(x3-Train[:,L] @ (s3[L]/normTheta[L]))/np.linalg.norm(x3)\n",
    "    \n",
    "plt.figure()\n",
    "plt.bar(range(nPeople),binErr)\n",
    "plt.show()"
   ]
  },
  {
   "cell_type": "code",
   "execution_count": null,
   "id": "39fb18c1",
   "metadata": {},
   "outputs": [],
   "source": [
    "## L1 Search, Noise\n",
    "y4 = np.copy(Y[:,3])\n",
    "eps = 10\n",
    "\n",
    "# L1 Minimum norm solution s_L1\n",
    "def L1_norm(x):\n",
    "    return np.linalg.norm(x,ord=1)\n",
    "\n",
    "constr = ({'type': 'ineq', 'fun': lambda x:  eps - np.linalg.norm(Theta @ x - y4,2)})\n",
    "x0 = np.linalg.pinv(Theta) @ y4 # initialize with L2 solution\n",
    "res = minimize(L1_norm, x0, method='SLSQP',constraints=constr)\n",
    "s4 = res.x"
   ]
  },
  {
   "cell_type": "code",
   "execution_count": null,
   "id": "3c77d668",
   "metadata": {},
   "outputs": [],
   "source": [
    "plt.figure()\n",
    "plt.plot(s4)\n",
    "plt.figure()\n",
    "plt.imshow(np.reshape(Train @ (s4/normTheta),(m,n)).T,cmap='gray')\n",
    "plt.figure()\n",
    "plt.imshow(np.reshape(x4 - Train @ (s4/normTheta),(m,n)).T,cmap='gray')\n",
    "\n",
    "binErr = np.zeros(nPeople)\n",
    "for k in range(nPeople):\n",
    "    L = range(k*nTrain,(k+1)*nTrain)\n",
    "    binErr[k] = np.linalg.norm(x4-Train[:,L] @ (s4[L]/normTheta[L]))/np.linalg.norm(x4)\n",
    "    \n",
    "plt.figure()\n",
    "plt.bar(range(nPeople),binErr)\n",
    "plt.show()"
   ]
  },
  {
   "cell_type": "code",
   "execution_count": null,
   "id": "3fb538c9",
   "metadata": {},
   "outputs": [],
   "source": [
    "## Least Squares Is No Good\n",
    "s4L2 = np.linalg.pinv(Train) @ x4\n",
    "plt.figure()\n",
    "plt.plot(s4L2)\n",
    "plt.figure()\n",
    "plt.imshow(np.reshape(Train @ (s4L2/normTheta),(m,n)).T,cmap='gray')\n",
    "plt.figure()\n",
    "plt.imshow(np.reshape(x4 - Train @ (s4L2/normTheta),(m,n)).T,cmap='gray')\n",
    "\n",
    "binErr = np.zeros(nPeople)\n",
    "for k in range(nPeople):\n",
    "    L = range(k*nTrain,(k+1)*nTrain)\n",
    "    binErr[k] = np.linalg.norm(x4-Train[:,L] @ (s4L2[L]/normTheta[L]))/np.linalg.norm(x4)\n",
    "    \n",
    "plt.figure()\n",
    "plt.bar(range(nPeople),binErr)\n",
    "plt.show()"
   ]
  },
  {
   "cell_type": "code",
   "execution_count": null,
   "id": "0dbd37eb",
   "metadata": {},
   "outputs": [],
   "source": []
  },
  {
   "cell_type": "code",
   "execution_count": null,
   "id": "7a0124ee",
   "metadata": {},
   "outputs": [],
   "source": []
  }
 ],
 "metadata": {
  "kernelspec": {
   "display_name": "Python 3",
   "language": "python",
   "name": "python3"
  }
 },
 "nbformat": 4,
 "nbformat_minor": 5
}
