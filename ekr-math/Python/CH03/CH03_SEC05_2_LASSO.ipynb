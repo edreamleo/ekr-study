{
 "cells": [
  {
   "cell_type": "code",
   "execution_count": null,
   "id": "e045b7c4",
   "metadata": {},
   "outputs": [],
   "source": [
    "import numpy as np\n",
    "import matplotlib.pyplot as plt\n",
    "import os\n",
    "import scipy.io\n",
    "from sklearn import linear_model\n",
    "from sklearn import model_selection\n",
    "\n",
    "plt.rcParams['figure.figsize'] = [7, 7]\n",
    "plt.rcParams.update({'font.size': 18})"
   ]
  },
  {
   "cell_type": "code",
   "execution_count": null,
   "id": "5dd7cc53",
   "metadata": {},
   "outputs": [],
   "source": [
    "A = np.random.randn(100,10) # Matrix of possible predictors\n",
    "x = np.array([0, 0, 1, 0, 0, 0, -1, 0, 0, 0]) #Two nonzero predictors\n",
    "b = A @ x + 2*np.random.randn(100)\n",
    "\n",
    "xL2 = np.linalg.pinv(A) @ b"
   ]
  },
  {
   "cell_type": "code",
   "execution_count": null,
   "id": "b0d59330",
   "metadata": {},
   "outputs": [],
   "source": [
    "reg = linear_model.LassoCV(cv=10).fit(A, b)\n",
    "\n",
    "lasso = linear_model.Lasso(random_state=0, max_iter=10000)\n",
    "alphas = np.logspace(-4, -0.5, 30)\n",
    "\n",
    "tuned_parameters = [{'alpha': alphas}]\n",
    "\n",
    "clf = model_selection.GridSearchCV(lasso, tuned_parameters, cv=10, refit=False)\n",
    "clf.fit(A, b)\n",
    "\n",
    "scores = clf.cv_results_['mean_test_score']\n",
    "scores_std = clf.cv_results_['std_test_score']\n",
    "plt.semilogx(alphas, scores,'r-')\n",
    "\n",
    "# plot error lines showing +/- std. errors of the scores\n",
    "std_error = scores_std / np.sqrt(10)\n",
    "\n",
    "plt.semilogx(alphas, scores + std_error, 'k--')\n",
    "plt.semilogx(alphas, scores - std_error, 'k--')\n",
    "plt.fill_between(alphas, scores + std_error, scores - std_error, alpha=0.1,color='k')\n",
    "\n",
    "plt.ylabel('CV score +/- std error')\n",
    "plt.xlabel('alpha')\n",
    "plt.axhline(np.max(scores), linestyle='--', color='.5')\n",
    "plt.xlim([alphas[-1], alphas[0]])\n",
    "\n",
    "plt.show()"
   ]
  },
  {
   "cell_type": "code",
   "execution_count": null,
   "id": "77447012",
   "metadata": {},
   "outputs": [],
   "source": [
    "XL1 = linear_model.Lasso(alpha=clf.best_params_['alpha'])\n",
    "XL1.fit(A,b)\n",
    "xL1 = XL1.coef_\n",
    "xL1DeBiased = np.linalg.pinv(A[:,np.abs(xL1)>0]) @ b"
   ]
  },
  {
   "cell_type": "code",
   "execution_count": null,
   "id": "d994a086",
   "metadata": {},
   "outputs": [],
   "source": []
  }
 ],
 "metadata": {
  "kernelspec": {
   "display_name": "Python 3",
   "language": "python",
   "name": "python3"
  }
 },
 "nbformat": 4,
 "nbformat_minor": 5
}
