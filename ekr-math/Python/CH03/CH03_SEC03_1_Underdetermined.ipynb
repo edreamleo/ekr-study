{
 "cells": [
  {
   "cell_type": "code",
   "execution_count": null,
   "id": "417152f6",
   "metadata": {},
   "outputs": [],
   "source": [
    "import numpy as np\n",
    "import matplotlib.pyplot as plt\n",
    "import os\n",
    "from scipy.optimize import minimize\n",
    "plt.rcParams['figure.figsize'] = [12, 18]\n",
    "plt.rcParams.update({'font.size': 18})\n",
    "\n",
    "# Solve y = Theta * s for \"s\"\n",
    "n = 1000 # dimension of s\n",
    "p = 200  # number of measurements, dim(y)\n",
    "Theta = np.random.randn(p,n)\n",
    "y = np.random.randn(p)\n",
    "\n",
    "# L1 Minimum norm solution s_L1\n",
    "def L1_norm(x):\n",
    "    return np.linalg.norm(x,ord=1)\n",
    "\n",
    "constr = ({'type': 'eq', 'fun': lambda x:  Theta @ x - y})\n",
    "x0 = np.linalg.pinv(Theta) @ y # initialize with L2 solution\n",
    "res = minimize(L1_norm, x0, method='SLSQP',constraints=constr)\n",
    "s_L1 = res.x"
   ]
  },
  {
   "cell_type": "code",
   "execution_count": null,
   "id": "f5671cd8",
   "metadata": {},
   "outputs": [],
   "source": [
    "# L2 Minimum norm solution s_L2\n",
    "s_L2 = np.linalg.pinv(Theta) @ y "
   ]
  },
  {
   "cell_type": "code",
   "execution_count": null,
   "id": "0ed3e759",
   "metadata": {},
   "outputs": [],
   "source": [
    "fig,axs = plt.subplots(2,2)\n",
    "axs = axs.reshape(-1)\n",
    "axs[0].plot(s_L1,color='b',LineWidth=1.5)\n",
    "axs[0].set_ylim(-0.2,0.2)\n",
    "axs[1].plot(s_L2,color='r',LineWidth=1.5)\n",
    "axs[1].set_ylim(-0.2,0.2)\n",
    "axs[2].hist(s_L1,bins=np.arange(-0.105,0.105,0.01),rwidth=0.9)\n",
    "axs[3].hist(s_L2,bins=np.arange(-0.105,0.105,0.01),rwidth=0.9)\n",
    "\n",
    "plt.show()"
   ]
  },
  {
   "cell_type": "code",
   "execution_count": null,
   "id": "2733a229",
   "metadata": {},
   "outputs": [],
   "source": []
  },
  {
   "cell_type": "code",
   "execution_count": null,
   "id": "1b0577e8",
   "metadata": {},
   "outputs": [],
   "source": []
  }
 ],
 "metadata": {
  "kernelspec": {
   "display_name": "Python 3",
   "language": "python",
   "name": "python3"
  }
 },
 "nbformat": 4,
 "nbformat_minor": 5
}
