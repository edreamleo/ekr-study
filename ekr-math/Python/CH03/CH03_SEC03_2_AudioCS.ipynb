{
 "cells": [
  {
   "cell_type": "code",
   "execution_count": null,
   "id": "87d508a5",
   "metadata": {},
   "outputs": [],
   "source": [
    "import numpy as np\n",
    "import matplotlib.pyplot as plt\n",
    "import os\n",
    "import sys\n",
    "from scipy.fftpack import dct, idct\n",
    "from scipy.optimize import minimize\n",
    "sys.path.append(os.path.join('..','UTILS'))\n",
    "from cosamp_fn import cosamp\n",
    "# cosamp function is available at https://github.com/avirmaux/CoSaMP\n",
    "\n",
    "plt.rcParams['figure.figsize'] = [12, 12]\n",
    "plt.rcParams.update({'font.size': 18})"
   ]
  },
  {
   "cell_type": "code",
   "execution_count": null,
   "id": "5a028219",
   "metadata": {},
   "outputs": [],
   "source": [
    "## Generate signal, DCT of signal\n",
    "\n",
    "n = 4096 # points in high resolution signal\n",
    "t = np.linspace(0,1,n)\n",
    "x = np.cos(2 * 97 * np.pi * t) + np.cos(2 * 777 * np.pi * t)\n",
    "xt = np.fft.fft(x) # Fourier transformed signal\n",
    "PSD = xt * np.conj(xt) / n # Power spectral density"
   ]
  },
  {
   "cell_type": "code",
   "execution_count": null,
   "id": "f68bcc43",
   "metadata": {},
   "outputs": [],
   "source": [
    "## Randomly sample signal\n",
    "p = 128 # num. random samples, p = n/32\n",
    "perm = np.floor(np.random.rand(p) * n).astype(int)\n",
    "y = x[perm]"
   ]
  },
  {
   "cell_type": "code",
   "execution_count": null,
   "id": "b1031bb3",
   "metadata": {},
   "outputs": [],
   "source": [
    "## Solve compressed sensing problem\n",
    "Psi = dct(np.identity(n)) # Build Psi\n",
    "Theta = Psi[perm,:]       # Measure rows of Psi\n",
    "\n",
    "s = cosamp(Theta,y,10,epsilon=1.e-10,max_iter=10) # CS via matching pursuit\n",
    "xrecon = idct(s) # reconstruct full signal"
   ]
  },
  {
   "cell_type": "code",
   "execution_count": null,
   "id": "38e65a5f",
   "metadata": {},
   "outputs": [],
   "source": [
    "## Plot\n",
    "time_window = np.array([1024,1280])/4096\n",
    "freq = np.arange(n)\n",
    "L = int(np.floor(n/2))\n",
    "\n",
    "\n",
    "fig,axs = plt.subplots(2,2)\n",
    "axs = axs.reshape(-1)\n",
    "\n",
    "axs[1].plot(freq[:L],PSD[:L],color='k',LineWidth=2)\n",
    "axs[1].set_xlim(0, 1024)\n",
    "axs[1].set_ylim(0, 1200)\n",
    "\n",
    "axs[0].plot(t,x,color='k',LineWidth=2)\n",
    "axs[0].plot(perm/n,y,color='r',marker='x',LineWidth=0,ms=12,mew=4)\n",
    "axs[0].set_xlim(time_window[0],time_window[1])\n",
    "axs[0].set_ylim(-2, 2)\n",
    "\n",
    "axs[2].plot(t,xrecon,color='r',LineWidth=2)\n",
    "axs[2].set_xlim(time_window[0],time_window[1])\n",
    "axs[2].set_ylim(-2, 2)\n",
    "\n",
    "xtrecon = np.fft.fft(xrecon,n) # computes the (fast) discrete fourier transform\n",
    "PSDrecon = xtrecon * np.conj(xtrecon)/n # Power spectrum (how much power in each freq)\n",
    "\n",
    "axs[3].plot(freq[:L],PSDrecon[:L],color='r',LineWidth=2)\n",
    "axs[3].set_xlim(0, 1024)\n",
    "axs[3].set_ylim(0, 1200)\n",
    "\n",
    "plt.show()"
   ]
  },
  {
   "cell_type": "code",
   "execution_count": null,
   "id": "fcb47b01",
   "metadata": {},
   "outputs": [],
   "source": [
    "## L1-Minimization using SciPy\n",
    "def L1_norm(x):\n",
    "    return np.linalg.norm(x,ord=1)\n",
    "\n",
    "constr = ({'type': 'eq', 'fun': lambda x:  Theta @ x - y})\n",
    "x0 = np.linalg.pinv(Theta) @ y \n",
    "res = minimize(L1_norm, x0, method='SLSQP',constraints=constr)\n",
    "s = res.x"
   ]
  },
  {
   "cell_type": "code",
   "execution_count": null,
   "id": "b79ba36c",
   "metadata": {},
   "outputs": [],
   "source": [
    "Theta.shape"
   ]
  },
  {
   "cell_type": "code",
   "execution_count": null,
   "id": "be23352b",
   "metadata": {},
   "outputs": [],
   "source": [
    "y.shape"
   ]
  },
  {
   "cell_type": "code",
   "execution_count": null,
   "id": "9f1c700a",
   "metadata": {},
   "outputs": [],
   "source": []
  }
 ],
 "metadata": {
  "kernelspec": {
   "display_name": "Python 3",
   "language": "python",
   "name": "python3"
  }
 },
 "nbformat": 4,
 "nbformat_minor": 5
}
