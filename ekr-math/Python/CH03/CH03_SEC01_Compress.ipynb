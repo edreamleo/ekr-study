{
 "cells": [
  {
   "cell_type": "code",
   "execution_count": null,
   "id": "fdb77901",
   "metadata": {},
   "outputs": [],
   "source": [
    "from matplotlib.image import imread\n",
    "import numpy as np\n",
    "import matplotlib.pyplot as plt\n",
    "import os\n",
    "from mpl_toolkits.mplot3d import Axes3D\n",
    "plt.rcParams['figure.figsize'] = [12, 8]\n",
    "plt.rcParams.update({'font.size': 18})\n",
    "\n",
    "A = imread(os.path.join('..','DATA','jelly.jpg'))\n",
    "Abw = np.mean(A, -1); # Convert RGB to grayscale\n",
    "\n",
    "plt.imshow(Abw,cmap='gray')\n",
    "plt.axis('off')\n",
    "plt.show()"
   ]
  },
  {
   "cell_type": "code",
   "execution_count": null,
   "id": "9b68a20d",
   "metadata": {},
   "outputs": [],
   "source": [
    "## Compute FFT of image using fft2\n",
    "At = np.fft.fft2(Abw)\n",
    "F = np.log(np.abs(np.fft.fftshift(At))+1) # Put FFT on log scale\n",
    "plt.imshow(F,cmap='gray')\n",
    "plt.axis('off')\n",
    "plt.show()"
   ]
  },
  {
   "cell_type": "code",
   "execution_count": null,
   "id": "fa6eb5da",
   "metadata": {},
   "outputs": [],
   "source": [
    "## Zero out all small coefficients and inverse transform\n",
    "Bt = np.sort(np.abs(np.reshape(At,-1)))\n",
    "keep = 0.05\n",
    "thresh = Bt[int(np.floor((1-keep)*len(Bt)))]\n",
    "ind = np.abs(At) > thresh\n",
    "Atlow = At * ind\n",
    "Flow = np.log(np.abs(np.fft.fftshift(Atlow))+1) # Put FFT on log scale\n",
    "\n",
    "plt.imshow(Flow,cmap='gray')\n",
    "plt.axis('off')\n",
    "plt.show()"
   ]
  },
  {
   "cell_type": "code",
   "execution_count": null,
   "id": "bbdf04b0",
   "metadata": {},
   "outputs": [],
   "source": [
    "## Plot Reconstruction\n",
    "Alow = np.fft.ifft2(Atlow).astype('uint8')\n",
    "\n",
    "plt.imshow(Alow,cmap='gray')\n",
    "plt.axis('off')\n",
    "plt.show()"
   ]
  },
  {
   "cell_type": "code",
   "execution_count": null,
   "id": "9dc72f64",
   "metadata": {},
   "outputs": [],
   "source": [
    "plt.rcParams['figure.figsize'] = [16, 8]\n",
    "\n",
    "fig = plt.figure()\n",
    "ax1 = fig.add_subplot(1, 2, 1, projection='3d')\n",
    "ax2 = fig.add_subplot(1, 2, 2, projection='3d')\n",
    "\n",
    "Anew = Abw[::5,::5]\n",
    "\n",
    "y = np.arange(Anew.shape[0])\n",
    "x = np.arange(Anew.shape[1])\n",
    "\n",
    "X,Y = np.meshgrid(x,y)\n",
    "\n",
    "surf1 = ax1.plot_surface(X,Y,Anew, rstride=1, cstride=1,cmap='jet',\n",
    "                       linewidth=1, antialiased=False)\n",
    "surf2 = ax2.plot_surface(X,Y,Anew, rstride=1, cstride=1,cmap='jet',\n",
    "                       linewidth=1, antialiased=False)\n",
    "\n",
    "ax1.view_init(90, 90) \n",
    "ax1.axis('off')\n",
    "\n",
    "ax2.view_init(60, 90) \n",
    "ax2.axis('off')\n",
    "\n",
    "plt.show()"
   ]
  },
  {
   "cell_type": "code",
   "execution_count": null,
   "id": "2de9dbcb",
   "metadata": {},
   "outputs": [],
   "source": []
  },
  {
   "cell_type": "code",
   "execution_count": null,
   "id": "1441104c",
   "metadata": {},
   "outputs": [],
   "source": []
  }
 ],
 "metadata": {
  "kernelspec": {
   "display_name": "Python 3",
   "language": "python",
   "name": "python3"
  }
 },
 "nbformat": 4,
 "nbformat_minor": 5
}
