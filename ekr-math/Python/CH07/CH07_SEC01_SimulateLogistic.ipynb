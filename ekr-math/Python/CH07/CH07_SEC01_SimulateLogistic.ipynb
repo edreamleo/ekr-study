{
 "cells": [
  {
   "cell_type": "code",
   "execution_count": null,
   "id": "bd9e2edf",
   "metadata": {},
   "outputs": [],
   "source": [
    "import numpy as np\n",
    "import matplotlib.pyplot as plt\n",
    "from matplotlib import rcParams\n",
    "\n",
    "rcParams.update({'font.size': 18})\n",
    "plt.rcParams['figure.figsize'] = [12, 12]"
   ]
  },
  {
   "cell_type": "code",
   "execution_count": null,
   "id": "fbd3cc80",
   "metadata": {
    "lines_to_next_cell": 2
   },
   "outputs": [],
   "source": [
    "startval = 1\n",
    "endval = 4\n",
    "xvals = np.array([[],[]])\n",
    "n_iter = 1000\n",
    "n_plot = 100\n",
    "\n",
    "def logistic(xk,r):\n",
    "    return r*xk*(1-xk)\n",
    "\n",
    "for r in np.arange(startval,endval,0.00025):\n",
    "    x = 0.5\n",
    "    for i in range(n_iter):\n",
    "        x = logistic(x,r)\n",
    "        if i == n_iter-n_plot:\n",
    "            xss = x\n",
    "        if i > n_iter-n_plot:\n",
    "            xvals = np.append(xvals,np.array([[r],[x]]),axis=1)\n",
    "            if np.abs(x-xss) < 0.001:\n",
    "                break"
   ]
  },
  {
   "cell_type": "code",
   "execution_count": null,
   "id": "3f71f7e8",
   "metadata": {},
   "outputs": [],
   "source": [
    "plt.plot(xvals[1,:],xvals[0,:],'.',ms=0.1,color='k')\n",
    "plt.xlim(0,1)\n",
    "plt.ylim(1,endval)\n",
    "plt.gca().invert_yaxis()"
   ]
  },
  {
   "cell_type": "code",
   "execution_count": null,
   "id": "d870bea6",
   "metadata": {},
   "outputs": [],
   "source": [
    "plt.plot(xvals[1,:],xvals[0,:],'.',ms=0.1,color='k')\n",
    "plt.xlim(0,1)\n",
    "plt.ylim(3.45,4)\n",
    "plt.gca().invert_yaxis()"
   ]
  },
  {
   "cell_type": "code",
   "execution_count": null,
   "id": "56441244",
   "metadata": {},
   "outputs": [],
   "source": []
  }
 ],
 "metadata": {
  "kernelspec": {
   "display_name": "Python 3",
   "language": "python",
   "name": "python3"
  }
 },
 "nbformat": 4,
 "nbformat_minor": 5
}
