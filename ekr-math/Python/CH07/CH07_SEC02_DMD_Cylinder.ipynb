{
 "cells": [
  {
   "cell_type": "code",
   "execution_count": null,
   "id": "e3801a39",
   "metadata": {},
   "outputs": [],
   "source": [
    "import numpy as np\n",
    "import matplotlib.pyplot as plt\n",
    "from matplotlib import rcParams\n",
    "from scipy import io\n",
    "import os\n",
    "\n",
    "rcParams.update({'font.size': 18})\n",
    "plt.rcParams['figure.figsize'] = [8, 16]"
   ]
  },
  {
   "cell_type": "code",
   "execution_count": null,
   "id": "f409952d",
   "metadata": {},
   "outputs": [],
   "source": [
    "vortall_mat = io.loadmat(os.path.join('..','DATA','VORTALL.mat'))\n",
    "X = vortall_mat['VORTALL']\n",
    "# VORTALL contains flow fields reshaped into column vectors"
   ]
  },
  {
   "cell_type": "code",
   "execution_count": null,
   "id": "69268ad1",
   "metadata": {},
   "outputs": [],
   "source": [
    "def DMD(X,Xprime,r):\n",
    "    U,Sigma,VT = np.linalg.svd(X,full_matrices=0) # Step 1\n",
    "    Ur = U[:,:r]\n",
    "    Sigmar = np.diag(Sigma[:r])\n",
    "    VTr = VT[:r,:]\n",
    "    Atilde = np.linalg.solve(Sigmar.T,(Ur.T @ Xprime @ VTr.T).T).T # Step 2\n",
    "    Lambda, W = np.linalg.eig(Atilde) # Step 3\n",
    "    Lambda = np.diag(Lambda)\n",
    "    \n",
    "    Phi = Xprime @ np.linalg.solve(Sigmar.T,VTr).T @ W # Step 4\n",
    "    alpha1 = Sigmar @ VTr[:,0]\n",
    "    b = np.linalg.solve(W @ Lambda,alpha1)\n",
    "    return Phi, Lambda, b"
   ]
  },
  {
   "cell_type": "code",
   "execution_count": null,
   "id": "e243c018",
   "metadata": {},
   "outputs": [],
   "source": [
    "Phi, Lambda, b = DMD(X[:,:-1],X[:,1:],21)"
   ]
  },
  {
   "cell_type": "code",
   "execution_count": null,
   "id": "5173a4e1",
   "metadata": {},
   "outputs": [],
   "source": [
    "## Plot Mode 2\n",
    "vortmin = -5\n",
    "vortmax = 5\n",
    "V2 = np.copy(np.real(np.reshape(Phi[:,1],(449,199))))\n",
    "V2 = V2.T\n",
    "\n",
    "# normalize values... not symmetric\n",
    "minval = np.min(V2)\n",
    "maxval = np.max(V2)\n",
    "\n",
    "if np.abs(minval) < 5 and np.abs(maxval) < 5:\n",
    "    if np.abs(minval) > np.abs(maxval):\n",
    "        vortmax = maxval\n",
    "        vortmin = -maxval\n",
    "    else:\n",
    "        vortmin = minval\n",
    "        vortmax = -minval\n",
    "\n",
    "V2[V2 > vortmax] = vortmax\n",
    "V2[V2 < vortmin] = vortmin\n",
    "\n",
    "plt.imshow(V2,cmap='jet',vmin=vortmin,vmax=vortmax)\n",
    "\n",
    "cvals = np.array([-4,-2,-1,-0.5,-0.25,-0.155])\n",
    "plt.contour(V2,cvals*vortmax/5,colors='k',linestyles='dashed',linewidths=1)\n",
    "plt.contour(V2,np.flip(-cvals)*vortmax/5,colors='k',linestyles='solid',linewidths=0.4)\n",
    "\n",
    "plt.scatter(49,99,5000,color='k') # draw cylinder\n",
    "\n",
    "\n",
    "plt.show()"
   ]
  },
  {
   "cell_type": "code",
   "execution_count": null,
   "id": "017ee60a",
   "metadata": {},
   "outputs": [],
   "source": [
    "V2 = np.real(np.reshape(Phi[:,1],(199,449)))\n",
    "\n",
    "# plt.hist(np.real(Phi).reshape(-1),128)\n",
    "plt.hist(V2.reshape(-1),128)\n",
    "plt.show()"
   ]
  },
  {
   "cell_type": "code",
   "execution_count": null,
   "id": "0e88eef6",
   "metadata": {},
   "outputs": [],
   "source": []
  },
  {
   "cell_type": "code",
   "execution_count": null,
   "id": "2d547553",
   "metadata": {},
   "outputs": [],
   "source": []
  }
 ],
 "metadata": {
  "kernelspec": {
   "display_name": "Python 3",
   "language": "python",
   "name": "python3"
  }
 },
 "nbformat": 4,
 "nbformat_minor": 5
}
