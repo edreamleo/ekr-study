{
 "cells": [
  {
   "cell_type": "code",
   "execution_count": null,
   "id": "d3c5d556",
   "metadata": {},
   "outputs": [],
   "source": [
    "import numpy as np\n",
    "import matplotlib.pyplot as plt\n",
    "from matplotlib import rcParams\n",
    "from mpl_toolkits.mplot3d import Axes3D\n",
    "from scipy import integrate\n",
    "\n",
    "\n",
    "rcParams.update({'font.size': 18})\n",
    "plt.rcParams['figure.figsize'] = [12, 12]"
   ]
  },
  {
   "cell_type": "code",
   "execution_count": null,
   "id": "8a0c18ee",
   "metadata": {
    "lines_to_next_cell": 2
   },
   "outputs": [],
   "source": [
    "## Simulate the Lorenz System\n",
    "\n",
    "dt = 0.01\n",
    "T = 50\n",
    "t = np.arange(0,T+dt,dt)\n",
    "beta = 8/3\n",
    "sigma = 10\n",
    "rho = 28\n",
    "\n",
    "\n",
    "def lorenz_deriv(x_y_z, t0, sigma=sigma, beta=beta, rho=rho):\n",
    "    x, y, z = x_y_z\n",
    "    return [sigma * (y - x), x * (rho - z) - y, x * y - beta * z]\n",
    "\n",
    "np.random.seed(123)\n",
    "x0 = (-8,8,27)\n",
    "\n",
    "x = integrate.odeint(lorenz_deriv, x0, t,rtol=10**(-12),atol=10**(-12)*np.ones_like(x0))"
   ]
  },
  {
   "cell_type": "code",
   "execution_count": null,
   "id": "5b83a43a",
   "metadata": {},
   "outputs": [],
   "source": [
    "## Eigen-time delay coordinates\n",
    "stackmax = 10 # Number of shift-stacked rows\n",
    "r = 10        # rank of HAVOK model\n",
    "H = np.zeros((stackmax,x.shape[0]-stackmax))\n",
    "\n",
    "for k in range(stackmax):\n",
    "    H[k,:] = x[k:-(stackmax-k),0]\n",
    "    \n",
    "U,S,VT = np.linalg.svd(H,full_matrices=0)\n",
    "V = VT.T"
   ]
  },
  {
   "cell_type": "code",
   "execution_count": null,
   "id": "a9b9ab47",
   "metadata": {},
   "outputs": [],
   "source": [
    "## Compute Derivatives (4th Order Central Difference)\n",
    "# dV = np.zeros((V.shape[0]-5,r))\n",
    "# for i in range(2,V.shape[0]-3):\n",
    "#     for k in range(r):\n",
    "#         dV[i-1,k] = (1/(12*dt))\n",
    "\n",
    "dV = (1/(12*dt)) * (-V[4:,:] + 8*V[3:-1,:] - 8*V[1:-3,:] + V[:-4,:])\n",
    "\n",
    "# trim first and last two that are lost in derivative\n",
    "V = V[2:-2]"
   ]
  },
  {
   "cell_type": "code",
   "execution_count": null,
   "id": "c0766b85",
   "metadata": {},
   "outputs": [],
   "source": [
    "## Build HAVOK Regression Model on Time Delay Coordinates\n",
    "Xi = np.linalg.lstsq(V,dV,rcond=None)[0]\n",
    "A = Xi[:(r-1),:(r-1)].T\n",
    "B = Xi[-1,:(r-1)].T"
   ]
  },
  {
   "cell_type": "code",
   "execution_count": null,
   "id": "9a79969e",
   "metadata": {},
   "outputs": [],
   "source": [
    "print(1/2/3)"
   ]
  },
  {
   "cell_type": "code",
   "execution_count": null,
   "id": "e9bdd925",
   "metadata": {},
   "outputs": [],
   "source": []
  }
 ],
 "metadata": {
  "kernelspec": {
   "display_name": "Python 3",
   "language": "python",
   "name": "python3"
  }
 },
 "nbformat": 4,
 "nbformat_minor": 5
}
