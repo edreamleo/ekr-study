{
 "cells": [
  {
   "cell_type": "code",
   "execution_count": null,
   "id": "01f7e93b",
   "metadata": {},
   "outputs": [],
   "source": [
    "import numpy as np\n",
    "import matplotlib.pyplot as plt\n",
    "from matplotlib import rcParams\n",
    "from mpl_toolkits.mplot3d import Axes3D\n",
    "from scipy import integrate\n",
    "\n",
    "\n",
    "rcParams.update({'font.size': 18})\n",
    "plt.rcParams['figure.figsize'] = [12, 12]"
   ]
  },
  {
   "cell_type": "code",
   "execution_count": null,
   "id": "ce9e1616",
   "metadata": {
    "lines_to_next_cell": 2
   },
   "outputs": [],
   "source": [
    "mu = -0.05\n",
    "lamb = -1\n",
    "A = np.array([[mu,0,0],[0,lamb,-lamb],[0,0,2*mu]]) # Koopman linear dynamics\n",
    "D,T = np.linalg.eig(A)\n",
    "slope_stab_man = T[2,2]/T[1,2] # slope of stable subspace (green)"
   ]
  },
  {
   "cell_type": "code",
   "execution_count": null,
   "id": "711bb949",
   "metadata": {
    "lines_to_next_cell": 2
   },
   "outputs": [],
   "source": [
    "## Integrate Koopman trajectories\n",
    "\n",
    "y0A = np.array([1.5,-1,2.25])\n",
    "y0B = np.array([1,-1,1])\n",
    "y0C = np.array([2,-1,4])\n",
    "tspan = np.arange(0,1000,0.01)\n",
    "\n",
    "def koopman_deriv(y,t0,A=A):\n",
    "    return A@y\n",
    "\n",
    "yA = integrate.odeint(koopman_deriv, y0A, tspan)\n",
    "yB = integrate.odeint(koopman_deriv, y0B, tspan)\n",
    "yC = integrate.odeint(koopman_deriv, y0C, tspan)"
   ]
  },
  {
   "cell_type": "code",
   "execution_count": null,
   "id": "e24ba9e8",
   "metadata": {},
   "outputs": [],
   "source": [
    "## Plot invariant surfaces\n",
    "fig,ax = plt.subplots(1,1,subplot_kw={'projection': '3d'})\n",
    "\n",
    "# Attracting manifold y_2 = y_1^2  (red manifold)\n",
    "X,Z = np.meshgrid(np.arange(-2,2,0.01),np.arange(-1,4,0.01))\n",
    "Y = np.power(X,2)\n",
    "\n",
    "ax.plot_surface(X,Y,Z,alpha=0.1,color='r',shade=True)\n",
    "\n",
    "# Invariant set y_3 = y_1^2  (blue manifold)\n",
    "X1,Y1 = np.meshgrid(np.arange(-2,2,0.01),np.arange(-1,4,0.01))\n",
    "Z1 = np.power(X1,2)\n",
    "\n",
    "ax.plot_surface(X1,Y1,Z1,alpha=0.1,color='b',shade=True)\n",
    "\n",
    "# Stable invariant subspace of Koopman linear system  (green plane)\n",
    "X2,Y2 = np.meshgrid(np.arange(-2,2,0.01),np.arange(0,4,0.01))\n",
    "Z2 = slope_stab_man*Y2\n",
    "\n",
    "ax.plot_surface(X2,Y2,Z2,alpha=0.7,color=(0.3,0.7,0.3),shade=True)\n",
    "\n",
    "x = np.arange(-2,2,0.1)\n",
    "# Intersection of green and blue surfaces (below)\n",
    "ax.plot(x,(1/slope_stab_man)*np.power(x,2),np.power(x,2),color='g',linewidth=2)\n",
    "\n",
    "# Intersection of red and blue surfaces (below)\n",
    "ax.plot(x,np.power(x,2),np.power(x,2),'--',color='r',linewidth=2)\n",
    "ax.plot(x,np.power(x,2),-np.ones_like(x),'--',color='r',linewidth=2)\n",
    "\n",
    "# Plot Koopman Trajectories\n",
    "ax.plot(yA[:,0],yA[:,1],-np.ones_like(yA[:,0]),'k-',linewidth=1)\n",
    "ax.plot(yB[:,0],yB[:,1],-np.ones_like(yB[:,0]),'k-',linewidth=1)\n",
    "ax.plot(yC[:,0],yC[:,1],-np.ones_like(yC[:,0]),'k-',linewidth=1)\n",
    "\n",
    "ax.plot(yA[:,0],yA[:,1],yA[:,2],'k-',linewidth=1.5)\n",
    "ax.plot(yB[:,0],yB[:,1],yB[:,2],'k-',linewidth=1.5)\n",
    "ax.plot(yC[:,0],yC[:,1],yC[:,2],'k-',linewidth=1.5)\n",
    "\n",
    "ax.plot(np.array([0,0]),np.array([0,0]),np.array([0,-1]),'ko')\n",
    "\n",
    "ax.view_init(azim=-105,elev=8)\n",
    "\n",
    "ax.set_xlim(-4,4)\n",
    "ax.set_ylim(-1,4)\n",
    "ax.set_zlim(-1,4)\n",
    "\n",
    "ax.set_xlabel('y1')\n",
    "ax.set_ylabel('y2')\n",
    "ax.set_zlabel('y3')\n",
    "\n",
    "plt.show()"
   ]
  },
  {
   "cell_type": "code",
   "execution_count": null,
   "id": "226bd8ab",
   "metadata": {},
   "outputs": [],
   "source": []
  },
  {
   "cell_type": "code",
   "execution_count": null,
   "id": "49a4358f",
   "metadata": {},
   "outputs": [],
   "source": []
  }
 ],
 "metadata": {
  "kernelspec": {
   "display_name": "Python 3",
   "language": "python",
   "name": "python3"
  }
 },
 "nbformat": 4,
 "nbformat_minor": 5
}
