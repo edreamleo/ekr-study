{
 "cells": [
  {
   "cell_type": "code",
   "execution_count": null,
   "id": "65a1c763",
   "metadata": {},
   "outputs": [],
   "source": [
    "import matplotlib.pyplot as plt\n",
    "import numpy as np\n",
    "import os\n",
    "from matplotlib import animation, rc\n",
    "from IPython.display import HTML\n",
    "# %matplotlib inline\n",
    "\n",
    "plt.rcParams['figure.figsize'] = [8,8]\n",
    "plt.rcParams.update({'font.size': 18})\n",
    "plt.rcParams['animation.html'] = 'jshtml'\n",
    "\n",
    "x = np.arange(-5,5.01,0.1)\n",
    "y = np.arange(-6,6.01,0.1)\n",
    "t = np.arange(0,10*np.pi+0.1,0.1)\n",
    "\n",
    "X,Y,T = np.meshgrid(x,y,t)\n",
    "\n",
    "A = np.exp(-(X**2 + 0.5*Y**2)) * np.cos(2*T) + \\\n",
    "    (np.divide(np.ones_like(X),np.cosh(X)) * np.tanh(X) * np.exp(-0.2*Y**2)) * np.sin(T)\n",
    "\n",
    "fig = plt.figure()\n",
    "pcm = plt.pcolormesh(X[:,:,0],Y[:,:,0],A[:,:,0],vmin=-1,vmax=1,shading='interp')\n",
    "\n",
    "    \n",
    "def init():\n",
    "    pcm.set_array(np.array([]))\n",
    "    return pcm\n",
    "\n",
    "def animate(iter):\n",
    "    pcm.set_array(A[:-1,:-1,iter].ravel())\n",
    "#     print('Frame ' + str(iter))\n",
    "    return pcm\n",
    "\n",
    "anim = animation.FuncAnimation(fig,animate,init_func=init,frames=len(t),interval=50,blit=False,repeat=False)\n",
    "HTML(anim.to_jshtml())"
   ]
  },
  {
   "cell_type": "code",
   "execution_count": null,
   "id": "eb454d8c",
   "metadata": {},
   "outputs": [],
   "source": [
    "plt.rcParams['figure.figsize'] = [16,10]\n",
    "\n",
    "fig, axs = plt.subplots(2,4)\n",
    "axs = axs.reshape(-1)\n",
    "\n",
    "for j in range(8):\n",
    "    plt.sca(axs[j])\n",
    "    plt.pcolormesh(X[:,:,0],Y[:,:,0],A[:,:,8*(j+1)-3],vmin=-1,vmax=1,shading='interp')\n",
    "    axs[j].axis('off')\n",
    "    plt.set_cmap('hot')"
   ]
  },
  {
   "cell_type": "code",
   "execution_count": null,
   "id": "98a6dacc",
   "metadata": {},
   "outputs": [],
   "source": [
    "# Tensor factorization method requires the TensorLy module,\n",
    "# available at http://tensorly.org/stable/installation.html\n",
    "\n",
    "from tensorly.decomposition import parafac\n",
    "plt.rcParams['figure.figsize'] = [12,12]\n",
    "\n",
    "\n",
    "A1, A2, A3 = parafac(A,2)\n",
    "\n",
    "fig, axs = plt.subplots(3,1)\n",
    "axs[0].plot(y,A1,LineWidth=2)\n",
    "axs[1].plot(x,A2,LineWidth=2)\n",
    "axs[2].plot(t,A3,LineWidth=2)\n",
    "plt.show()"
   ]
  },
  {
   "cell_type": "code",
   "execution_count": null,
   "id": "2f4c9f41",
   "metadata": {},
   "outputs": [],
   "source": []
  },
  {
   "cell_type": "code",
   "execution_count": null,
   "id": "8e7788c0",
   "metadata": {},
   "outputs": [],
   "source": []
  }
 ],
 "metadata": {
  "kernelspec": {
   "display_name": "Python 3",
   "language": "python",
   "name": "python3"
  }
 },
 "nbformat": 4,
 "nbformat_minor": 5
}
