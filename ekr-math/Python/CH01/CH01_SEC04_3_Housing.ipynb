{
 "cells": [
  {
   "cell_type": "code",
   "execution_count": null,
   "id": "3730e1a9",
   "metadata": {},
   "outputs": [],
   "source": [
    "import matplotlib.pyplot as plt\n",
    "import numpy as np\n",
    "import os\n",
    "plt.rcParams['figure.figsize'] = [16, 8]\n",
    "plt.rcParams.update({'font.size': 18})\n",
    "\n",
    "# Load dataset\n",
    "H = np.loadtxt(os.path.join('..','DATA','housing.data'))\n",
    "b = H[:,-1] # housing values in $1000s\n",
    "A = H[:,:-1] # other factors\n",
    "\n",
    "# Pad with ones for nonzero offset\n",
    "A = np.pad(A,[(0,0),(0,1)],mode='constant',constant_values=1)\n",
    "\n",
    "\n",
    "# Solve Ax=b using SVD\n",
    "# Note that the book uses the Matlab-specific \"regress\" command\n",
    "U, S, VT = np.linalg.svd(A,full_matrices=0)\n",
    "x = VT.T @ np.linalg.inv(np.diag(S)) @ U.T @ b\n",
    "\n",
    "fig = plt.figure()\n",
    "ax1 = fig.add_subplot(121)\n",
    "\n",
    "plt.plot(b, Color='k', LineWidth=2, label='Housing Value') # True relationship\n",
    "plt.plot(A@x, '-o', Color='r', LineWidth=1.5, MarkerSize=6, label='Regression')\n",
    "plt.xlabel('Neighborhood')\n",
    "plt.ylabel('Median Home Value [$1k]')\n",
    "plt.legend()\n",
    "\n",
    "ax2 = fig.add_subplot(122)\n",
    "sort_ind = np.argsort(H[:,-1])\n",
    "b = b[sort_ind] # sorted values\n",
    "plt.plot(b, Color='k', LineWidth=2, label='Housing Value') # True relationship\n",
    "plt.plot(A[sort_ind,:]@x, '-o', Color='r', LineWidth=1.5, MarkerSize=6, label='Regression')\n",
    "plt.xlabel('Neighborhood')\n",
    "plt.legend()\n",
    "\n",
    "plt.show()"
   ]
  },
  {
   "cell_type": "code",
   "execution_count": null,
   "id": "dfedb9b7",
   "metadata": {
    "lines_to_next_cell": 2
   },
   "outputs": [],
   "source": [
    "A_mean = np.mean(A,axis=0)\n",
    "A_mean = A_mean.reshape(-1, 1)\n",
    "\n",
    "A2 = A - np.ones((A.shape[0],1)) @ A_mean.T\n",
    "\n",
    "for j in range(A.shape[1]-1):\n",
    "    A2std = np.std(A2[:,j])\n",
    "    A2[:,j] = A2[:,j]/A2std\n",
    "    \n",
    "A2[:,-1] = np.ones(A.shape[0])\n",
    "\n",
    "U, S, VT = np.linalg.svd(A2,full_matrices=0)\n",
    "x = VT.T @ np.linalg.inv(np.diag(S)) @ U.T @ b\n",
    "x_tick = range(len(x)-1)+np.ones(len(x)-1)\n",
    "plt.bar(x_tick,x[:-1])\n",
    "plt.xlabel('Attribute')\n",
    "plt.ylabel('Significance')\n",
    "plt.xticks(x_tick)\n",
    "plt.show()"
   ]
  }
 ],
 "metadata": {
  "kernelspec": {
   "display_name": "Python 3",
   "language": "python",
   "name": "python3"
  }
 },
 "nbformat": 4,
 "nbformat_minor": 5
}
