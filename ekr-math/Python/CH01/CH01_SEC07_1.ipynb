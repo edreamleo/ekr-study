{
 "cells": [
  {
   "cell_type": "code",
   "execution_count": null,
   "id": "813a8d03",
   "metadata": {},
   "outputs": [],
   "source": [
    "import matplotlib.pyplot as plt\n",
    "import matplotlib.patches as patches\n",
    "import numpy as np\n",
    "plt.rcParams['figure.figsize'] = [8, 8]\n",
    "plt.rcParams.update({'font.size': 18})\n",
    "\n",
    "t = np.arange(-3,3,0.01)\n",
    "\n",
    "Utrue = np.array([np.cos(17*t) * np.exp(-t**2), np.sin(11*t)]).T\n",
    "Strue = np.array([[2, 0],[0, 0.5]])\n",
    "Vtrue = np.array([np.sin(5*t) * np.exp(-t**2), np.cos(13*t)]).T\n",
    "\n",
    "X = Utrue @ Strue @ Vtrue.T\n",
    "\n",
    "plt.imshow(X)\n",
    "plt.set_cmap('gray')\n",
    "plt.axis('off')\n",
    "plt.show()"
   ]
  },
  {
   "cell_type": "code",
   "execution_count": null,
   "id": "3f35587c",
   "metadata": {},
   "outputs": [],
   "source": [
    "sigma = 1\n",
    "Xnoisy = X + sigma*np.random.randn(*X.shape)\n",
    "plt.imshow(Xnoisy)\n",
    "plt.set_cmap('gray')\n",
    "plt.axis('off')\n",
    "plt.show()"
   ]
  },
  {
   "cell_type": "code",
   "execution_count": null,
   "id": "5dbb4ef3",
   "metadata": {},
   "outputs": [],
   "source": [
    "U, S, VT = np.linalg.svd(Xnoisy,full_matrices=0)\n",
    "N = Xnoisy.shape[0]\n",
    "cutoff = (4/np.sqrt(3)) * np.sqrt(N) * sigma # Hard threshold\n",
    "r = np.max(np.where(S > cutoff)) # Keep modes w/ sig > cutoff \n",
    "\n",
    "Xclean = U[:,:(r+1)] @ np.diag(S[:(r+1)]) @ VT[:(r+1),:]\n",
    "plt.imshow(Xclean)\n",
    "plt.set_cmap('gray')\n",
    "plt.axis('off')\n",
    "plt.show()"
   ]
  },
  {
   "cell_type": "code",
   "execution_count": null,
   "id": "d2575bf8",
   "metadata": {},
   "outputs": [],
   "source": [
    "cdS = np.cumsum(S) / np.sum(S) # Cumulative energy\n",
    "r90 = np.min(np.where(cdS > 0.90)) # Find r to capture 90% energy\n",
    "\n",
    "X90 = U[:,:(r90+1)] @ np.diag(S[:(r90+1)]) @ VT[:(r90+1),:]\n",
    "plt.imshow(X90)\n",
    "plt.set_cmap('gray')\n",
    "plt.axis('off')\n",
    "plt.show()"
   ]
  },
  {
   "cell_type": "code",
   "execution_count": null,
   "id": "eec25d43",
   "metadata": {},
   "outputs": [],
   "source": [
    "## Plot Singular Values\n",
    "\n",
    "fig1,ax1 = plt.subplots(1)\n",
    "\n",
    "ax1.semilogy(S,'-o', color='k', LineWidth=2)\n",
    "ax1.semilogy(np.diag(S[:(r+1)]),'o', color='r', LineWidth=2)\n",
    "ax1.plot(np.array([-20, N+20]),np.array([cutoff, cutoff]),'--', color='r', LineWidth=2)\n",
    "rect = patches.Rectangle((-5,20),100,200,LineWidth=2,LineStyle='--',FaceColor='none',EdgeColor='k')\n",
    "ax1.add_patch(rect)\n",
    "plt.xlim((-10,610))\n",
    "plt.ylim((0.003,300))\n",
    "ax1.grid()\n",
    "plt.show()\n",
    "\n",
    "fig2,ax2 = plt.subplots(1)\n",
    "\n",
    "ax2.semilogy(S,'-o', color='k', LineWidth=2)\n",
    "ax2.semilogy(np.diag(S[:(r+1)]),'o', color='r', LineWidth=2)\n",
    "ax2.plot(np.array([-20, N+20]),np.array([cutoff, cutoff]),'--', color='r', LineWidth=2)\n",
    "plt.xlim((-5,100))\n",
    "plt.ylim((20,200))\n",
    "ax2.grid()\n",
    "plt.show()\n",
    "\n",
    "fig3,ax3 = plt.subplots(1)\n",
    "ax3.plot(cdS,'-o',color='k',LineWidth=2)\n",
    "ax3.plot(cdS[:(r90+1)],'o',color='b',LineWidth=2)\n",
    "ax3.plot(cdS[:(r+1)],'o',color='r',LineWidth=2)\n",
    "plt.xticks(np.array([0, 300, r90, 600]))\n",
    "plt.yticks(np.array([0, 0.5, 0.9, 1]))\n",
    "plt.xlim((-10,610))\n",
    "ax3.plot(np.array([r90, r90, -10]),np.array([0, 0.9, 0.9]),'--',color='b',LineWidth=2)\n",
    "\n",
    "ax3.grid()\n",
    "plt.show()\n",
    "\n"
   ]
  },
  {
   "cell_type": "code",
   "execution_count": null,
   "id": "e76eee3e",
   "metadata": {},
   "outputs": [],
   "source": []
  }
 ],
 "metadata": {
  "kernelspec": {
   "display_name": "Python 3",
   "language": "python",
   "name": "python3"
  }
 },
 "nbformat": 4,
 "nbformat_minor": 5
}
