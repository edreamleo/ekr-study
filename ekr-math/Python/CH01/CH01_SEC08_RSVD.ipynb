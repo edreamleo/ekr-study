{
 "cells": [
  {
   "cell_type": "code",
   "execution_count": null,
   "id": "cf84e5b8",
   "metadata": {},
   "outputs": [],
   "source": [
    "import matplotlib.pyplot as plt\n",
    "from matplotlib.image import imread\n",
    "import numpy as np\n",
    "import os\n",
    "\n",
    "plt.rcParams['figure.figsize'] = [16,6]\n",
    "plt.rcParams.update({'font.size': 18})\n",
    "\n",
    "# Define randomized SVD function\n",
    "def rSVD(X,r,q,p):\n",
    "    # Step 1: Sample column space of X with P matrix\n",
    "    ny = X.shape[1]\n",
    "    P = np.random.randn(ny,r+p)\n",
    "    Z = X @ P\n",
    "    for k in range(q):\n",
    "        Z = X @ (X.T @ Z)\n",
    "\n",
    "    Q, R = np.linalg.qr(Z,mode='reduced')\n",
    "\n",
    "    # Step 2: Compute SVD on projected Y = Q.T @ X\n",
    "    Y = Q.T @ X\n",
    "    UY, S, VT = np.linalg.svd(Y,full_matrices=0)\n",
    "    U = Q @ UY\n",
    "\n",
    "    return U, S, VT"
   ]
  },
  {
   "cell_type": "code",
   "execution_count": null,
   "id": "05f83cf8",
   "metadata": {},
   "outputs": [],
   "source": [
    "A = imread(os.path.join('..','DATA','jupiter.jpg'))\n",
    "X = np.mean(A,axis=2) # Convert RGB -> grayscale\n",
    "\n",
    "U, S, VT = np.linalg.svd(X,full_matrices=0) # Deterministic SVD\n",
    "\n",
    "r = 400 # Target rank\n",
    "q = 1   # Power iterations\n",
    "p = 5   # Oversampling parameter\n",
    "\n",
    "rU, rS, rVT = rSVD(X,r,q,p)"
   ]
  },
  {
   "cell_type": "code",
   "execution_count": null,
   "id": "ff0888f9",
   "metadata": {},
   "outputs": [],
   "source": [
    "## Reconstruction\n",
    "XSVD = U[:,:(r+1)] @ np.diag(S[:(r+1)]) @ VT[:(r+1),:] # SVD approximation\n",
    "errSVD = np.linalg.norm(X-XSVD,ord=2) / np.linalg.norm(X,ord=2)\n",
    "\n",
    "XrSVD = rU[:,:(r+1)] @ np.diag(rS[:(r+1)]) @ rVT[:(r+1),:] # SVD approximation\n",
    "errSVD = np.linalg.norm(X-XrSVD,ord=2) / np.linalg.norm(X,ord=2)"
   ]
  },
  {
   "cell_type": "code",
   "execution_count": null,
   "id": "48513254",
   "metadata": {},
   "outputs": [],
   "source": [
    "## Plot\n",
    "fig, axs = plt.subplots(1,3)\n",
    "\n",
    "plt.set_cmap('gray')\n",
    "axs[0].imshow(X)\n",
    "axs[0].axis('off')\n",
    "axs[1].imshow(XSVD)\n",
    "axs[1].axis('off')\n",
    "axs[2].imshow(XrSVD)\n",
    "axs[2].axis('off')\n",
    "\n",
    "plt.show()"
   ]
  },
  {
   "cell_type": "code",
   "execution_count": null,
   "id": "c22819d0",
   "metadata": {},
   "outputs": [],
   "source": [
    "## Illustrate power iterations\n",
    "X = np.random.randn(1000,100)\n",
    "U, S, VT = np.linalg.svd(X,full_matrices=0)\n",
    "S = np.arange(1,0,-0.01)\n",
    "X = U @ np.diag(S) @ VT\n",
    "\n",
    "color_list = np.array([[0,0,2/3],  # Define color map\n",
    "                 [0,0,1],\n",
    "                 [0,1/3,1],\n",
    "                 [0,2/3,1],\n",
    "                 [0,1,1],\n",
    "                 [1/3,1,2/3],\n",
    "                 [2/3,1,1/3],\n",
    "                 [1,1,0],\n",
    "                 [1,2/3,0],\n",
    "                 [1,1/3,0],\n",
    "                 [1,0,0],\n",
    "                 [2/3,0,0]])\n",
    "\n",
    "plt.plot(S,'o-',color='k',LineWidth=2,label='SVD')\n",
    "\n",
    "Y = X\n",
    "for q in range(1,6):\n",
    "    Y = X.T @ Y\n",
    "    Y = X @ Y\n",
    "    Uq, Sq, VTq = np.linalg.svd(Y,full_matrices=0)\n",
    "    plt.plot(Sq,'-o',color=tuple(color_list[2*q+1]),LineWidth=2,label='rSVD, q = '+str(q))\n",
    "\n",
    "plt.legend()\n",
    "plt.show()"
   ]
  },
  {
   "cell_type": "code",
   "execution_count": null,
   "id": "8d09f325",
   "metadata": {},
   "outputs": [],
   "source": []
  }
 ],
 "metadata": {
  "kernelspec": {
   "display_name": "Python 3",
   "language": "python",
   "name": "python3"
  }
 },
 "nbformat": 4,
 "nbformat_minor": 5
}
