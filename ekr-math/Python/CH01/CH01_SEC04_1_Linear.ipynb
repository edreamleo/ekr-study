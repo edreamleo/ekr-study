{
 "cells": [
  {
   "cell_type": "code",
   "execution_count": null,
   "id": "373b1c6c",
   "metadata": {
    "lines_to_next_cell": 2
   },
   "outputs": [],
   "source": [
    "import matplotlib.pyplot as plt\n",
    "import numpy as np\n",
    "plt.rcParams['figure.figsize'] = [8, 8]\n",
    "plt.rcParams.update({'font.size': 18})\n",
    "\n",
    "x = 3 # True slope\n",
    "a = np.arange(-2,2,0.25)\n",
    "a = a.reshape(-1, 1)\n",
    "b = x*a + np.random.randn(*a.shape) # Add noise\n",
    "\n",
    "plt.plot(a, x*a, Color='k', LineWidth=2, label='True line') # True relationship\n",
    "plt.plot(a, b, 'x', Color='r', MarkerSize = 10, label='Noisy data') # Noisy measurements\n",
    "\n",
    "U, S, VT = np.linalg.svd(a,full_matrices=False)\n",
    "xtilde = VT.T @ np.linalg.inv(np.diag(S)) @ U.T @ b # Least-square fit\n",
    "\n",
    "plt.plot(a,xtilde * a,'--',Color='b',LineWidth=4, label='Regression line')\n",
    "\n",
    "plt.xlabel('a')\n",
    "plt.ylabel('b')\n",
    "\n",
    "plt.grid(linestyle='--')\n",
    "plt.legend()\n",
    "plt.show()"
   ]
  },
  {
   "cell_type": "code",
   "execution_count": null,
   "id": "e9930aa0",
   "metadata": {},
   "outputs": [],
   "source": [
    "# Three methods of computing regression\n",
    "\n",
    "xtilde1 = VT.T @ np.linalg.inv(np.diag(S)) @ U.T @ b\n",
    "xtilde2 = np.linalg.pinv(a) @ b\n",
    "\n",
    "# The third method is specific to Matlab:\n",
    "# xtilde3 = regress(b,a)"
   ]
  }
 ],
 "metadata": {
  "kernelspec": {
   "display_name": "Python 3",
   "language": "python",
   "name": "python3"
  }
 },
 "nbformat": 4,
 "nbformat_minor": 5
}
