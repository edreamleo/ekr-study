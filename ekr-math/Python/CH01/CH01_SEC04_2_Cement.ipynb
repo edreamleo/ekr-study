{
 "cells": [
  {
   "cell_type": "code",
   "execution_count": null,
   "id": "fcee62b6",
   "metadata": {},
   "outputs": [],
   "source": [
    "import matplotlib.pyplot as plt\n",
    "import numpy as np\n",
    "import os\n",
    "plt.rcParams['figure.figsize'] = [8, 8]\n",
    "plt.rcParams.update({'font.size': 18})\n",
    "\n",
    "# Load dataset\n",
    "A = np.loadtxt(os.path.join('..','DATA','hald_ingredients.csv'),delimiter=',')\n",
    "b = np.loadtxt(os.path.join('..','DATA','hald_heat.csv'),delimiter=',')\n",
    "\n",
    "# Solve Ax=b using SVD\n",
    "U, S, VT = np.linalg.svd(A,full_matrices=0)\n",
    "x = VT.T @ np.linalg.inv(np.diag(S)) @ U.T @ b\n",
    "\n",
    "plt.plot(b, Color='k', LineWidth=2, label='Heat Data') # True relationship\n",
    "plt.plot(A@x, '-o', Color='r', LineWidth=1.5, MarkerSize=6, label='Regression')\n",
    "plt.legend()\n",
    "plt.show()"
   ]
  },
  {
   "cell_type": "code",
   "execution_count": null,
   "id": "0532914e",
   "metadata": {},
   "outputs": [],
   "source": [
    "# Alternative Methods:\n",
    "\n",
    "# The first alternative is specific to Matlab:\n",
    "# x = regress(b,A)\n",
    "\n",
    "# Alternative 2:\n",
    "x = np.linalg.pinv(A)*b"
   ]
  },
  {
   "cell_type": "code",
   "execution_count": null,
   "id": "c6f24f84",
   "metadata": {},
   "outputs": [],
   "source": []
  }
 ],
 "metadata": {
  "kernelspec": {
   "display_name": "Python 3",
   "language": "python",
   "name": "python3"
  }
 },
 "nbformat": 4,
 "nbformat_minor": 5
}
