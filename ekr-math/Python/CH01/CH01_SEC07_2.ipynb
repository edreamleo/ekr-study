{
 "cells": [
  {
   "cell_type": "code",
   "execution_count": null,
   "id": "a4a181f3",
   "metadata": {
    "lines_to_next_cell": 2
   },
   "outputs": [],
   "source": [
    "import matplotlib.pyplot as plt\n",
    "import numpy as np\n",
    "import scipy.misc\n",
    "plt.rcParams['figure.figsize'] = [8,8]\n",
    "plt.rcParams.update({'font.size': 18})\n",
    "\n",
    "n = 1000\n",
    "q = int(n/4)\n",
    "X = np.zeros((n,n))\n",
    "X[(q-1):(3*q),(q-1):(3*q)] = 1\n",
    "\n",
    "plt.imshow(X)\n",
    "plt.set_cmap('gray')\n",
    "plt.axis('off')\n",
    "plt.title('Unrotated Matrix')\n",
    "plt.show()"
   ]
  },
  {
   "cell_type": "code",
   "execution_count": null,
   "id": "f7216d88",
   "metadata": {},
   "outputs": [],
   "source": [
    "X_rot = skimage.transform.rotate(X,10)\n",
    "X_rot[np.nonzero(X_rot)] = 1\n",
    "\n",
    "\n",
    "plt.imshow(Y)\n",
    "plt.set_cmap('gray')\n",
    "plt.axis('off')\n",
    "plt.title('Rotated Matrix')\n",
    "plt.show()"
   ]
  },
  {
   "cell_type": "code",
   "execution_count": null,
   "id": "b4408fe2",
   "metadata": {},
   "outputs": [],
   "source": [
    "U, S, VT = np.linalg.svd(X,full_matrices=0)\n",
    "\n",
    "\n",
    "plt.semilogy(S,'-o',color='k')\n",
    "plt.ylim((10**(-16),10**(4)+1))\n",
    "plt.yticks(np.power(10,np.arange(-16,4,4, dtype=float)))\n",
    "plt.xticks(np.arange(0,1000,250))\n",
    "plt.grid()\n",
    "plt.title('Unrotated Matrix: Spectrum')\n",
    "plt.show()"
   ]
  },
  {
   "cell_type": "code",
   "execution_count": null,
   "id": "1078587d",
   "metadata": {},
   "outputs": [],
   "source": [
    "U_rot, S_rot, VT_rot = np.linalg.svd(X_rot,full_matrices=0)\n",
    "\n",
    "plt.semilogy(S_rot,'-o',color='k')\n",
    "plt.ylim((10**(-16),10**(4)+1))\n",
    "plt.yticks(np.power(10,np.arange(-16,4,4, dtype=float)))\n",
    "plt.xticks(np.arange(0,1000,250))\n",
    "plt.grid()\n",
    "plt.title('Rotated Matrix: Spectrum')\n",
    "plt.show()"
   ]
  },
  {
   "cell_type": "code",
   "execution_count": null,
   "id": "ffed6025",
   "metadata": {},
   "outputs": [],
   "source": []
  }
 ],
 "metadata": {
  "kernelspec": {
   "display_name": "Python 3",
   "language": "python",
   "name": "python3"
  }
 },
 "nbformat": 4,
 "nbformat_minor": 5
}
