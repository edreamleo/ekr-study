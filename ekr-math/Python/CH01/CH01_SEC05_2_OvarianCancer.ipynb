{
 "cells": [
  {
   "cell_type": "code",
   "execution_count": null,
   "id": "a1ae19c8",
   "metadata": {},
   "outputs": [],
   "source": [
    "import matplotlib.pyplot as plt\n",
    "import numpy as np\n",
    "import os\n",
    "from mpl_toolkits.mplot3d import Axes3D\n",
    "plt.rcParams['figure.figsize'] = [16, 8]\n",
    "plt.rcParams.update({'font.size': 18})\n",
    "\n",
    "\n",
    "obs = np.loadtxt(os.path.join('..','DATA','ovariancancer_obs.csv'),delimiter=',')\n",
    "\n",
    "f = open(os.path.join('..','DATA','ovariancancer_grp.csv'), \"r\")\n",
    "grp = f.read().split(\"\\n\")\n",
    "\n",
    "U, S, VT = np.linalg.svd(obs,full_matrices=0)\n",
    "\n",
    "fig1 = plt.figure()\n",
    "ax1 = fig1.add_subplot(121)\n",
    "ax1.semilogy(S,'-o',color='k')\n",
    "ax2 = fig1.add_subplot(122)\n",
    "ax2.plot(np.cumsum(S)/np.sum(S),'-o',color='k')\n",
    "\n",
    "plt.show()"
   ]
  },
  {
   "cell_type": "code",
   "execution_count": null,
   "id": "3ad34d2f",
   "metadata": {},
   "outputs": [],
   "source": [
    "fig2 = plt.figure()\n",
    "ax = fig2.add_subplot(111, projection='3d')\n",
    "\n",
    "for j in range(obs.shape[0]):\n",
    "    x = VT[0,:] @ obs[j,:].T\n",
    "    y = VT[1,:] @ obs[j,:].T\n",
    "    z = VT[2,:] @ obs[j,:].T\n",
    "    \n",
    "    if grp[j] == 'Cancer':\n",
    "        ax.scatter(x,y,z,marker='x',color='r',s=50)\n",
    "    else:\n",
    "        ax.scatter(x,y,z,marker='o',color='b',s=50)\n",
    "\n",
    "ax.view_init(25,20)\n",
    "plt.show()"
   ]
  }
 ],
 "metadata": {
  "kernelspec": {
   "display_name": "Python 3",
   "language": "python",
   "name": "python3"
  }
 },
 "nbformat": 4,
 "nbformat_minor": 5
}
