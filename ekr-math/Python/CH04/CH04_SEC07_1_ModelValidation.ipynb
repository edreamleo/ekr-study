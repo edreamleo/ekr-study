{
 "cells": [
  {
   "cell_type": "code",
   "execution_count": null,
   "id": "5e2a32b3",
   "metadata": {},
   "outputs": [],
   "source": [
    "import numpy as np\n",
    "import matplotlib.pyplot as plt\n",
    "from matplotlib import rcParams\n",
    "\n",
    "\n",
    "rcParams.update({'font.size': 18})\n",
    "plt.rcParams['figure.figsize'] = [12, 12]"
   ]
  },
  {
   "cell_type": "code",
   "execution_count": null,
   "id": "56dbf57f",
   "metadata": {
    "lines_to_next_cell": 2
   },
   "outputs": [],
   "source": [
    "n = 10000\n",
    "x1 = np.random.randn(n) # \"truth\" model (data)\n",
    "x2 = 0.8 * np.random.randn(n) + 1 # model 1\n",
    "x3 = 0.5 * np.random.randn(n) - 1 # model 3 components\n",
    "x4 = 0.7 * np.random.randn(n) - 3\n",
    "x5 = 5.0 * np.random.rand(n) - 0.5 \n",
    "\n",
    "x = np.arange(-6,6.01,0.01) # range for data\n",
    "x_bincenters = np.arange(-6.005,6.01,0.01)"
   ]
  },
  {
   "cell_type": "code",
   "execution_count": null,
   "id": "a65efc1b",
   "metadata": {},
   "outputs": [],
   "source": [
    "f = np.histogram(x1,bins=x_bincenters)[0] + 0.01 # generate PDFs\n",
    "g1 = np.histogram(x2,bins=x_bincenters)[0] + 0.01\n",
    "g2a = np.histogram(x3,bins=x_bincenters)[0]\n",
    "g2b = np.histogram(x4,bins=x_bincenters)[0]\n",
    "g2 = g2a + 0.3*g2b + 0.01\n",
    "g3 = np.histogram(x5,bins=x_bincenters)[0] + 0.01\n",
    "\n",
    "f = f/np.trapz(f,x) # normalize data\n",
    "g1 = g1/np.trapz(g1,x)\n",
    "g2 = g2/np.trapz(g2,x)\n",
    "g3 = g3/np.trapz(g3,x)\n",
    "\n",
    "plt.figure()\n",
    "plt.plot(x,f,LineWidth=2,label='f')\n",
    "plt.plot(x,g1,LineWidth=2,label='g1')\n",
    "plt.plot(x,g2,LineWidth=2,label='g2')\n",
    "plt.plot(x,g3,LineWidth=2,label='g3')\n",
    "plt.legend()\n",
    "plt.show()"
   ]
  },
  {
   "cell_type": "code",
   "execution_count": null,
   "id": "1f08398a",
   "metadata": {},
   "outputs": [],
   "source": [
    "# Compute integrand\n",
    "Int1 = f * np.log(np.divide(f,g1))\n",
    "Int2 = f * np.log(np.divide(f,g2))\n",
    "Int3 = f * np.log(np.divide(f,g3))\n",
    "\n",
    "# KL divergence\n",
    "I1 = np.trapz(Int1,x)\n",
    "I2 = np.trapz(Int2,x)\n",
    "I3 = np.trapz(Int3,x)"
   ]
  },
  {
   "cell_type": "code",
   "execution_count": null,
   "id": "febf97e2",
   "metadata": {},
   "outputs": [],
   "source": []
  }
 ],
 "metadata": {
  "kernelspec": {
   "display_name": "Python 3",
   "language": "python",
   "name": "python3"
  }
 },
 "nbformat": 4,
 "nbformat_minor": 5
}
