{
 "cells": [
  {
   "cell_type": "code",
   "execution_count": null,
   "id": "f4bb0df7",
   "metadata": {
    "lines_to_next_cell": 2
   },
   "outputs": [],
   "source": [
    "import numpy as np\n",
    "import matplotlib.pyplot as plt\n",
    "from matplotlib.patches import Rectangle\n",
    "from matplotlib import rcParams\n",
    "rcParams.update({'font.size': 18})\n",
    "plt.rcParams['figure.figsize'] = [8,8]"
   ]
  },
  {
   "cell_type": "code",
   "execution_count": null,
   "id": "77b2917d",
   "metadata": {},
   "outputs": [],
   "source": [
    "fig,ax = plt.subplots(1)\n",
    "x = np.arange(0.2,5,0.1)\n",
    "y = np.divide(1,x)\n",
    "\n",
    "x2 = np.copy(x)\n",
    "n = len(x2)\n",
    "y2 = np.divide(1,x2) + 0.5*np.random.randn(n)\n",
    "\n",
    "y3 = (np.tile(y2,(5,1)) + 2*np.random.rand(5,n) + 1)\n",
    "y3 = np.reshape(y3,-1)\n",
    "x3 = np.tile(x,(1,5)).reshape(-1)\n",
    "\n",
    "plt.plot(x,y,color='k',LineWidth=2)\n",
    "\n",
    "rect = Rectangle((0.5,0.4), 0.9, 1.6,LineWidth=1,edgecolor='k',facecolor='grey',alpha=0.6) \n",
    "ax.add_patch(rect)\n",
    "\n",
    "plt.scatter(x2,y2,100,color='magenta',edgecolors='k')\n",
    "plt.scatter(x3,y3,100,color='lime',edgecolors='k')\n",
    "\n",
    "\n",
    "plt.xlim(0.2,4)\n",
    "plt.ylim(0,5.5)\n",
    "\n",
    "plt.show()"
   ]
  },
  {
   "cell_type": "code",
   "execution_count": null,
   "id": "5ac3427f",
   "metadata": {},
   "outputs": [],
   "source": []
  }
 ],
 "metadata": {
  "kernelspec": {
   "display_name": "Python 3",
   "language": "python",
   "name": "python3"
  }
 },
 "nbformat": 4,
 "nbformat_minor": 5
}
