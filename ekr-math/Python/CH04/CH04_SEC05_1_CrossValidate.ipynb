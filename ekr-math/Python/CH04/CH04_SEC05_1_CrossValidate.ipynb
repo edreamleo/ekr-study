{
 "cells": [
  {
   "cell_type": "code",
   "execution_count": null,
   "id": "3fecb386",
   "metadata": {
    "lines_to_next_cell": 2
   },
   "outputs": [],
   "source": [
    "import numpy as np\n",
    "import matplotlib.pyplot as plt\n",
    "from matplotlib.patches import Rectangle\n",
    "from matplotlib import rcParams\n",
    "rcParams.update({'font.size': 18})\n",
    "plt.rcParams['figure.figsize'] = [8,8]"
   ]
  },
  {
   "cell_type": "code",
   "execution_count": null,
   "id": "c88d70bb",
   "metadata": {},
   "outputs": [],
   "source": [
    "n = 200\n",
    "L = 8\n",
    "x = np.linspace(0,L,n)\n",
    "x1 = x[:100]    # Train\n",
    "x2 = x[100:200] # Test\n",
    "n1 = len(x1)\n",
    "n2 = len(x2)\n",
    "ftrain = np.power(x1,2) # Train parabola x = [0,4]\n",
    "ftest = np.power(x2,2)  # Test parabola x = [4,8]\n",
    "\n",
    "plt.plot(x1,ftrain,color='r',LineWidth=2)\n",
    "plt.plot(x2,ftest,color='b',LineWidth=2)\n",
    "plt.show()\n",
    "M = 30 # number of model terms\n",
    "Eni = np.zeros((100,M))\n",
    "Ene = np.zeros((100,M))\n",
    "for jj in range(M):\n",
    "    phi_i = np.zeros((n1,jj+1))\n",
    "    phi_e = np.zeros((n2,jj+1))\n",
    "    for j in range(jj):\n",
    "        phi_i[:,j] = np.power(x1,j) # interpolation key\n",
    "        phi_e[:,j] = np.power(x2,j) # extrapolation key\n",
    "    \n",
    "    f = np.power(x,2)\n",
    "    for j in range(100):\n",
    "        fni = np.power(x1,2) + 0.1*np.random.randn(n1) # interpolation\n",
    "        fne = np.power(x2,2) + 0.1*np.random.randn(n2) # extrapolation\n",
    "        \n",
    "        ani = np.linalg.pinv(phi_i) @ fni\n",
    "        fnai = phi_i @ ani\n",
    "        Eni[j,jj] = np.linalg.norm(ftrain-fnai,ord=2)/np.linalg.norm(ftrain,ord=2)\n",
    "        \n",
    "        fnae = phi_e @ ani # use loadings from x in [0,4]\n",
    "        Ene[j,jj] = np.linalg.norm(ftest-fnae,ord=2)/np.linalg.norm(ftest,ord=2)\n",
    "        \n",
    "        "
   ]
  },
  {
   "cell_type": "code",
   "execution_count": null,
   "id": "7efea4d1",
   "metadata": {
    "lines_to_next_cell": 2
   },
   "outputs": [],
   "source": [
    "fig,axs = plt.subplots(2,2)\n",
    "axs = axs.reshape(-1)\n",
    "\n",
    "axs[0].boxplot(Eni)\n",
    "axs[0].set_ylim(0,0.7)\n",
    "axs[1].boxplot(Eni)\n",
    "axs[1].set_ylim(0,0.02)\n",
    "axs[2].boxplot(Ene)\n",
    "axs[3].boxplot(np.log(Ene+1))\n",
    "axs[3].set_ylim(0,30)\n",
    "\n",
    "for ax in axs:\n",
    "    ax.set_xticks((1,5,10,15,20,25,30))\n",
    "    ax.set_xticklabels((1,5,10,15,20,25,30))\n",
    "\n",
    "plt.show()"
   ]
  },
  {
   "cell_type": "code",
   "execution_count": null,
   "id": "8cdff8cb",
   "metadata": {},
   "outputs": [],
   "source": []
  }
 ],
 "metadata": {
  "kernelspec": {
   "display_name": "Python 3",
   "language": "python",
   "name": "python3"
  }
 },
 "nbformat": 4,
 "nbformat_minor": 5
}
