{
 "cells": [
  {
   "cell_type": "code",
   "execution_count": null,
   "id": "5f706818",
   "metadata": {},
   "outputs": [],
   "source": [
    "import numpy as np\n",
    "import matplotlib.pyplot as plt\n",
    "from scipy.optimize import minimize\n",
    "from scipy.optimize import fmin\n",
    "from matplotlib import rcParams\n",
    "rcParams.update({'font.size': 18})"
   ]
  },
  {
   "cell_type": "code",
   "execution_count": null,
   "id": "ba1d8f7b",
   "metadata": {},
   "outputs": [],
   "source": [
    "# Underdetermined\n",
    "n = 20\n",
    "m = 100\n",
    "A = np.random.rand(n,m)\n",
    "b = np.random.rand(n)\n",
    "\n",
    "def two_norm(x):\n",
    "    return np.linalg.norm(x,ord=2)\n",
    "\n",
    "constr = ({'type': 'eq', 'fun': lambda x:  A @ x - b})\n",
    "x0 = np.random.rand(m)\n",
    "res = minimize(two_norm, x0, method='SLSQP',constraints=constr)\n",
    "x2 = res.x\n",
    "\n",
    "def one_norm(x):\n",
    "    return np.linalg.norm(x,ord=1)\n",
    "\n",
    "res = minimize(one_norm, x0, method='SLSQP',constraints=constr)\n",
    "x1 = res.x"
   ]
  },
  {
   "cell_type": "code",
   "execution_count": null,
   "id": "dd65ef17",
   "metadata": {},
   "outputs": [],
   "source": [
    "plt.rcParams['figure.figsize'] = [12, 8]\n",
    "fig,axs = plt.subplots(2,2)\n",
    "axs = axs.reshape(-1)\n",
    "\n",
    "axs[0].bar(range(m),x2)\n",
    "axs[0].set_title('x2')\n",
    "axs[1].bar(range(m),x1)\n",
    "axs[1].set_title('x1')\n",
    "\n",
    "axs[2].hist(x2,40)\n",
    "axs[3].hist(x1,40)\n",
    "\n",
    "\n",
    "plt.show()"
   ]
  },
  {
   "cell_type": "code",
   "execution_count": null,
   "id": "f075d6ed",
   "metadata": {
    "lines_to_next_cell": 2
   },
   "outputs": [],
   "source": [
    "# Overdetermined\n",
    "n = 500\n",
    "m = 100\n",
    "A = np.random.rand(n,m)\n",
    "b = np.random.rand(n)\n",
    "\n",
    "xdag = np.linalg.pinv(A)@b\n",
    "\n",
    "lam = np.array([0, 0.1, 0.5])\n",
    "\n",
    "\n",
    "\n",
    "def reg_norm(x,A,b,lam):\n",
    "    return np.linalg.norm(A@x-b,ord=2) + lam*np.linalg.norm(x,ord=1)\n",
    "\n",
    "fig,axs = plt.subplots(len(lam),2)\n",
    "for j in range(len(lam)):\n",
    "    res = minimize(reg_norm,args=(A,b,lam[j]),x0=xdag)\n",
    "    x = res.x\n",
    "    axs[j,0].bar(range(m),x)\n",
    "    axs[j,0].set_ylabel('lam='+str(lam[j]))\n",
    "    axs[j,1].hist(x,20)\n",
    "    axs[j,1].set_xlim(-0.15,0.15)"
   ]
  },
  {
   "cell_type": "code",
   "execution_count": null,
   "id": "c26230db",
   "metadata": {},
   "outputs": [],
   "source": [
    "## Matrix Overdetermined System\n",
    "plt.rcParams['figure.figsize'] = [12, 12]\n",
    "\n",
    "# overdetermined\n",
    "n = 300\n",
    "m = 60\n",
    "p = 20\n",
    "A = np.random.rand(n,m)\n",
    "b = np.random.rand(n,p)\n",
    "lam = np.array([0,0.1])\n",
    "\n",
    "xdag = np.linalg.pinv(A)@b\n",
    "xdag = xdag.reshape(-1)\n",
    "\n",
    "def reg_norm_2d(x,A,b,lam,m,p):\n",
    "    # scipy minimize() does not accept multidimensional x\n",
    "    # To get around this, we pass x as a vector and reshape it\n",
    "    x = np.reshape(x,(m,p))\n",
    "    return np.linalg.norm(A@x-b,ord=2) + lam*np.linalg.norm(x,ord=1)\n",
    "\n",
    "\n",
    "fig,axs = plt.subplots(len(lam),1)\n",
    "for j in range(len(lam)):\n",
    "    res = minimize(reg_norm_2d,args=(A,b,lam[j],m,p),x0=xdag)\n",
    "    x = res.x\n",
    "    x = x.reshape(m,p)\n",
    "    x_pcolor = axs[j].pcolor(x.T,cmap='hot')\n",
    "    fig.colorbar(x_pcolor, ax=axs[j])\n",
    "    axs[j].set_ylabel('lam='+str(lam[j]))\n",
    "    \n",
    "plt.show()"
   ]
  },
  {
   "cell_type": "code",
   "execution_count": null,
   "id": "46a5d958",
   "metadata": {},
   "outputs": [],
   "source": []
  }
 ],
 "metadata": {
  "kernelspec": {
   "display_name": "Python 3",
   "language": "python",
   "name": "python3"
  }
 },
 "nbformat": 4,
 "nbformat_minor": 5
}
