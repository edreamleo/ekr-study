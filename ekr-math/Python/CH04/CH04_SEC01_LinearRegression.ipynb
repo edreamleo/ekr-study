{
 "cells": [
  {
   "cell_type": "code",
   "execution_count": null,
   "id": "236d5f7a",
   "metadata": {},
   "outputs": [],
   "source": [
    "import numpy as np\n",
    "import matplotlib.pyplot as plt\n",
    "import scipy.optimize\n",
    "from matplotlib import rcParams\n",
    "rcParams['figure.figsize'] = [12, 8]\n",
    "rcParams.update({'font.size': 18})\n",
    "\n",
    "\n",
    "# Function definitions\n",
    "def fit1(x0,t):\n",
    "    x,y=t\n",
    "    return np.max(np.abs(x0[0]*x + x0[1]-y))\n",
    "def fit2(x0,t):\n",
    "    x,y=t\n",
    "    return np.sum(np.abs(x0[0]*x + x0[1]-y))\n",
    "def fit3(x0,t):\n",
    "    x,y=t\n",
    "    return np.sum(np.power(np.abs(x0[0]*x + x0[1]-y),2))"
   ]
  },
  {
   "cell_type": "code",
   "execution_count": null,
   "id": "7856d854",
   "metadata": {},
   "outputs": [],
   "source": [
    "# The data\n",
    "x = np.arange(1,11)\n",
    "y = np.array([0.2,0.5,0.3,3.5,1.0,1.5,1.8,2.0,2.3,2.2])\n",
    "t = (x,y)\n",
    "\n",
    "x0 = np.array([1,1])\n",
    "p1 = scipy.optimize.fmin(fit1,x0,args=(t,));\n",
    "p2 = scipy.optimize.fmin(fit2,x0,args=(t,));\n",
    "p3 = scipy.optimize.fmin(fit3,x0,args=(t,));\n",
    "\n",
    "xf = np.arange(0,11,0.1)\n",
    "y1 = np.polyval(p1,xf)\n",
    "y2 = np.polyval(p2,xf)\n",
    "y3 = np.polyval(p3,xf)\n",
    "\n",
    "plt.figure()\n",
    "plt.plot(xf,y1,color='k',label='E_\\infty')\n",
    "plt.plot(xf,y2,'--',color='k',LineWidth=2,label='E_1')\n",
    "plt.plot(xf,y3,color='k',LineWidth=2,label='E_2')\n",
    "plt.plot(x,y,'o',color='r',LineWidth=2)\n",
    "\n",
    "plt.ylim(0,4)\n",
    "plt.legend()\n",
    "plt.show()"
   ]
  },
  {
   "cell_type": "code",
   "execution_count": null,
   "id": "60201b6f",
   "metadata": {},
   "outputs": [],
   "source": [
    "x = np.arange(1,11)\n",
    "y = np.array([0.2,0.5,0.3,0.7,1.0,1.5,1.8,2.0,2.3,2.2])\n",
    "t = (x,y)\n",
    "\n",
    "x0 = np.array([1,1])\n",
    "p1 = scipy.optimize.fmin(fit1,x0,args=(t,));\n",
    "p2 = scipy.optimize.fmin(fit2,x0,args=(t,));\n",
    "p3 = scipy.optimize.fmin(fit3,x0,args=(t,));\n",
    "\n",
    "xf = np.arange(0,11,0.1)\n",
    "y1 = np.polyval(p1,xf)\n",
    "y2 = np.polyval(p2,xf)\n",
    "y3 = np.polyval(p3,xf)\n",
    "\n",
    "plt.figure()\n",
    "plt.plot(xf,y1,color='k',label='E_\\infty')\n",
    "plt.plot(xf,y2,'--',color='k',LineWidth=2,label='E_1')\n",
    "plt.plot(xf,y3,color='k',LineWidth=2,label='E_2')\n",
    "plt.plot(x,y,'o',color='r',LineWidth=2)\n",
    "\n",
    "plt.ylim(0,4)\n",
    "plt.legend()\n",
    "plt.show()"
   ]
  },
  {
   "cell_type": "code",
   "execution_count": null,
   "id": "b7e33986",
   "metadata": {},
   "outputs": [],
   "source": []
  },
  {
   "cell_type": "code",
   "execution_count": null,
   "id": "1da95c33",
   "metadata": {},
   "outputs": [],
   "source": []
  }
 ],
 "metadata": {
  "kernelspec": {
   "display_name": "Python 3",
   "language": "python",
   "name": "python3"
  }
 },
 "nbformat": 4,
 "nbformat_minor": 5
}
