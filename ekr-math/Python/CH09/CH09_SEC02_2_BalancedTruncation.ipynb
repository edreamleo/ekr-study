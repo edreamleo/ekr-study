{
 "cells": [
  {
   "cell_type": "code",
   "execution_count": null,
   "id": "c6b6fe34",
   "metadata": {
    "lines_to_next_cell": 2
   },
   "outputs": [],
   "source": [
    "import numpy as np\n",
    "import matplotlib.pyplot as plt\n",
    "from matplotlib import rcParams\n",
    "from control.matlab import *\n",
    "import slycot\n",
    "import os\n",
    "from scipy import signal, io\n",
    "from scipy.linalg import fractional_matrix_power\n",
    "\n",
    "# Python control toolbox available at https://python-control.readthedocs.io/\n",
    "\n",
    "plt.rcParams['figure.figsize'] = [8, 8]\n",
    "plt.rcParams.update({'font.size': 18})"
   ]
  },
  {
   "cell_type": "code",
   "execution_count": null,
   "id": "35275c88",
   "metadata": {},
   "outputs": [],
   "source": [
    "testSys_mat = io.loadmat(os.path.join('..','DATA','testSys_ABCD.mat'))\n",
    "A = testSys_mat['A']\n",
    "B = testSys_mat['B']\n",
    "C = testSys_mat['C']\n",
    "D = testSys_mat['D']\n",
    "\n",
    "sysFull = ss(A,B,C,D,1)\n",
    "r = 10 # Reduced model order"
   ]
  },
  {
   "cell_type": "code",
   "execution_count": null,
   "id": "2c41fb0c",
   "metadata": {},
   "outputs": [],
   "source": [
    "## Plot Hankel Singular Values\n",
    "# n_stable = np.count_nonzero(np.logical_and(np.linalg.eigvals(sysFull.A).real >= 0, np.linalg.eigvals(sysFull.A).real <= 1))\n",
    "# sysFull_stable = balred(sysFull,n_stable,method='truncate',alpha=np.array([0,1])) # This is necessary to remove unstable eigenvalues\n",
    "# hsvs = hsvd(sysFull_stable) # Hankel singular values\n",
    "hsvs = hsvd(sysFull)"
   ]
  },
  {
   "cell_type": "code",
   "execution_count": null,
   "id": "ad756afd",
   "metadata": {},
   "outputs": [],
   "source": [
    "# Balanced truncation\n",
    "sysBT = balred(sysFull,r)"
   ]
  },
  {
   "cell_type": "code",
   "execution_count": null,
   "id": "d8aa86d9",
   "metadata": {},
   "outputs": [],
   "source": [
    "# Compute BPOD\n",
    "\n",
    "yFull = np.zeros((r*5+2,p,q))\n",
    "xFull = np.zeros((r*5+2,n,q))\n",
    "yAdj = np.zeros_like(yFull)\n",
    "xAdj = np.zeros_like(xFull)\n",
    "\n",
    "sysAdj = ss(sysFull.A.T,sysFull.C.T,sysFull.B.T,sysFull.D.T,1)\n",
    "\n",
    "for qi in range(q):\n",
    "    yFull[:,:,qi],_,xFull[:,:,qi] = impulse(sysFull,T=np.arange(0,(r*5+2),1),input=qi,return_x=True)\n",
    "    yAdj[:,:,qi],_,xAdj[:,:,qi] = impulse(sysAdj,T=np.arange(0,(r*5+2),1),input=qi,return_x=True)\n",
    "\n",
    "\n",
    "# Not the fastest way to compute, but illustrative\n",
    "# Both xAdj and xFull are size (length of t) * (number of states) * (number of inputs)\n",
    "\n",
    "\n",
    "HankelOC = np.zeros((q*(r*5+1),q*(r*5+1)))\n",
    "for i in range(xAdj.shape[0]-1): # start at 1 to avoid the D matrix\n",
    "    for j in range(xFull.shape[0]-1):\n",
    "        Ystar = np.swapaxes(np.squeeze(xAdj[i+1,:,:]),0,1);        \n",
    "        MarkovParameter = Ystar@np.squeeze(xFull[j+1,:,:]);\n",
    "        HankelOC[np.ix_(range(q*i,q*(i+1)),range(q*j,q*(j+1)))] = MarkovParameter\n",
    "\n",
    "U,Sig,VT = np.linalg.svd(HankelOC)\n",
    "Sig = np.diag(Sig)\n",
    "V = VT.T\n",
    "\n",
    "Xdata = np.zeros((n,q*(xFull.shape[0]-1)))\n",
    "Ydata = np.zeros((n,q*(xFull.shape[0]-1)))\n",
    "for i in range(xFull.shape[0]-1):\n",
    "    Xdata[:,range(q*i,q*(i+1))] = xFull[i+1,:,:]\n",
    "    Ydata[:,range(q*i,q*(i+1))] = xAdj[i+1,:,:]\n",
    "    \n",
    "Phi = Xdata @ V @ fractional_matrix_power(Sig,-1/2)\n",
    "Psi = Ydata @ U @ fractional_matrix_power(Sig,-1/2)\n",
    "\n",
    "Ar = Psi[:,:r].T @ sysFull.A @ Phi[:,:r]\n",
    "Br = Psi[:,:r].T @ sysFull.B\n",
    "Cr = sysFull.C @ Phi[:,:r]\n",
    "Dr = sysFull.D\n",
    "\n",
    "sysBPOD = ss(Ar,Br,Cr,Dr,1)"
   ]
  },
  {
   "cell_type": "code",
   "execution_count": null,
   "id": "d6945a4d",
   "metadata": {},
   "outputs": [],
   "source": [
    "## Plot impulse responses for all methods\n",
    "yout_full,tout_full = impulse(sysFull,np.arange(0,60,1))\n",
    "yout_BT,tout_BT = impulse(sysBT,np.arange(0,60,1))\n",
    "yout_BPOD,tout_BPOD = impulse(sysBPOD,np.arange(0,60,1))\n",
    "\n",
    "plt.plot(tout_full,yout_full,label='Full model, n=100')\n",
    "plt.plot(tout_BT,yout_BT,label='Balanced truncation, r=10')\n",
    "plt.plot(tout_BPOD,yout_BPOD,label='Balanced POD, r=10')\n",
    "plt.show()"
   ]
  },
  {
   "cell_type": "code",
   "execution_count": null,
   "id": "e7891334",
   "metadata": {},
   "outputs": [],
   "source": []
  }
 ],
 "metadata": {
  "kernelspec": {
   "display_name": "Python 3",
   "language": "python",
   "name": "python3"
  }
 },
 "nbformat": 4,
 "nbformat_minor": 5
}
