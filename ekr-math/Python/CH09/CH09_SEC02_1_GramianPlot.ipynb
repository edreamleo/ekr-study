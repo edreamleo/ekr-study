{
 "cells": [
  {
   "cell_type": "code",
   "execution_count": null,
   "id": "b943c507",
   "metadata": {
    "lines_to_next_cell": 2
   },
   "outputs": [],
   "source": [
    "import numpy as np\n",
    "import matplotlib.pyplot as plt\n",
    "from matplotlib import rcParams\n",
    "from control.matlab import *\n",
    "import slycot\n",
    "from scipy import signal\n",
    "from scipy.linalg import fractional_matrix_power\n",
    "# Python control toolbox available at https://python-control.readthedocs.io/\n",
    "\n",
    "plt.rcParams['figure.figsize'] = [8, 8]\n",
    "plt.rcParams.update({'font.size': 18})"
   ]
  },
  {
   "cell_type": "code",
   "execution_count": null,
   "id": "41c9ed9b",
   "metadata": {},
   "outputs": [],
   "source": [
    "A = np.array([[-0.75,1],[-0.3,-0.75]])\n",
    "B = np.array([2,1]).reshape((2,1))\n",
    "C = np.array([1,2])\n",
    "D = 0\n",
    "\n",
    "sys = ss(A,B,C,D)\n",
    "\n",
    "Wc = gram(sys,'c') # Controllability Gramian\n",
    "Wo = gram(sys,'o') # Observability Gramian\n",
    "\n",
    "sysb = balred(sys,len(B)) # Balance the system\n",
    "\n",
    "BWc = gram(sysb,'c') # Balanced Gramians\n",
    "BWo = gram(sysb,'o')"
   ]
  },
  {
   "cell_type": "code",
   "execution_count": null,
   "id": "2caa833f",
   "metadata": {},
   "outputs": [],
   "source": [
    "# Manually compute transform matrix for balanced Gramians\n",
    "_,Tu = np.linalg.eig(Wc@Wo)\n",
    "\n",
    "# Resolve sign ambiguity of eigenvectors\n",
    "for j in range(Tu.shape[1]):\n",
    "    if Tu[0,j] < 0:\n",
    "        Tu[:,j] = -Tu[:,j]\n",
    "        \n",
    "Sig_c = np.linalg.inv(Tu) @ Wc @ np.linalg.inv(Tu).T\n",
    "Sig_o = Tu.T @ Wo @ Tu\n",
    "Sig_s = fractional_matrix_power(Sig_c,1/4) @ fractional_matrix_power(Sig_o,-1/4)\n",
    "\n",
    "T = Tu @ Sig_s\n",
    "Ti = np.linalg.inv(T)"
   ]
  },
  {
   "cell_type": "code",
   "execution_count": null,
   "id": "472ac88b",
   "metadata": {},
   "outputs": [],
   "source": [
    "## Plot Gramians\n",
    "theta = np.arange(0,2*np.pi,0.01)\n",
    "xc = np.cos(theta)\n",
    "yc = np.sin(theta)\n",
    "CIRC = np.row_stack((xc,yc))\n",
    "\n",
    "# Off-diagonals should be within machine precision of 0, but\n",
    "# in case that machine error is negative we manually threshold them:\n",
    "BWc[BWc<0] = 0\n",
    "BWo[BWo<0] = 0\n",
    "\n",
    "ELLIPb = Ti @ np.sqrt(BWc) @ T @ CIRC\n",
    "ELLIPc = np.sqrt(Wc) @ CIRC\n",
    "ELLIPo = np.sqrt(Wo) @ CIRC"
   ]
  },
  {
   "cell_type": "code",
   "execution_count": null,
   "id": "d00f6451",
   "metadata": {},
   "outputs": [],
   "source": [
    "plt.plot(xc,yc,'k--',linewidth=2)\n",
    "\n",
    "# Draw controllability Gramian (unbalanced)\n",
    "plt.plot(ELLIPc[0,:],ELLIPc[1,:],'r',linewidth=2)\n",
    "plt.fill(ELLIPc[0,:],ELLIPc[1,:],'r',alpha=0.75)\n",
    "\n",
    "# Draw observability Gramian (unbalanced)\n",
    "plt.plot(ELLIPo[0,:],ELLIPo[1,:],'b',linewidth=2)\n",
    "plt.fill(ELLIPo[0,:],ELLIPo[1,:],'b',alpha=0.75)\n",
    "\n",
    "# Draw balanced Gramians\n",
    "plt.plot(ELLIPb[0,:],ELLIPb[1,:],color=(0.35,0,0.35),linewidth=2)\n",
    "plt.fill(ELLIPb[0,:],ELLIPb[1,:],color=(0.5,0,0.5),alpha=0.25)\n",
    "\n",
    "plt.show()"
   ]
  },
  {
   "cell_type": "code",
   "execution_count": null,
   "id": "76f3965d",
   "metadata": {},
   "outputs": [],
   "source": []
  }
 ],
 "metadata": {
  "kernelspec": {
   "display_name": "Python 3",
   "language": "python",
   "name": "python3"
  }
 },
 "nbformat": 4,
 "nbformat_minor": 5
}
